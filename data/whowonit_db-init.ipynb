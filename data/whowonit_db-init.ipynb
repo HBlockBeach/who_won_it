{
 "cells": [
  {
   "cell_type": "code",
   "execution_count": 162,
   "metadata": {},
   "outputs": [],
   "source": [
    "#Dependencies\n",
    "\n",
    "import pandas as pd\n",
    "from sqlalchemy import create_engine\n",
    "from sqlalchemy.orm import sessionmaker\n",
    "from sqlalchemy.ext.declarative import declarative_base\n",
    "from sqlalchemy import Table,Column,Integer,String,Float\n",
    "import glob\n",
    "import os\n",
    "from sqlalchemy import MetaData\n",
    "from sqlalchemy.orm import mapper"
   ]
  },
  {
   "cell_type": "code",
   "execution_count": 163,
   "metadata": {},
   "outputs": [],
   "source": [
    "#SQLAlchemy setup\n",
    "\n",
    "#Create engine that will allow us to communicate with database\n",
    "engine=create_engine('sqlite:///StatesDB7.sqlite',echo=False)\n",
    "\n",
    "#Creating session which is the middle ground to talk to our engine\n",
    "Session=sessionmaker(bind=engine)\n",
    "session=Session()\n",
    "\n",
    "#Map which table in database will be related to each class\n",
    "Base=declarative_base()\n",
    "\n",
    "#Create a metadata instance\n",
    "#A metadata is an object container that will store attributes and name of table \n",
    "metadata=MetaData(engine)"
   ]
  },
  {
   "cell_type": "code",
   "execution_count": 164,
   "metadata": {},
   "outputs": [],
   "source": [
    "#Define structure of table\n",
    "class state_table(object):\n",
    "    def __init__(self,number,description,ref_des):\n",
    "        self.Var1=Var1\n",
    "        self.year=year\n",
    "        self.state=state\n",
    "        self.winner=winner\n",
    "        self.winner_party=winner_party\n",
    "        self.totalvotes=totalvotes\n",
    "        self.Eligible_voting_pop =Eligible_voting_pop\n",
    "        self.electoralvotes=electoralvotes\n",
    "        self.winner_votes=winner_votes\n",
    "        self.winner_votes_percent=winner_votes_percent\n",
    "        self.margin=margin\n",
    "        self.second=second\n",
    "        self.second_party=second_party\n",
    "        self.second_votes=second_votes\n",
    "        self.second_votes_percent=second_votes_percent\n",
    "        self.third=third\n",
    "        self.third_party=third_party\n",
    "        self.third_votes=third_votes\n",
    "        self.third_votes_percent=third_votes_percent\n",
    "    \n",
    "    def __repr__(self):\n",
    "        return f'{self.Var1,self.year,self.state,self.winner,self.winner_party,self.totalvotes,self.Eligible_voting_pop,self.electoralvotes, self.winner_votes,self.winner_votes_percent,self.margin, self.second, self.second_party, self.second_votes, self.second_votes_percent, self.third, self.third_party, self.third_votes, self.third_votes_percent}'\n"
   ]
  },
  {
   "cell_type": "code",
   "execution_count": 165,
   "metadata": {},
   "outputs": [],
   "source": [
    "#Declaring a table using a function so as to dynamically create tables\n",
    "\n",
    "def table_definition(table_name):   \n",
    "    #Define table structure, here table_name varies\n",
    "    #We want to make table_define available outside function so we declare it as a function attribute\n",
    "    table_definition.table_define=Table(table_name,metadata,\n",
    "    Column('Var1',Integer,primary_key=True),\n",
    "    Column('year',Integer),\n",
    "    Column('state',String),\n",
    "    Column('winner',String),\n",
    "    Column('winner_party',String),\n",
    "    Column('totalvotes',Integer),\n",
    "    Column('Eligible_voting_pop',Integer),\n",
    "    Column('electoralvotes',Integer),\n",
    "    Column('winner_votes',Integer),\n",
    "    Column('winner_votes_percent',Float),\n",
    "    Column('margin',Float),\n",
    "    Column('second',String),\n",
    "    Column('second_party',String),\n",
    "    Column('second_votes',Integer),\n",
    "    Column('second_votes_percent',Float),\n",
    "    Column('third',String),\n",
    "    Column('third_party',String),\n",
    "    Column('third_votes',Integer),\n",
    "    Column('third_votes_percent',Float),\n",
    "\n",
    "\n",
    "    )\n",
    "    \n",
    "    #Create table\n",
    "    #Note that we used the engine from function\n",
    "    metadata.create_all(engine)\n",
    "    \n",
    "    #Use mapper to define components of class as well as table definition together at once\n",
    "    mapper(state_table,table_definition.table_define,non_primary=False)"
   ]
  },
  {
   "cell_type": "code",
   "execution_count": 166,
   "metadata": {},
   "outputs": [],
   "source": [
    "\n",
    "file_name=\"data_state_trimmed_3.csv\"\n",
    "file_name\n",
    "#Read file into dataframe\n",
    "csv_data=pd.read_csv(file_name)\n",
    "        \n",
    "#Convert dataframe to list and store in same variable\n",
    "csv_data=csv_data.values.tolist()\n",
    "\n",
    "table_definition('StateDBtable')\n",
    "\n",
    "for row in csv_data:\n",
    "    \n",
    "    #Each element in the list is an attribute for the table class\n",
    "    #Iterating through rows and inserting into table\n",
    "    ins=table_definition.table_define.insert().values(\n",
    "    Var1=row[0],year=row[1],state=row[2],winner=row[3],winner_party=row[4],totalvotes=row[5],Eligible_voting_pop=row[6],electoralvotes=row[7],winner_votes=row[8], winner_votes_percent=row[9],margin=row[10], second=row[11],second_party=row[12],second_votes=row[13],second_votes_percent=row[14], third=row[15],third_party=row[16],third_votes=row[17],third_votes_percent=row[18])\n",
    "    conn=engine.connect()\n",
    "    conn.execute(ins)\n",
    "\n",
    "# Reference to column names:\n",
    "# Var1,year,state,winner,winner_party,totalvotes,Eligible_voting_pop,electoralvotes,winner_votes,winner_votes_percent,margin,second,second_party,second_votes,second_votes_percent,third,third_party,third_votes,third_votes_percent"
   ]
  },
  {
   "cell_type": "code",
   "execution_count": 167,
   "metadata": {},
   "outputs": [
    {
     "output_type": "execute_result",
     "data": {
      "text/plain": "['StateDBtable']"
     },
     "metadata": {},
     "execution_count": 167
    }
   ],
   "source": [
    "from sqlalchemy.ext.automap import automap_base\n",
    "# engine = create_engine(\"sqlite:///StatesDB5.sqlite\")\n",
    "\n",
    "Base = automap_base() \n",
    "Base.prepare(engine, reflect=True) \n",
    "Base.classes.keys() "
   ]
  },
  {
   "cell_type": "code",
   "execution_count": null,
   "metadata": {},
   "outputs": [],
   "source": []
  }
 ],
 "metadata": {
  "language_info": {
   "codemirror_mode": {
    "name": "ipython",
    "version": 3
   },
   "file_extension": ".py",
   "mimetype": "text/x-python",
   "name": "python",
   "nbconvert_exporter": "python",
   "pygments_lexer": "ipython3",
   "version": "3.7.6-final"
  },
  "orig_nbformat": 2,
  "kernelspec": {
   "name": "python37664bitpythondataconda21399d1df6a047bba5356eeb6b3c0b48",
   "display_name": "Python 3.7.6 64-bit ('PythonData': conda)"
  }
 },
 "nbformat": 4,
 "nbformat_minor": 2
}