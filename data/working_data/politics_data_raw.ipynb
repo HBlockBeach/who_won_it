{
 "cells": [
  {
   "cell_type": "code",
   "execution_count": 56,
   "metadata": {},
   "outputs": [],
   "source": [
    "#import dependencies\n",
    "\n",
    "import pandas as pd"
   ]
  },
  {
   "cell_type": "code",
   "execution_count": 57,
   "metadata": {},
   "outputs": [],
   "source": [
    "#read in csvs\n",
    "\n",
    "electiondata = pd.read_csv(\"1976-2016-president.csv\")\n",
    "rate1 = pd.read_csv(\"1980-2014 November General Election - Turnout Rates.csv\")\n",
    "rate2 = pd.read_csv(\"2016 November General Election - Turnout Rates.csv\")\n",
    "electoralvotes = pd.read_csv(\"Available Electoral votes .csv\")"
   ]
  },
  {
   "cell_type": "code",
   "execution_count": 58,
   "metadata": {},
   "outputs": [],
   "source": [
    "####pull party info for normalization\n",
    "\n",
    "\n",
    "#parties = electiondata[[\"year\",\"state\",\"candidate\", \"party\"]]\n",
    "#parties.drop_duplicates(inplace=True)\n",
    "\n",
    "\n",
    "#parties.to_csv(\"allparties.csv\", index=False)\n",
    "#parties"
   ]
  },
  {
   "cell_type": "code",
   "execution_count": 59,
   "metadata": {},
   "outputs": [],
   "source": [
    "#clean up voting data \n",
    "\n",
    "#file one\n",
    "rate1.rename(columns={\"Unnamed: 0\": \"year\", \"Denominators\" : \"Eligible_voting_pop\"}, inplace= True)\n",
    "voting_data_1 = rate1[[\"year\", \"State\", \"Eligible_voting_pop\"]]\n",
    "voting_data_1 = voting_data_1.drop(voting_data_1.index[0])\n",
    "\n",
    "#file two\n",
    "rate2.rename(columns={\"Denominators\" : \"Eligible_voting_pop\"}, inplace= True)\n",
    "rate2[\"year\"] = '2016'\n",
    "voting_data_2 = rate2[[\"year\", \"State\", \"Eligible_voting_pop\"]]\n",
    "voting_data_2 = voting_data_2.drop(voting_data_2.index[0])"
   ]
  },
  {
   "cell_type": "code",
   "execution_count": 60,
   "metadata": {},
   "outputs": [],
   "source": [
    "#merge dataframes\n",
    "\n",
    "total_voting = voting_data_2.append(voting_data_1)"
   ]
  },
  {
   "cell_type": "code",
   "execution_count": 61,
   "metadata": {},
   "outputs": [],
   "source": [
    "#check dtypes on dataframes\n",
    "\n",
    "#total_voting.dtypes\n",
    "    #year is object\n",
    "\n",
    "#electiondata.dtypes\n",
    "    #year is int64"
   ]
  },
  {
   "cell_type": "code",
   "execution_count": 62,
   "metadata": {},
   "outputs": [],
   "source": [
    "#convert year to int for merge\n",
    "\n",
    "total_voting['year'] = total_voting.year.astype(str).astype(int)"
   ]
  },
  {
   "cell_type": "code",
   "execution_count": 63,
   "metadata": {},
   "outputs": [],
   "source": [
    "#merge dataframes \n",
    "\n",
    "merged_df = electiondata.merge(total_voting, how='left', left_on=['state','year'], right_on=[\"State\",\"year\"])\n"
   ]
  },
  {
   "cell_type": "code",
   "execution_count": 64,
   "metadata": {},
   "outputs": [],
   "source": [
    "#merge electoral college votes dataframe and drop columns\n",
    "\n",
    "working_df = merged_df.merge(electoralvotes, how='left', left_on=['state','year'], right_on=[\"State\",\"Year\"])\n",
    "final_working_df = working_df.drop(['state_po', 'state_fips', \"state_cen\", \"state_ic\", \"office\", \"version\", \"notes\", \"State ID\", \"State_x\",\"State_y\", \"Year\", \"writein\"], axis=1)\n"
   ]
  },
  {
   "cell_type": "code",
   "execution_count": 65,
   "metadata": {
    "tags": [
     "outputPrepend",
     "outputPrepend",
     "outputPrepend",
     "outputPrepend"
    ]
   },
   "outputs": [],
   "source": [
    "#create key for merge and man\n",
    "final_working_df[\"new\"] = final_working_df[\"candidate\"] + final_working_df[\"year\"].astype(str)\n",
    "\n",
    "final_working_df.replace(\"Mitt, Romney\", \"Romney, Mitt\", inplace=True)\n",
    "final_working_df.replace(\"Hedges, Jim\", \"Hedges, James\", inplace=True)\n",
    "final_working_df.replace(\"Haylard, Helen\", \"Halyard, Helen\", inplace=True)\n",
    "final_working_df.replace(\"Stevens, Thomas Robert \"\"Tom\"\"\", \"Stevens, Thomas R.\", inplace=True)\n",
    "final_working_df.replace(\"White, Jerry\", \"White, Jerome \"\"Jerry\"\"\", inplace=True)\n",
    "\n",
    "\n",
    "final_working_df[\"candidate\"] = final_working_df['candidate'].fillna(\"unknown\")\n",
    "final_working_df[\"party\"] = final_working_df['party'].fillna(\"unknown\")\n",
    "final_working_df[\"Eligible_voting_pop\"] = final_working_df[\"Eligible_voting_pop\"].fillna(.00000000000000000000000000000000000000000000000001)\n",
    "\n",
    "final_working_df[\"Eligible_voting_pop\"] = final_working_df[\"Eligible_voting_pop\"].replace({'\\$': '', ',': ''}, regex=True)\n",
    "final_working_df[\"Eligible_voting_pop\"] = final_working_df[\"Eligible_voting_pop\"].astype(str).astype(float).round(0)"
   ]
  },
  {
   "cell_type": "code",
   "execution_count": 66,
   "metadata": {},
   "outputs": [],
   "source": [
    "#read in manipulated party csv data\n",
    "\n",
    "allparties = pd.read_csv(\"allparties.csv\")\n",
    "\n",
    "#merge all parties with final working for normalized party info \n",
    "final_working_df = final_working_df.merge(allparties,how= \"left\", left_on= [\"candidate\", \"state\", \"year\"], right_on=[\"candidate\", \"state\", \"year\"])\n"
   ]
  },
  {
   "cell_type": "code",
   "execution_count": 67,
   "metadata": {},
   "outputs": [],
   "source": [
    "###TROUBLESHOOT CELL IGNORE!!!!\n",
    "\n",
    "#final_working_df = final_working_df.loc[final_working_df[\"year\"] == 2000]\n",
    "#final_working_df = final_working_df.loc[final_working_df[\"state\"] == \"Oregon\"]\n",
    "#final_working_df = final_working_df.loc[final_working_df[\"candidate\"] == 'Other']\n",
    "\n",
    "#final_working_df"
   ]
  },
  {
   "cell_type": "code",
   "execution_count": 68,
   "metadata": {},
   "outputs": [],
   "source": [
    "# fill join column for search and replace\n",
    "\n",
    "final_working_df[\"party_y\"] = final_working_df['party_y'].fillna(0)\n",
    "\n",
    "for row in final_working_df[\"party_y\"]:\n",
    "    final_working_df.loc[final_working_df[\"party_y\"] != 0, [\"party_x\"]] = final_working_df[\"party_y\"]"
   ]
  },
  {
   "cell_type": "code",
   "execution_count": 69,
   "metadata": {},
   "outputs": [],
   "source": [
    "#rename and drop\n",
    "\n",
    "final_working_df.rename(columns={\"party_x\" : \"party\"}, inplace=True)\n",
    "final_working_df = final_working_df.drop(\"party_y\", axis= 1)\n",
    "final_working_df = final_working_df.drop_duplicates()"
   ]
  },
  {
   "cell_type": "code",
   "execution_count": 70,
   "metadata": {},
   "outputs": [],
   "source": [
    "final_working_df = final_working_df.groupby([\"year\", \"state\", \"candidate\", \"party\", \"totalvotes\", \"Eligible_voting_pop\", \"electoralvotes\", \"new\"]).sum().reset_index()"
   ]
  },
  {
   "cell_type": "code",
   "execution_count": 71,
   "metadata": {},
   "outputs": [],
   "source": [
    "###TROUBLESHOOT CELL IGNORE!!!!\n",
    "\n",
    "#final_working_df = final_working_df.loc[final_working_df[\"year\"] == 2016]\n",
    "#final_working_df = final_working_df.loc[final_working_df[\"state\"] == \"Oregon\"]\n",
    "#final_working_df"
   ]
  },
  {
   "cell_type": "code",
   "execution_count": 72,
   "metadata": {},
   "outputs": [],
   "source": [
    "#find top candidates by popular vote\n",
    "\n",
    "find_top_candidates_df = final_working_df[[\"year\",\"candidate\", \"candidatevotes\"]]\n",
    "\n",
    "find_top_candidates_df = find_top_candidates_df.groupby([\"candidate\", \"year\"]).sum().reset_index()\n",
    "\n",
    "find_top_candidates_df= find_top_candidates_df.sort_values(by=[\"year\", \"candidatevotes\"], ascending=False).groupby(\"year\").head(2)\n",
    "\n",
    "top_candidates_df = pd.DataFrame(find_top_candidates_df)\n",
    "\n",
    "#create key for merge\n",
    "top_candidates_df[\"new\"] = top_candidates_df[\"candidate\"] + top_candidates_df[\"year\"].astype(str)\n",
    "\n",
    "#create dataframe with only key for merge\n",
    "#loop through to deduplicate \n",
    "only_winners = top_candidates_df[[\"new\"]]\n",
    "\n",
    "toppy = []\n",
    "for row in only_winners[\"new\"]:\n",
    "    if row not in toppy:\n",
    "        toppy.append(row)\n",
    "\n",
    "toppy=pd.DataFrame(toppy)"
   ]
  },
  {
   "cell_type": "code",
   "execution_count": 73,
   "metadata": {},
   "outputs": [],
   "source": [
    "#merge to create column for flag\n",
    "\n",
    "final_working_df = final_working_df.merge(toppy, how=\"left\", left_on= \"new\", right_on= 0)\n",
    "\n",
    "#fill na in new columnt with 0\n",
    "final_working_df[0] = final_working_df[0].fillna(0)"
   ]
  },
  {
   "cell_type": "code",
   "execution_count": 74,
   "metadata": {
    "tags": [
     "outputPrepend",
     "outputPrepend",
     "outputPrepend",
     "outputPrepend",
     "outputPrepend",
     "outputPrepend"
    ]
   },
   "outputs": [],
   "source": [
    "#using flag, change candidate name to other if not in top 2\n",
    "\n",
    "final_working_df.loc[final_working_df[0] == 0, [\"candidate\"]] = 'Other'\n",
    "\n",
    "#drop flag column\n",
    "final_working_df = final_working_df.drop([0], axis=1)"
   ]
  },
  {
   "cell_type": "code",
   "execution_count": 75,
   "metadata": {},
   "outputs": [],
   "source": [
    "find_top_candidates_state_df = final_working_df[[\"year\",\"state\",\"candidate\", \"candidatevotes\", \"new\"]]"
   ]
  },
  {
   "cell_type": "code",
   "execution_count": 76,
   "metadata": {},
   "outputs": [],
   "source": [
    "#sum candidate votes\n",
    "\n",
    "find_top_candidates_state_df = find_top_candidates_state_df.groupby([\"candidate\", \"year\", \"state\"]).sum().reset_index()\n",
    "\n",
    "#sort to get top candidate\n",
    "find_top_candidates_state_df= find_top_candidates_state_df.sort_values(by=[ \"year\",\"candidatevotes\", \"state\"], ascending=False)\n",
    "find_top_candidates_state_df = find_top_candidates_state_df.sort_values([\"year\", \"state\"]).groupby([\"state\",\"year\"]).head(1)\n",
    "\n",
    "#create key for merge\n",
    "find_top_candidates_state_df[\"new\"] = find_top_candidates_state_df[\"candidate\"] + find_top_candidates_state_df[\"year\"].astype(str)"
   ]
  },
  {
   "cell_type": "code",
   "execution_count": 77,
   "metadata": {},
   "outputs": [
    {
     "output_type": "execute_result",
     "data": {
      "text/plain": "      year    state         candidate                party  totalvotes  \\\n0     1976  Alabama             Other          prohibition     1182850   \n1     1976  Alabama     Carter, Jimmy             democrat     1182850   \n2     1976  Alabama      Ford, Gerald           republican     1182850   \n3     1976  Alabama             Other  communist party use     1182850   \n4     1976  Alabama             Other          libertarian     1182850   \n...    ...      ...               ...                  ...         ...   \n3361  2016  Wyoming             Other   constitution party      258788   \n3362  2016  Wyoming  Clinton, Hillary             democrat      258788   \n3363  2016  Wyoming             Other          libertarian      258788   \n3364  2016  Wyoming             Other              unknown      258788   \n3365  2016  Wyoming  Trump, Donald J.           republican      258788   \n\n      Eligible_voting_pop  electoralvotes  candidatevotes state_won_flag  \\\n0                     0.0             9.0            6669              0   \n1                     0.0             9.0          659170              1   \n2                     0.0             9.0          504070              0   \n3                     0.0             9.0            1954              0   \n4                     0.0             9.0            1481              0   \n...                   ...             ...             ...            ...   \n3361             429682.0             3.0            2042              0   \n3362             429682.0             3.0           55973              0   \n3363             429682.0             3.0           13287              0   \n3364             429682.0             3.0             278              0   \n3365             429682.0             3.0          174419              1   \n\n      percent_won  \n0            0.56  \n1           55.73  \n2           42.61  \n3            0.17  \n4            0.13  \n...           ...  \n3361         0.79  \n3362        21.63  \n3363         5.13  \n3364         0.11  \n3365        67.40  \n\n[3366 rows x 10 columns]",
      "text/html": "<div>\n<style scoped>\n    .dataframe tbody tr th:only-of-type {\n        vertical-align: middle;\n    }\n\n    .dataframe tbody tr th {\n        vertical-align: top;\n    }\n\n    .dataframe thead th {\n        text-align: right;\n    }\n</style>\n<table border=\"1\" class=\"dataframe\">\n  <thead>\n    <tr style=\"text-align: right;\">\n      <th></th>\n      <th>year</th>\n      <th>state</th>\n      <th>candidate</th>\n      <th>party</th>\n      <th>totalvotes</th>\n      <th>Eligible_voting_pop</th>\n      <th>electoralvotes</th>\n      <th>candidatevotes</th>\n      <th>state_won_flag</th>\n      <th>percent_won</th>\n    </tr>\n  </thead>\n  <tbody>\n    <tr>\n      <th>0</th>\n      <td>1976</td>\n      <td>Alabama</td>\n      <td>Other</td>\n      <td>prohibition</td>\n      <td>1182850</td>\n      <td>0.0</td>\n      <td>9.0</td>\n      <td>6669</td>\n      <td>0</td>\n      <td>0.56</td>\n    </tr>\n    <tr>\n      <th>1</th>\n      <td>1976</td>\n      <td>Alabama</td>\n      <td>Carter, Jimmy</td>\n      <td>democrat</td>\n      <td>1182850</td>\n      <td>0.0</td>\n      <td>9.0</td>\n      <td>659170</td>\n      <td>1</td>\n      <td>55.73</td>\n    </tr>\n    <tr>\n      <th>2</th>\n      <td>1976</td>\n      <td>Alabama</td>\n      <td>Ford, Gerald</td>\n      <td>republican</td>\n      <td>1182850</td>\n      <td>0.0</td>\n      <td>9.0</td>\n      <td>504070</td>\n      <td>0</td>\n      <td>42.61</td>\n    </tr>\n    <tr>\n      <th>3</th>\n      <td>1976</td>\n      <td>Alabama</td>\n      <td>Other</td>\n      <td>communist party use</td>\n      <td>1182850</td>\n      <td>0.0</td>\n      <td>9.0</td>\n      <td>1954</td>\n      <td>0</td>\n      <td>0.17</td>\n    </tr>\n    <tr>\n      <th>4</th>\n      <td>1976</td>\n      <td>Alabama</td>\n      <td>Other</td>\n      <td>libertarian</td>\n      <td>1182850</td>\n      <td>0.0</td>\n      <td>9.0</td>\n      <td>1481</td>\n      <td>0</td>\n      <td>0.13</td>\n    </tr>\n    <tr>\n      <th>...</th>\n      <td>...</td>\n      <td>...</td>\n      <td>...</td>\n      <td>...</td>\n      <td>...</td>\n      <td>...</td>\n      <td>...</td>\n      <td>...</td>\n      <td>...</td>\n      <td>...</td>\n    </tr>\n    <tr>\n      <th>3361</th>\n      <td>2016</td>\n      <td>Wyoming</td>\n      <td>Other</td>\n      <td>constitution party</td>\n      <td>258788</td>\n      <td>429682.0</td>\n      <td>3.0</td>\n      <td>2042</td>\n      <td>0</td>\n      <td>0.79</td>\n    </tr>\n    <tr>\n      <th>3362</th>\n      <td>2016</td>\n      <td>Wyoming</td>\n      <td>Clinton, Hillary</td>\n      <td>democrat</td>\n      <td>258788</td>\n      <td>429682.0</td>\n      <td>3.0</td>\n      <td>55973</td>\n      <td>0</td>\n      <td>21.63</td>\n    </tr>\n    <tr>\n      <th>3363</th>\n      <td>2016</td>\n      <td>Wyoming</td>\n      <td>Other</td>\n      <td>libertarian</td>\n      <td>258788</td>\n      <td>429682.0</td>\n      <td>3.0</td>\n      <td>13287</td>\n      <td>0</td>\n      <td>5.13</td>\n    </tr>\n    <tr>\n      <th>3364</th>\n      <td>2016</td>\n      <td>Wyoming</td>\n      <td>Other</td>\n      <td>unknown</td>\n      <td>258788</td>\n      <td>429682.0</td>\n      <td>3.0</td>\n      <td>278</td>\n      <td>0</td>\n      <td>0.11</td>\n    </tr>\n    <tr>\n      <th>3365</th>\n      <td>2016</td>\n      <td>Wyoming</td>\n      <td>Trump, Donald J.</td>\n      <td>republican</td>\n      <td>258788</td>\n      <td>429682.0</td>\n      <td>3.0</td>\n      <td>174419</td>\n      <td>1</td>\n      <td>67.40</td>\n    </tr>\n  </tbody>\n</table>\n<p>3366 rows × 10 columns</p>\n</div>"
     },
     "metadata": {},
     "execution_count": 77
    }
   ],
   "source": [
    "#merge dataframed for the state won flag\n",
    "\n",
    "state_winner_added = final_working_df.merge(find_top_candidates_state_df, how=\"left\", on= [\"new\", \"state\"], suffixes=('', 'drop'))\n",
    "\n",
    "#fill na in flag column for loc and change\n",
    "state_winner_added[\"candidatedrop\"] = state_winner_added[\"candidatedrop\"].fillna(0)\n",
    "\n",
    "#loc and change values\n",
    "state_winner_added.loc[state_winner_added[\"candidatedrop\"] != 0, [\"candidatedrop\"]] = '1'\n",
    "state_winner_added.loc[state_winner_added[\"candidatedrop\"] == 0, [\"candidatedrop\"]] = '0'\n",
    "\n",
    "#drop and rename columns\n",
    "state_winner_added = state_winner_added.drop([\"yeardrop\",  \"candidatevotesdrop\", \"new\"], axis=1).rename(columns={\"candidatedrop\": \"state_won_flag\"})\n",
    "\n",
    "#math for % won\n",
    "state_winner_added[\"percent_won\"] = (state_winner_added[\"candidatevotes\"] / state_winner_added[\"totalvotes\"] * 100).round(2)\n",
    "\n",
    "#for row in state_winner_added:\n",
    " #   party = state_winner_added[\"party\"]\n",
    "  #  state = state_winner_added[\"state_won_flag\"]\n",
    "\n",
    "   # if (party == \"democrat\") and (state == 1):\n",
    "    #    state_winner_added.percent_won = state_winner_added.percent_won * -1\n",
    "\n",
    "\n",
    "final_df = state_winner_added\n",
    "\n",
    "final_df"
   ]
  },
  {
   "cell_type": "code",
   "execution_count": 78,
   "metadata": {},
   "outputs": [],
   "source": [
    "#electoral college df\n",
    "electoral_college = final_df[[\"year\", \"state\", \"candidate\",\"electoralvotes\", \"state_won_flag\"]]\n",
    "electoral_college = electoral_college.loc[electoral_college[\"state_won_flag\"] == '1']\n",
    "\n",
    "electoral_college = electoral_college.drop([\"state\",\"state_won_flag\" ], axis=1)\n",
    "electoral_college = electoral_college.groupby([\"year\", \"candidate\"]).sum().reset_index()\n",
    "\n",
    "electoral_college[\"new\"] = electoral_college[\"candidate\"] + electoral_college[\"year\"].astype(str)\n",
    "\n",
    "electoral_college_win = electoral_college.groupby(\"year\").head(2)"
   ]
  },
  {
   "cell_type": "code",
   "execution_count": 79,
   "metadata": {},
   "outputs": [],
   "source": [
    "#start of year level dataset\n",
    "\n",
    "year_df = final_df.groupby([\"year\", \"candidate\"]).sum().reset_index().sort_values(by= [\"year\", \"candidatevotes\"], ascending=False).groupby(\"year\").head(1)\n",
    "popular_vote = year_df[[\"year\", \"candidate\", \"candidatevotes\"]]\n",
    "popular_vote[\"new\"] = popular_vote[\"candidate\"] + popular_vote[\"year\"].astype(str)\n",
    "\n",
    "\n",
    "\n",
    "year_df = final_df.groupby([\"year\", \"candidate\"]).sum().reset_index().sort_values(by= [\"year\", \"candidatevotes\"], ascending=False).groupby(\"year\").head(3)\n",
    "\n",
    "vote = year_df[[\"year\", \"candidate\", \"candidatevotes\"]]\n",
    "vote[\"new\"] = vote[\"candidate\"] + vote[\"year\"].astype(str)\n",
    "\n",
    "vote = vote.merge(popular_vote, how=\"left\", left_on=\"new\", right_on=\"new\", suffixes=('', 'drop'))\n",
    "vote = vote.merge(electoral_college, how=\"left\", left_on=\"new\", right_on=\"new\", suffixes=('', 'drop1'))"
   ]
  },
  {
   "cell_type": "code",
   "execution_count": 80,
   "metadata": {},
   "outputs": [],
   "source": [
    "vote = vote.drop([\"new\", \"yeardrop\", \"yeardrop1\", \"candidatevotesdrop\", \"candidatedrop1\"], axis=1)\n",
    "vote[\"electoralvotes\"] = vote[\"electoralvotes\"].fillna(0)\n",
    "vote[\"candidatedrop\"] = vote[\"candidatedrop\"].fillna(0)\n",
    "\n",
    "vote.loc[vote[\"candidatedrop\"] != 0, [\"candidatedrop\"]] = '1'\n",
    "#vote.loc[vote[\"candidatedrop\"] == 0, [\"candidatedrop\"]] = '0'\n",
    "\n",
    "vote.rename(columns={\"candidatedrop\": \"won_pop_vote_flag\"}, inplace=True)"
   ]
  },
  {
   "cell_type": "code",
   "execution_count": 81,
   "metadata": {},
   "outputs": [
    {
     "output_type": "execute_result",
     "data": {
      "text/plain": "    year  totalvotes  Eligible_voting_pop  perc\n0   1976    81432514                  0.0   inf\n1   1980    86322962          157431825.0  0.55\n2   1984    92443573          164946657.0  0.56\n3   1988    91393948          170699171.0  0.54\n4   1992   104372208          176954186.0  0.59\n5   1996    96204092          183628183.0  0.52\n6   2000   105392088          191213067.0  0.55\n7   2004   122121864          199352847.0  0.61\n8   2008   131153400          208197066.0  0.63\n9   2012   128846233          217172515.0  0.59\n10  2016   136474612          225895098.0  0.60",
      "text/html": "<div>\n<style scoped>\n    .dataframe tbody tr th:only-of-type {\n        vertical-align: middle;\n    }\n\n    .dataframe tbody tr th {\n        vertical-align: top;\n    }\n\n    .dataframe thead th {\n        text-align: right;\n    }\n</style>\n<table border=\"1\" class=\"dataframe\">\n  <thead>\n    <tr style=\"text-align: right;\">\n      <th></th>\n      <th>year</th>\n      <th>totalvotes</th>\n      <th>Eligible_voting_pop</th>\n      <th>perc</th>\n    </tr>\n  </thead>\n  <tbody>\n    <tr>\n      <th>0</th>\n      <td>1976</td>\n      <td>81432514</td>\n      <td>0.0</td>\n      <td>inf</td>\n    </tr>\n    <tr>\n      <th>1</th>\n      <td>1980</td>\n      <td>86322962</td>\n      <td>157431825.0</td>\n      <td>0.55</td>\n    </tr>\n    <tr>\n      <th>2</th>\n      <td>1984</td>\n      <td>92443573</td>\n      <td>164946657.0</td>\n      <td>0.56</td>\n    </tr>\n    <tr>\n      <th>3</th>\n      <td>1988</td>\n      <td>91393948</td>\n      <td>170699171.0</td>\n      <td>0.54</td>\n    </tr>\n    <tr>\n      <th>4</th>\n      <td>1992</td>\n      <td>104372208</td>\n      <td>176954186.0</td>\n      <td>0.59</td>\n    </tr>\n    <tr>\n      <th>5</th>\n      <td>1996</td>\n      <td>96204092</td>\n      <td>183628183.0</td>\n      <td>0.52</td>\n    </tr>\n    <tr>\n      <th>6</th>\n      <td>2000</td>\n      <td>105392088</td>\n      <td>191213067.0</td>\n      <td>0.55</td>\n    </tr>\n    <tr>\n      <th>7</th>\n      <td>2004</td>\n      <td>122121864</td>\n      <td>199352847.0</td>\n      <td>0.61</td>\n    </tr>\n    <tr>\n      <th>8</th>\n      <td>2008</td>\n      <td>131153400</td>\n      <td>208197066.0</td>\n      <td>0.63</td>\n    </tr>\n    <tr>\n      <th>9</th>\n      <td>2012</td>\n      <td>128846233</td>\n      <td>217172515.0</td>\n      <td>0.59</td>\n    </tr>\n    <tr>\n      <th>10</th>\n      <td>2016</td>\n      <td>136474612</td>\n      <td>225895098.0</td>\n      <td>0.60</td>\n    </tr>\n  </tbody>\n</table>\n</div>"
     },
     "metadata": {},
     "execution_count": 81
    }
   ],
   "source": [
    "turnout_votes = final_working_df[[\"year\", \"totalvotes\"]]\n",
    "turnout_eligible = final_working_df[[\"year\", \"Eligible_voting_pop\"]]\n",
    "\n",
    "turnout_votes.drop_duplicates(inplace=True)\n",
    "#turnout_votes\n",
    "\n",
    "turnout_eligible.drop_duplicates(inplace=True)\n",
    "#turnout_eligible\n",
    "\n",
    "turnout_votes = turnout_votes.groupby(\"year\").sum()\n",
    "#turnout_votes\n",
    "\n",
    "turnout_eligible = turnout_eligible.groupby(\"year\").sum().reset_index()\n",
    "\n",
    "turnout = turnout_votes.merge(turnout_eligible, how = \"left\", on=\"year\")\n",
    "turnout\n",
    "\n",
    "turnout[\"perc\"] = (turnout[\"totalvotes\"]/ turnout[\"Eligible_voting_pop\"]).round(2)\n",
    "turnout"
   ]
  },
  {
   "cell_type": "code",
   "execution_count": 82,
   "metadata": {},
   "outputs": [],
   "source": [
    "#read all data to csvs\n",
    "\n",
    "final_df.to_csv(\"../final_data/state_level_data.csv\")\n",
    "vote.to_csv(\"../final_data/year_level_data.csv\")\n",
    "turnout.to_csv(\"../final_data/turnout_data.csv\")"
   ]
  },
  {
   "cell_type": "code",
   "execution_count": null,
   "metadata": {},
   "outputs": [],
   "source": []
  }
 ],
 "metadata": {
  "language_info": {
   "codemirror_mode": {
    "name": "ipython",
    "version": 3
   },
   "file_extension": ".py",
   "mimetype": "text/x-python",
   "name": "python",
   "nbconvert_exporter": "python",
   "pygments_lexer": "ipython3",
   "version": "3.7.6-final"
  },
  "orig_nbformat": 2,
  "kernelspec": {
   "name": "python361064bitpythondataconda702a049063da4b8fb25107aa449393fc",
   "display_name": "Python 3.6.10 64-bit ('PythonData': conda)"
  }
 },
 "nbformat": 4,
 "nbformat_minor": 2
}