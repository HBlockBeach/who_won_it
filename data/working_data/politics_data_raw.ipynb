{
 "cells": [
  {
   "cell_type": "code",
   "execution_count": 56,
   "metadata": {},
   "outputs": [],
   "source": [
    "#import dependencies\n",
    "\n",
    "import pandas as pd"
   ]
  },
  {
   "cell_type": "code",
   "execution_count": 57,
   "metadata": {},
   "outputs": [],
   "source": [
    "#read in csvs\n",
    "\n",
    "electiondata = pd.read_csv(\"1976-2016-president.csv\")\n",
    "rate1 = pd.read_csv(\"1980-2014 November General Election - Turnout Rates.csv\")\n",
    "rate2 = pd.read_csv(\"2016 November General Election - Turnout Rates.csv\")\n",
    "electoralvotes = pd.read_csv(\"Available Electoral votes .csv\")"
   ]
  },
  {
   "cell_type": "code",
   "execution_count": 58,
   "metadata": {},
   "outputs": [],
   "source": [
    "####pull party info for normalization\n",
    "\n",
    "\n",
    "#parties = electiondata[[\"year\",\"state\",\"candidate\", \"party\"]]\n",
    "#parties.drop_duplicates(inplace=True)\n",
    "\n",
    "\n",
    "#parties.to_csv(\"allparties.csv\", index=False)\n",
    "#parties"
   ]
  },
  {
   "cell_type": "code",
   "execution_count": 59,
   "metadata": {},
   "outputs": [],
   "source": [
    "#clean up voting data \n",
    "\n",
    "#file one\n",
    "rate1.rename(columns={\"Unnamed: 0\": \"year\", \"Denominators\" : \"Eligible_voting_pop\"}, inplace= True)\n",
    "voting_data_1 = rate1[[\"year\", \"State\", \"Eligible_voting_pop\"]]\n",
    "voting_data_1 = voting_data_1.drop(voting_data_1.index[0])\n",
    "\n",
    "#file two\n",
    "rate2.rename(columns={\"Denominators\" : \"Eligible_voting_pop\"}, inplace= True)\n",
    "rate2[\"year\"] = '2016'\n",
    "voting_data_2 = rate2[[\"year\", \"State\", \"Eligible_voting_pop\"]]\n",
    "voting_data_2 = voting_data_2.drop(voting_data_2.index[0])"
   ]
  },
  {
   "cell_type": "code",
   "execution_count": 60,
   "metadata": {},
   "outputs": [],
   "source": [
    "#merge dataframes\n",
    "\n",
    "total_voting = voting_data_2.append(voting_data_1)"
   ]
  },
  {
   "cell_type": "code",
   "execution_count": 61,
   "metadata": {},
   "outputs": [],
   "source": [
    "#check dtypes on dataframes\n",
    "\n",
    "#total_voting.dtypes\n",
    "    #year is object\n",
    "\n",
    "#electiondata.dtypes\n",
    "    #year is int64"
   ]
  },
  {
   "cell_type": "code",
   "execution_count": 62,
   "metadata": {},
   "outputs": [],
   "source": [
    "#convert year to int for merge\n",
    "\n",
    "total_voting['year'] = total_voting.year.astype(str).astype(int)"
   ]
  },
  {
   "cell_type": "code",
   "execution_count": 63,
   "metadata": {},
   "outputs": [],
   "source": [
    "#merge dataframes \n",
    "\n",
    "merged_df = electiondata.merge(total_voting, how='left', left_on=['state','year'], right_on=[\"State\",\"year\"])\n"
   ]
  },
  {
   "cell_type": "code",
   "execution_count": 64,
   "metadata": {},
   "outputs": [],
   "source": [
    "#merge electoral college votes dataframe and drop columns\n",
    "\n",
    "working_df = merged_df.merge(electoralvotes, how='left', left_on=['state','year'], right_on=[\"State\",\"Year\"])\n",
    "final_working_df = working_df.drop(['state_po', 'state_fips', \"state_cen\", \"state_ic\", \"office\", \"version\", \"notes\", \"State ID\", \"State_x\",\"State_y\", \"Year\", \"writein\"], axis=1)\n"
   ]
  },
  {
   "cell_type": "code",
   "execution_count": 65,
   "metadata": {
    "tags": [
     "outputPrepend",
     "outputPrepend",
     "outputPrepend",
     "outputPrepend"
    ]
   },
   "outputs": [],
   "source": [
    "#create key for merge and man\n",
    "final_working_df[\"new\"] = final_working_df[\"candidate\"] + final_working_df[\"year\"].astype(str)\n",
    "\n",
    "final_working_df.replace(\"Mitt, Romney\", \"Romney, Mitt\", inplace=True)\n",
    "final_working_df.replace(\"Hedges, Jim\", \"Hedges, James\", inplace=True)\n",
    "final_working_df.replace(\"Haylard, Helen\", \"Halyard, Helen\", inplace=True)\n",
    "final_working_df.replace(\"Stevens, Thomas Robert \"\"Tom\"\"\", \"Stevens, Thomas R.\", inplace=True)\n",
    "final_working_df.replace(\"White, Jerry\", \"White, Jerome \"\"Jerry\"\"\", inplace=True)\n",
    "\n",
    "\n",
    "final_working_df[\"candidate\"] = final_working_df['candidate'].fillna(\"unknown\")\n",
    "final_working_df[\"party\"] = final_working_df['party'].fillna(\"unknown\")\n",
    "final_working_df[\"Eligible_voting_pop\"] = final_working_df[\"Eligible_voting_pop\"].fillna(.00000000000000000000000000000000000000000000000001)\n",
    "\n",
    "final_working_df[\"Eligible_voting_pop\"] = final_working_df[\"Eligible_voting_pop\"].replace({'\\$': '', ',': ''}, regex=True)\n",
    "final_working_df[\"Eligible_voting_pop\"] = final_working_df[\"Eligible_voting_pop\"].astype(str).astype(float).round(0)"
   ]
  },
  {
   "cell_type": "code",
   "execution_count": 66,
   "metadata": {},
   "outputs": [],
   "source": [
    "#read in manipulated party csv data\n",
    "\n",
    "allparties = pd.read_csv(\"allparties.csv\")\n",
    "\n",
    "#merge all parties with final working for normalized party info \n",
    "final_working_df = final_working_df.merge(allparties,how= \"left\", left_on= [\"candidate\", \"state\", \"year\"], right_on=[\"candidate\", \"state\", \"year\"])\n"
   ]
  },
  {
   "cell_type": "code",
   "execution_count": 67,
   "metadata": {},
   "outputs": [],
   "source": [
    "###TROUBLESHOOT CELL IGNORE!!!!\n",
    "\n",
    "#final_working_df = final_working_df.loc[final_working_df[\"year\"] == 2000]\n",
    "#final_working_df = final_working_df.loc[final_working_df[\"state\"] == \"Oregon\"]\n",
    "#final_working_df = final_working_df.loc[final_working_df[\"candidate\"] == 'Other']\n",
    "\n",
    "#final_working_df"
   ]
  },
  {
   "cell_type": "code",
   "execution_count": 68,
   "metadata": {},
   "outputs": [],
   "source": [
    "# fill join column for search and replace\n",
    "\n",
    "final_working_df[\"party_y\"] = final_working_df['party_y'].fillna(0)\n",
    "\n",
    "for row in final_working_df[\"party_y\"]:\n",
    "    final_working_df.loc[final_working_df[\"party_y\"] != 0, [\"party_x\"]] = final_working_df[\"party_y\"]"
   ]
  },
  {
   "cell_type": "code",
   "execution_count": 69,
   "metadata": {},
   "outputs": [],
   "source": [
    "#rename and drop\n",
    "\n",
    "final_working_df.rename(columns={\"party_x\" : \"party\"}, inplace=True)\n",
    "final_working_df = final_working_df.drop(\"party_y\", axis= 1)\n",
    "final_working_df = final_working_df.drop_duplicates()"
   ]
  },
  {
   "cell_type": "code",
   "execution_count": 70,
   "metadata": {},
   "outputs": [],
   "source": [
    "final_working_df = final_working_df.groupby([\"year\", \"state\", \"candidate\", \"party\", \"totalvotes\", \"Eligible_voting_pop\", \"electoralvotes\", \"new\"]).sum().reset_index()"
   ]
  },
  {
   "cell_type": "code",
   "execution_count": 71,
   "metadata": {},
   "outputs": [],
   "source": [
    "###TROUBLESHOOT CELL IGNORE!!!!\n",
    "\n",
    "#final_working_df = final_working_df.loc[final_working_df[\"year\"] == 2016]\n",
    "#final_working_df = final_working_df.loc[final_working_df[\"state\"] == \"Oregon\"]\n",
    "#final_working_df"
   ]
  },
  {
   "cell_type": "code",
   "execution_count": 72,
   "metadata": {},
   "outputs": [],
   "source": [
    "#find top candidates by popular vote\n",
    "\n",
    "find_top_candidates_df = final_working_df[[\"year\",\"candidate\", \"candidatevotes\"]]\n",
    "\n",
    "find_top_candidates_df = find_top_candidates_df.groupby([\"candidate\", \"year\"]).sum().reset_index()\n",
    "\n",
    "find_top_candidates_df= find_top_candidates_df.sort_values(by=[\"year\", \"candidatevotes\"], ascending=False).groupby(\"year\").head(2)\n",
    "\n",
    "top_candidates_df = pd.DataFrame(find_top_candidates_df)\n",
    "\n",
    "#create key for merge\n",
    "top_candidates_df[\"new\"] = top_candidates_df[\"candidate\"] + top_candidates_df[\"year\"].astype(str)\n",
    "\n",
    "#create dataframe with only key for merge\n",
    "#loop through to deduplicate \n",
    "only_winners = top_candidates_df[[\"new\"]]\n",
    "\n",
    "toppy = []\n",
    "for row in only_winners[\"new\"]:\n",
    "    if row not in toppy:\n",
    "        toppy.append(row)\n",
    "\n",
    "toppy=pd.DataFrame(toppy)"
   ]
  },
  {
   "cell_type": "code",
   "execution_count": 73,
   "metadata": {},
   "outputs": [],
   "source": [
    "#merge to create column for flag\n",
    "\n",
    "final_working_df = final_working_df.merge(toppy, how=\"left\", left_on= \"new\", right_on= 0)\n",
    "\n",
    "#fill na in new columnt with 0\n",
    "final_working_df[0] = final_working_df[0].fillna(0)"
   ]
  },
  {
   "cell_type": "code",
   "execution_count": 74,
   "metadata": {
    "tags": [
     "outputPrepend",
     "outputPrepend",
     "outputPrepend",
     "outputPrepend",
     "outputPrepend",
     "outputPrepend"
    ]
   },
   "outputs": [],
   "source": [
    "#using flag, change candidate name to other if not in top 2\n",
    "\n",
    "final_working_df.loc[final_working_df[0] == 0, [\"candidate\"]] = 'Other'\n",
    "\n",
    "#drop flag column\n",
    "final_working_df = final_working_df.drop([0], axis=1)"
   ]
  },
  {
   "cell_type": "code",
   "execution_count": 75,
   "metadata": {},
   "outputs": [],
   "source": [
    "find_top_candidates_state_df = final_working_df[[\"year\",\"state\",\"candidate\", \"candidatevotes\", \"new\"]]"
   ]
  },
  {
   "cell_type": "code",
   "execution_count": 76,
   "metadata": {},
   "outputs": [],
   "source": [
    "#sum candidate votes\n",
    "\n",
    "find_top_candidates_state_df = find_top_candidates_state_df.groupby([\"candidate\", \"year\", \"state\"]).sum().reset_index()\n",
    "\n",
    "#sort to get top candidate\n",
    "find_top_candidates_state_df= find_top_candidates_state_df.sort_values(by=[ \"year\",\"candidatevotes\", \"state\"], ascending=False)\n",
    "find_top_candidates_state_df = find_top_candidates_state_df.sort_values([\"year\", \"state\"]).groupby([\"state\",\"year\"]).head(1)\n",
    "\n",
    "#create key for merge\n",
    "find_top_candidates_state_df[\"new\"] = find_top_candidates_state_df[\"candidate\"] + find_top_candidates_state_df[\"year\"].astype(str)"
   ]
  },
  {
   "cell_type": "code",
   "execution_count": 77,
   "metadata": {},
   "outputs": [],
   "source": [
    "#merge dataframed for the state won flag\n",
    "\n",
    "state_winner_added = final_working_df.merge(find_top_candidates_state_df, how=\"left\", on= [\"new\", \"state\"], suffixes=('', 'drop'))\n",
    "\n",
    "#fill na in flag column for loc and change\n",
    "state_winner_added[\"candidatedrop\"] = state_winner_added[\"candidatedrop\"].fillna(0)\n",
    "\n",
    "#loc and change values\n",
    "state_winner_added.loc[state_winner_added[\"candidatedrop\"] != 0, [\"candidatedrop\"]] = '1'\n",
    "state_winner_added.loc[state_winner_added[\"candidatedrop\"] == 0, [\"candidatedrop\"]] = '0'\n",
    "\n",
    "#math for % won\n",
    "state_winner_added[\"percent_won\"] = state_winner_added[\"candidatevotes\"] / state_winner_added[\"totalvotes\"]\n",
    "\n",
    "#drop and rename columns\n",
    "state_winner_added = state_winner_added.drop([\"yeardrop\",  \"candidatevotesdrop\", \"new\"], axis=1).rename(columns={\"candidatedrop\": \"state_won_flag\"})\n",
    "\n",
    "final_df = state_winner_added"
   ]
  },
  {
   "cell_type": "code",
   "execution_count": 78,
   "metadata": {},
   "outputs": [],
   "source": [
    "#electoral college df\n",
    "electoral_college = final_df[[\"year\", \"state\", \"candidate\",\"electoralvotes\", \"state_won_flag\"]]\n",
    "electoral_college = electoral_college.loc[electoral_college[\"state_won_flag\"] == '1']\n",
    "\n",
    "electoral_college = electoral_college.drop([\"state\",\"state_won_flag\" ], axis=1)\n",
    "electoral_college = electoral_college.groupby([\"year\", \"candidate\"]).sum().reset_index()\n",
    "\n",
    "electoral_college[\"new\"] = electoral_college[\"candidate\"] + electoral_college[\"year\"].astype(str)\n",
    "\n",
    "electoral_college_win = electoral_college.groupby(\"year\").head(2)\n",
    "\n",
    "\n"
   ]
  },
  {
   "cell_type": "code",
   "execution_count": 79,
   "metadata": {},
   "outputs": [],
   "source": [
    "#start of year level dataset\n",
    "\n",
    "year_df = final_df.groupby([\"year\", \"candidate\"]).sum().reset_index().sort_values(by= [\"year\", \"candidatevotes\"], ascending=False).groupby(\"year\").head(1)\n",
    "popular_vote = year_df[[\"year\", \"candidate\", \"candidatevotes\"]]\n",
    "popular_vote[\"new\"] = popular_vote[\"candidate\"] + popular_vote[\"year\"].astype(str)\n",
    "\n",
    "\n",
    "\n",
    "year_df = final_df.groupby([\"year\", \"candidate\"]).sum().reset_index().sort_values(by= [\"year\", \"candidatevotes\"], ascending=False).groupby(\"year\").head(3)\n",
    "\n",
    "vote = year_df[[\"year\", \"candidate\", \"candidatevotes\"]]\n",
    "vote[\"new\"] = vote[\"candidate\"] + vote[\"year\"].astype(str)\n",
    "\n",
    "vote = vote.merge(popular_vote, how=\"left\", left_on=\"new\", right_on=\"new\", suffixes=('', 'drop'))\n",
    "vote = vote.merge(electoral_college, how=\"left\", left_on=\"new\", right_on=\"new\", suffixes=('', 'drop1'))"
   ]
  },
  {
   "cell_type": "code",
   "execution_count": 80,
   "metadata": {},
   "outputs": [],
   "source": [
    "vote = vote.drop([\"new\", \"yeardrop\", \"yeardrop1\", \"candidatevotesdrop\", \"candidatedrop1\"], axis=1)\n",
    "vote[\"electoralvotes\"] = vote[\"electoralvotes\"].fillna(0)\n",
    "vote[\"candidatedrop\"] = vote[\"candidatedrop\"].fillna(0)\n",
    "\n",
    "vote.loc[vote[\"candidatedrop\"] != 0, [\"candidatedrop\"]] = '1'\n",
    "#vote.loc[vote[\"candidatedrop\"] == 0, [\"candidatedrop\"]] = '0'\n",
    "\n",
    "vote.rename(columns={\"candidatedrop\": \"won_pop_vote_flag\"}, inplace=True)"
   ]
  },
  {
   "cell_type": "code",
   "execution_count": 81,
   "metadata": {},
   "outputs": [],
   "source": [
    "turnout_votes = final_working_df[[\"year\", \"totalvotes\"]]\n",
    "turnout_eligible = final_working_df[[\"year\", \"Eligible_voting_pop\"]]\n",
    "\n",
    "turnout_votes.drop_duplicates(inplace=True)\n",
    "#turnout_votes\n",
    "\n",
    "turnout_eligible.drop_duplicates(inplace=True)\n",
    "#turnout_eligible\n",
    "\n",
    "turnout_votes = turnout_votes.groupby(\"year\").sum()\n",
    "#turnout_votes\n",
    "\n",
    "turnout_eligible = turnout_eligible.groupby(\"year\").sum().reset_index()\n",
    "\n",
    "turnout = turnout_votes.merge(turnout_eligible, how = \"left\", on=\"year\")\n",
    "turnout\n",
    "\n",
    "turnout[\"perc\"] = turnout[\"totalvotes\"]/ turnout[\"Eligible_voting_pop\"].round(2)"
   ]
  },
  {
   "cell_type": "code",
   "execution_count": 83,
   "metadata": {},
   "outputs": [],
   "source": [
    "#read all data to csvs\n",
    "\n",
    "final_df.to_csv(\"../final_data/state_level_data.csv\")\n",
    "vote.to_csv(\"../final_data/year_level_data.csv\")\n",
    "final_df.to_csv(\"../final_data/turnout_data.csv\")"
   ]
  },
  {
   "cell_type": "code",
   "execution_count": null,
   "metadata": {},
   "outputs": [],
   "source": []
  }
 ],
 "metadata": {
  "language_info": {
   "codemirror_mode": {
    "name": "ipython",
    "version": 3
   },
   "file_extension": ".py",
   "mimetype": "text/x-python",
   "name": "python",
   "nbconvert_exporter": "python",
   "pygments_lexer": "ipython3",
   "version": "3.7.6-final"
  },
  "orig_nbformat": 2,
  "kernelspec": {
   "name": "python361064bitpythondataconda702a049063da4b8fb25107aa449393fc",
   "display_name": "Python 3.6.10 64-bit ('PythonData': conda)"
  }
 },
 "nbformat": 4,
 "nbformat_minor": 2
}