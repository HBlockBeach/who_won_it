{
 "cells": [
  {
   "cell_type": "code",
   "execution_count": 100,
   "metadata": {},
   "outputs": [],
   "source": [
    "import pandas as pd     \n",
    "import matplotlib.pyplot as plt"
   ]
  },
  {
   "cell_type": "code",
   "execution_count": 101,
   "metadata": {},
   "outputs": [],
   "source": [
    "electiondata = pd.read_csv(\"1976-2016-president.csv\")\n",
    "rate1 = pd.read_csv(\"1980-2014 November General Election - Turnout Rates.csv\")\n",
    "rate2 = pd.read_csv(\"2016 November General Election - Turnout Rates.csv\")\n",
    "electoralvotes = pd.read_csv(\"Available Electoral votes .csv\")"
   ]
  },
  {
   "cell_type": "code",
   "execution_count": 102,
   "metadata": {},
   "outputs": [],
   "source": [
    "rate1.rename(columns={\"Unnamed: 0\": \"year\", \"Denominators\" : \"Eligible_voting_pop\"}, inplace= True)\n",
    "voting_data_1 = rate1[[\"year\", \"State\", \"Eligible_voting_pop\"]]\n",
    "voting_data_1 = voting_data_1.drop(voting_data_1.index[0])\n",
    "\n"
   ]
  },
  {
   "cell_type": "code",
   "execution_count": 103,
   "metadata": {},
   "outputs": [],
   "source": [
    "rate2.rename(columns={\"Denominators\" : \"Eligible_voting_pop\"}, inplace= True)\n",
    "rate2[\"year\"] = '2016'\n",
    "voting_data_2 = rate2[[\"year\", \"State\", \"Eligible_voting_pop\"]]\n",
    "voting_data_2 = voting_data_2.drop(voting_data_2.index[0])\n",
    "total_voting = voting_data_2.append(voting_data_1)\n"
   ]
  },
  {
   "cell_type": "code",
   "execution_count": 104,
   "metadata": {},
   "outputs": [],
   "source": [
    "total_voting['year'] = total_voting.year.astype(str).astype(int)\n",
    "#total_voting.dtypes\n",
    "#electiondata.dtypes"
   ]
  },
  {
   "cell_type": "code",
   "execution_count": 105,
   "metadata": {},
   "outputs": [],
   "source": [
    "#electoralvotes.head()"
   ]
  },
  {
   "cell_type": "code",
   "execution_count": 106,
   "metadata": {},
   "outputs": [],
   "source": [
    "merged_df = electiondata.merge(total_voting, how='left', left_on=['state','year'], right_on=[\"State\",\"year\"])"
   ]
  },
  {
   "cell_type": "code",
   "execution_count": 107,
   "metadata": {},
   "outputs": [],
   "source": [
    "\n",
    "working_df = merged_df.merge(electoralvotes, how='left', left_on=['state','year'], right_on=[\"State\",\"Year\"])\n",
    "final_working_df = working_df.drop(['state_po', 'state_fips', \"state_cen\", \"state_ic\", \"office\", \"version\", \"notes\", \"State ID\", \"State_x\",\"State_y\", \"Year\", \"writein\"], axis=1)\n"
   ]
  },
  {
   "cell_type": "code",
   "execution_count": 108,
   "metadata": {},
   "outputs": [
    {
     "output_type": "execute_result",
     "data": {
      "text/plain": "             candidate  year  candidatevotes                    new\n55    Clinton, Hillary  2016        65853581   Clinton, Hillary2016\n237   Trump, Donald J.  2016        62985062   Trump, Donald J.2016\n182   Obama, Barack H.  2012        65899660   Obama, Barack H.2012\n215       Romney, Mitt  2012        59641482       Romney, Mitt2012\n181   Obama, Barack H.  2008        69498459   Obama, Barack H.2008\n152       McCain, John  2008        59948283       McCain, John2008\n43     Bush, George W.  2004        62028285    Bush, George W.2004\n126        Kerry, John  2004        59028079        Kerry, John2004\n87            Gore, Al  2000        50996062           Gore, Al2000\n42     Bush, George W.  2000        50456169    Bush, George W.2000\n54       Clinton, Bill  1996        47401898      Clinton, Bill1996\n74        Dole, Robert  1996        39198482       Dole, Robert1996\n53       Clinton, Bill  1992        44954303      Clinton, Bill1992\n41   Bush, George H.W.  1992        39103872  Bush, George H.W.1992\n40   Bush, George H.W.  1988        48886097  Bush, George H.W.1988\n75    Dukakis, Michael  1988        41809074   Dukakis, Michael1988\n212     Reagan, Ronald  1984        54455073     Reagan, Ronald1984\n164    Mondale, Walter  1984        37568137    Mondale, Walter1984\n211     Reagan, Ronald  1980        43898770     Reagan, Ronald1980\n49       Carter, Jimmy  1980        35480948      Carter, Jimmy1980\n48       Carter, Jimmy  1976        40825839      Carter, Jimmy1976\n82        Ford, Gerald  1976        39145771       Ford, Gerald1976",
      "text/html": "<div>\n<style scoped>\n    .dataframe tbody tr th:only-of-type {\n        vertical-align: middle;\n    }\n\n    .dataframe tbody tr th {\n        vertical-align: top;\n    }\n\n    .dataframe thead th {\n        text-align: right;\n    }\n</style>\n<table border=\"1\" class=\"dataframe\">\n  <thead>\n    <tr style=\"text-align: right;\">\n      <th></th>\n      <th>candidate</th>\n      <th>year</th>\n      <th>candidatevotes</th>\n      <th>new</th>\n    </tr>\n  </thead>\n  <tbody>\n    <tr>\n      <th>55</th>\n      <td>Clinton, Hillary</td>\n      <td>2016</td>\n      <td>65853581</td>\n      <td>Clinton, Hillary2016</td>\n    </tr>\n    <tr>\n      <th>237</th>\n      <td>Trump, Donald J.</td>\n      <td>2016</td>\n      <td>62985062</td>\n      <td>Trump, Donald J.2016</td>\n    </tr>\n    <tr>\n      <th>182</th>\n      <td>Obama, Barack H.</td>\n      <td>2012</td>\n      <td>65899660</td>\n      <td>Obama, Barack H.2012</td>\n    </tr>\n    <tr>\n      <th>215</th>\n      <td>Romney, Mitt</td>\n      <td>2012</td>\n      <td>59641482</td>\n      <td>Romney, Mitt2012</td>\n    </tr>\n    <tr>\n      <th>181</th>\n      <td>Obama, Barack H.</td>\n      <td>2008</td>\n      <td>69498459</td>\n      <td>Obama, Barack H.2008</td>\n    </tr>\n    <tr>\n      <th>152</th>\n      <td>McCain, John</td>\n      <td>2008</td>\n      <td>59948283</td>\n      <td>McCain, John2008</td>\n    </tr>\n    <tr>\n      <th>43</th>\n      <td>Bush, George W.</td>\n      <td>2004</td>\n      <td>62028285</td>\n      <td>Bush, George W.2004</td>\n    </tr>\n    <tr>\n      <th>126</th>\n      <td>Kerry, John</td>\n      <td>2004</td>\n      <td>59028079</td>\n      <td>Kerry, John2004</td>\n    </tr>\n    <tr>\n      <th>87</th>\n      <td>Gore, Al</td>\n      <td>2000</td>\n      <td>50996062</td>\n      <td>Gore, Al2000</td>\n    </tr>\n    <tr>\n      <th>42</th>\n      <td>Bush, George W.</td>\n      <td>2000</td>\n      <td>50456169</td>\n      <td>Bush, George W.2000</td>\n    </tr>\n    <tr>\n      <th>54</th>\n      <td>Clinton, Bill</td>\n      <td>1996</td>\n      <td>47401898</td>\n      <td>Clinton, Bill1996</td>\n    </tr>\n    <tr>\n      <th>74</th>\n      <td>Dole, Robert</td>\n      <td>1996</td>\n      <td>39198482</td>\n      <td>Dole, Robert1996</td>\n    </tr>\n    <tr>\n      <th>53</th>\n      <td>Clinton, Bill</td>\n      <td>1992</td>\n      <td>44954303</td>\n      <td>Clinton, Bill1992</td>\n    </tr>\n    <tr>\n      <th>41</th>\n      <td>Bush, George H.W.</td>\n      <td>1992</td>\n      <td>39103872</td>\n      <td>Bush, George H.W.1992</td>\n    </tr>\n    <tr>\n      <th>40</th>\n      <td>Bush, George H.W.</td>\n      <td>1988</td>\n      <td>48886097</td>\n      <td>Bush, George H.W.1988</td>\n    </tr>\n    <tr>\n      <th>75</th>\n      <td>Dukakis, Michael</td>\n      <td>1988</td>\n      <td>41809074</td>\n      <td>Dukakis, Michael1988</td>\n    </tr>\n    <tr>\n      <th>212</th>\n      <td>Reagan, Ronald</td>\n      <td>1984</td>\n      <td>54455073</td>\n      <td>Reagan, Ronald1984</td>\n    </tr>\n    <tr>\n      <th>164</th>\n      <td>Mondale, Walter</td>\n      <td>1984</td>\n      <td>37568137</td>\n      <td>Mondale, Walter1984</td>\n    </tr>\n    <tr>\n      <th>211</th>\n      <td>Reagan, Ronald</td>\n      <td>1980</td>\n      <td>43898770</td>\n      <td>Reagan, Ronald1980</td>\n    </tr>\n    <tr>\n      <th>49</th>\n      <td>Carter, Jimmy</td>\n      <td>1980</td>\n      <td>35480948</td>\n      <td>Carter, Jimmy1980</td>\n    </tr>\n    <tr>\n      <th>48</th>\n      <td>Carter, Jimmy</td>\n      <td>1976</td>\n      <td>40825839</td>\n      <td>Carter, Jimmy1976</td>\n    </tr>\n    <tr>\n      <th>82</th>\n      <td>Ford, Gerald</td>\n      <td>1976</td>\n      <td>39145771</td>\n      <td>Ford, Gerald1976</td>\n    </tr>\n  </tbody>\n</table>\n</div>"
     },
     "metadata": {},
     "execution_count": 108
    }
   ],
   "source": [
    "find_top_candidates_df = final_working_df[[\"year\",\"candidate\", \"candidatevotes\"]]\n",
    "\n",
    "find_top_candidates_df = find_top_candidates_df.groupby([\"candidate\", \"year\"]).sum().reset_index()\n",
    "\n",
    "find_top_candidates_df= find_top_candidates_df.sort_values(by=[\"year\", \"candidatevotes\"], ascending=False).groupby(\"year\").head(2)\n",
    "\n",
    "top_candidates_df = pd.DataFrame(find_top_candidates_df)\n",
    "\n",
    "top_candidates_df[\"new\"] = top_candidates_df[\"candidate\"] + top_candidates_df[\"year\"].astype(str)\n",
    "\n",
    "only_winners = top_candidates_df[[\"new\"]]\n",
    "\n",
    "toppy = []\n",
    "for row in only_winners[\"new\"]:\n",
    "    if row not in toppy:\n",
    "        toppy.append(row)\n",
    "\n",
    "toppy=pd.DataFrame(toppy)\n",
    "\n",
    "find_top_candidates_df"
   ]
  },
  {
   "cell_type": "code",
   "execution_count": 109,
   "metadata": {},
   "outputs": [],
   "source": [
    "final_working_df[\"new\"] = final_working_df[\"candidate\"] + final_working_df[\"year\"].astype(str)\n",
    "#final_working_df.dtypes\n"
   ]
  },
  {
   "cell_type": "code",
   "execution_count": 110,
   "metadata": {},
   "outputs": [
    {
     "output_type": "execute_result",
     "data": {
      "text/plain": "      year    state                candidate                       party  \\\n0     1976  Alabama            Carter, Jimmy                    democrat   \n1     1976  Alabama             Ford, Gerald                  republican   \n2     1976  Alabama           Maddox, Lester  american independent party   \n3     1976  Alabama  Bubar, Benjamin \"\"Ben\"\"                 prohibition   \n4     1976  Alabama                Hall, Gus         communist party use   \n...    ...      ...                      ...                         ...   \n3735  2016  Wyoming                      NaN                         NaN   \n3736  2016  Wyoming                      NaN                 independent   \n3737  2016  Wyoming               Blank Vote                         NaN   \n3738  2016  Wyoming       Castle, Darrell L.          constitution party   \n3739  2016  Wyoming                Over Vote                         NaN   \n\n      candidatevotes  totalvotes Eligible_voting_pop  electoralvotes  \\\n0             659170     1182850               1e-50             9.0   \n1             504070     1182850               1e-50             9.0   \n2               9198     1182850               1e-50             9.0   \n3               6669     1182850               1e-50             9.0   \n4               1954     1182850               1e-50             9.0   \n...              ...         ...                 ...             ...   \n3735            6904      258788             429,682             3.0   \n3736            3224      258788             429,682             3.0   \n3737            2661      258788             429,682             3.0   \n3738            2042      258788             429,682             3.0   \n3739             278      258788             429,682             3.0   \n\n                              new                  0  \n0               Carter, Jimmy1976  Carter, Jimmy1976  \n1                Ford, Gerald1976   Ford, Gerald1976  \n2              Maddox, Lester1976                  0  \n3     Bubar, Benjamin \"\"Ben\"\"1976                  0  \n4                   Hall, Gus1976                  0  \n...                           ...                ...  \n3735                          NaN                  0  \n3736                          NaN                  0  \n3737               Blank Vote2016                  0  \n3738       Castle, Darrell L.2016                  0  \n3739                Over Vote2016                  0  \n\n[3740 rows x 10 columns]",
      "text/html": "<div>\n<style scoped>\n    .dataframe tbody tr th:only-of-type {\n        vertical-align: middle;\n    }\n\n    .dataframe tbody tr th {\n        vertical-align: top;\n    }\n\n    .dataframe thead th {\n        text-align: right;\n    }\n</style>\n<table border=\"1\" class=\"dataframe\">\n  <thead>\n    <tr style=\"text-align: right;\">\n      <th></th>\n      <th>year</th>\n      <th>state</th>\n      <th>candidate</th>\n      <th>party</th>\n      <th>candidatevotes</th>\n      <th>totalvotes</th>\n      <th>Eligible_voting_pop</th>\n      <th>electoralvotes</th>\n      <th>new</th>\n      <th>0</th>\n    </tr>\n  </thead>\n  <tbody>\n    <tr>\n      <th>0</th>\n      <td>1976</td>\n      <td>Alabama</td>\n      <td>Carter, Jimmy</td>\n      <td>democrat</td>\n      <td>659170</td>\n      <td>1182850</td>\n      <td>1e-50</td>\n      <td>9.0</td>\n      <td>Carter, Jimmy1976</td>\n      <td>Carter, Jimmy1976</td>\n    </tr>\n    <tr>\n      <th>1</th>\n      <td>1976</td>\n      <td>Alabama</td>\n      <td>Ford, Gerald</td>\n      <td>republican</td>\n      <td>504070</td>\n      <td>1182850</td>\n      <td>1e-50</td>\n      <td>9.0</td>\n      <td>Ford, Gerald1976</td>\n      <td>Ford, Gerald1976</td>\n    </tr>\n    <tr>\n      <th>2</th>\n      <td>1976</td>\n      <td>Alabama</td>\n      <td>Maddox, Lester</td>\n      <td>american independent party</td>\n      <td>9198</td>\n      <td>1182850</td>\n      <td>1e-50</td>\n      <td>9.0</td>\n      <td>Maddox, Lester1976</td>\n      <td>0</td>\n    </tr>\n    <tr>\n      <th>3</th>\n      <td>1976</td>\n      <td>Alabama</td>\n      <td>Bubar, Benjamin \"\"Ben\"\"</td>\n      <td>prohibition</td>\n      <td>6669</td>\n      <td>1182850</td>\n      <td>1e-50</td>\n      <td>9.0</td>\n      <td>Bubar, Benjamin \"\"Ben\"\"1976</td>\n      <td>0</td>\n    </tr>\n    <tr>\n      <th>4</th>\n      <td>1976</td>\n      <td>Alabama</td>\n      <td>Hall, Gus</td>\n      <td>communist party use</td>\n      <td>1954</td>\n      <td>1182850</td>\n      <td>1e-50</td>\n      <td>9.0</td>\n      <td>Hall, Gus1976</td>\n      <td>0</td>\n    </tr>\n    <tr>\n      <th>...</th>\n      <td>...</td>\n      <td>...</td>\n      <td>...</td>\n      <td>...</td>\n      <td>...</td>\n      <td>...</td>\n      <td>...</td>\n      <td>...</td>\n      <td>...</td>\n      <td>...</td>\n    </tr>\n    <tr>\n      <th>3735</th>\n      <td>2016</td>\n      <td>Wyoming</td>\n      <td>NaN</td>\n      <td>NaN</td>\n      <td>6904</td>\n      <td>258788</td>\n      <td>429,682</td>\n      <td>3.0</td>\n      <td>NaN</td>\n      <td>0</td>\n    </tr>\n    <tr>\n      <th>3736</th>\n      <td>2016</td>\n      <td>Wyoming</td>\n      <td>NaN</td>\n      <td>independent</td>\n      <td>3224</td>\n      <td>258788</td>\n      <td>429,682</td>\n      <td>3.0</td>\n      <td>NaN</td>\n      <td>0</td>\n    </tr>\n    <tr>\n      <th>3737</th>\n      <td>2016</td>\n      <td>Wyoming</td>\n      <td>Blank Vote</td>\n      <td>NaN</td>\n      <td>2661</td>\n      <td>258788</td>\n      <td>429,682</td>\n      <td>3.0</td>\n      <td>Blank Vote2016</td>\n      <td>0</td>\n    </tr>\n    <tr>\n      <th>3738</th>\n      <td>2016</td>\n      <td>Wyoming</td>\n      <td>Castle, Darrell L.</td>\n      <td>constitution party</td>\n      <td>2042</td>\n      <td>258788</td>\n      <td>429,682</td>\n      <td>3.0</td>\n      <td>Castle, Darrell L.2016</td>\n      <td>0</td>\n    </tr>\n    <tr>\n      <th>3739</th>\n      <td>2016</td>\n      <td>Wyoming</td>\n      <td>Over Vote</td>\n      <td>NaN</td>\n      <td>278</td>\n      <td>258788</td>\n      <td>429,682</td>\n      <td>3.0</td>\n      <td>Over Vote2016</td>\n      <td>0</td>\n    </tr>\n  </tbody>\n</table>\n<p>3740 rows × 10 columns</p>\n</div>"
     },
     "metadata": {},
     "execution_count": 110
    }
   ],
   "source": [
    "final_final_but_not_quite = final_working_df.merge(toppy, how=\"left\", left_on= \"new\", right_on= 0)\n",
    "\n",
    "final_final_but_not_quite[0] = final_final_but_not_quite[0].fillna(0)\n",
    "\n",
    "final_final_but_not_quite[\"Eligible_voting_pop\"] = final_final_but_not_quite[\"Eligible_voting_pop\"].fillna(.00000000000000000000000000000000000000000000000001)\n",
    "final_final_but_not_quite"
   ]
  },
  {
   "cell_type": "code",
   "execution_count": 111,
   "metadata": {
    "tags": [
     "outputPrepend",
     "outputPrepend",
     "outputPrepend",
     "outputPrepend",
     "outputPrepend",
     "outputPrepend"
    ]
   },
   "outputs": [
    {
     "output_type": "execute_result",
     "data": {
      "text/plain": "      year    state      candidate                       party  \\\n0     1976  Alabama  Carter, Jimmy                    democrat   \n1     1976  Alabama   Ford, Gerald                  republican   \n2     1976  Alabama          Other  american independent party   \n3     1976  Alabama          Other                 prohibition   \n4     1976  Alabama          Other         communist party use   \n...    ...      ...            ...                         ...   \n3735  2016  Wyoming          Other                         NaN   \n3736  2016  Wyoming          Other                 independent   \n3737  2016  Wyoming          Other                         NaN   \n3738  2016  Wyoming          Other          constitution party   \n3739  2016  Wyoming          Other                         NaN   \n\n      candidatevotes  totalvotes Eligible_voting_pop  electoralvotes  \\\n0             659170     1182850               1e-50             9.0   \n1             504070     1182850               1e-50             9.0   \n2               9198     1182850               1e-50             9.0   \n3               6669     1182850               1e-50             9.0   \n4               1954     1182850               1e-50             9.0   \n...              ...         ...                 ...             ...   \n3735            6904      258788             429,682             3.0   \n3736            3224      258788             429,682             3.0   \n3737            2661      258788             429,682             3.0   \n3738            2042      258788             429,682             3.0   \n3739             278      258788             429,682             3.0   \n\n                              new  perc_won  \n0               Carter, Jimmy1976  0.557273  \n1                Ford, Gerald1976  0.426149  \n2              Maddox, Lester1976  0.007776  \n3     Bubar, Benjamin \"\"Ben\"\"1976  0.005638  \n4                   Hall, Gus1976  0.001652  \n...                           ...       ...  \n3735                          NaN  0.026678  \n3736                          NaN  0.012458  \n3737               Blank Vote2016  0.010283  \n3738       Castle, Darrell L.2016  0.007891  \n3739                Over Vote2016  0.001074  \n\n[3740 rows x 10 columns]",
      "text/html": "<div>\n<style scoped>\n    .dataframe tbody tr th:only-of-type {\n        vertical-align: middle;\n    }\n\n    .dataframe tbody tr th {\n        vertical-align: top;\n    }\n\n    .dataframe thead th {\n        text-align: right;\n    }\n</style>\n<table border=\"1\" class=\"dataframe\">\n  <thead>\n    <tr style=\"text-align: right;\">\n      <th></th>\n      <th>year</th>\n      <th>state</th>\n      <th>candidate</th>\n      <th>party</th>\n      <th>candidatevotes</th>\n      <th>totalvotes</th>\n      <th>Eligible_voting_pop</th>\n      <th>electoralvotes</th>\n      <th>new</th>\n      <th>perc_won</th>\n    </tr>\n  </thead>\n  <tbody>\n    <tr>\n      <th>0</th>\n      <td>1976</td>\n      <td>Alabama</td>\n      <td>Carter, Jimmy</td>\n      <td>democrat</td>\n      <td>659170</td>\n      <td>1182850</td>\n      <td>1e-50</td>\n      <td>9.0</td>\n      <td>Carter, Jimmy1976</td>\n      <td>0.557273</td>\n    </tr>\n    <tr>\n      <th>1</th>\n      <td>1976</td>\n      <td>Alabama</td>\n      <td>Ford, Gerald</td>\n      <td>republican</td>\n      <td>504070</td>\n      <td>1182850</td>\n      <td>1e-50</td>\n      <td>9.0</td>\n      <td>Ford, Gerald1976</td>\n      <td>0.426149</td>\n    </tr>\n    <tr>\n      <th>2</th>\n      <td>1976</td>\n      <td>Alabama</td>\n      <td>Other</td>\n      <td>american independent party</td>\n      <td>9198</td>\n      <td>1182850</td>\n      <td>1e-50</td>\n      <td>9.0</td>\n      <td>Maddox, Lester1976</td>\n      <td>0.007776</td>\n    </tr>\n    <tr>\n      <th>3</th>\n      <td>1976</td>\n      <td>Alabama</td>\n      <td>Other</td>\n      <td>prohibition</td>\n      <td>6669</td>\n      <td>1182850</td>\n      <td>1e-50</td>\n      <td>9.0</td>\n      <td>Bubar, Benjamin \"\"Ben\"\"1976</td>\n      <td>0.005638</td>\n    </tr>\n    <tr>\n      <th>4</th>\n      <td>1976</td>\n      <td>Alabama</td>\n      <td>Other</td>\n      <td>communist party use</td>\n      <td>1954</td>\n      <td>1182850</td>\n      <td>1e-50</td>\n      <td>9.0</td>\n      <td>Hall, Gus1976</td>\n      <td>0.001652</td>\n    </tr>\n    <tr>\n      <th>...</th>\n      <td>...</td>\n      <td>...</td>\n      <td>...</td>\n      <td>...</td>\n      <td>...</td>\n      <td>...</td>\n      <td>...</td>\n      <td>...</td>\n      <td>...</td>\n      <td>...</td>\n    </tr>\n    <tr>\n      <th>3735</th>\n      <td>2016</td>\n      <td>Wyoming</td>\n      <td>Other</td>\n      <td>NaN</td>\n      <td>6904</td>\n      <td>258788</td>\n      <td>429,682</td>\n      <td>3.0</td>\n      <td>NaN</td>\n      <td>0.026678</td>\n    </tr>\n    <tr>\n      <th>3736</th>\n      <td>2016</td>\n      <td>Wyoming</td>\n      <td>Other</td>\n      <td>independent</td>\n      <td>3224</td>\n      <td>258788</td>\n      <td>429,682</td>\n      <td>3.0</td>\n      <td>NaN</td>\n      <td>0.012458</td>\n    </tr>\n    <tr>\n      <th>3737</th>\n      <td>2016</td>\n      <td>Wyoming</td>\n      <td>Other</td>\n      <td>NaN</td>\n      <td>2661</td>\n      <td>258788</td>\n      <td>429,682</td>\n      <td>3.0</td>\n      <td>Blank Vote2016</td>\n      <td>0.010283</td>\n    </tr>\n    <tr>\n      <th>3738</th>\n      <td>2016</td>\n      <td>Wyoming</td>\n      <td>Other</td>\n      <td>constitution party</td>\n      <td>2042</td>\n      <td>258788</td>\n      <td>429,682</td>\n      <td>3.0</td>\n      <td>Castle, Darrell L.2016</td>\n      <td>0.007891</td>\n    </tr>\n    <tr>\n      <th>3739</th>\n      <td>2016</td>\n      <td>Wyoming</td>\n      <td>Other</td>\n      <td>NaN</td>\n      <td>278</td>\n      <td>258788</td>\n      <td>429,682</td>\n      <td>3.0</td>\n      <td>Over Vote2016</td>\n      <td>0.001074</td>\n    </tr>\n  </tbody>\n</table>\n<p>3740 rows × 10 columns</p>\n</div>"
     },
     "metadata": {},
     "execution_count": 111
    }
   ],
   "source": [
    "final_final_but_not_quite.loc[final_final_but_not_quite[0] == 0, [\"candidate\"]] = 'Other'\n",
    "maybe_final = final_final_but_not_quite.drop([0], axis=1)\n",
    "maybe_final\n",
    "\n",
    "for row in maybe_final:\n",
    "    maybe_final[\"perc_won\"] = maybe_final[\"candidatevotes\"] / maybe_final[\"totalvotes\"] \n",
    "\n",
    "#maybe_final[\"Eligible_voting_pop\"] = maybe_final[\"Eligible_voting_pop\"].replace({'\\$': '', ',': ''}, regex=True)\n",
    "#maybe_final[\"Eligible_voting_pop\"].astype(float)\n",
    "#maybe_final.dtypes\n",
    "\n",
    "\n",
    "#for row in maybe_final:\n",
    " #   maybe_final[\"perc_participated\"] = maybe_final[\"candidatevotes\"] / maybe_final[\"Eligible_voting_pop\"] * 100\n",
    "maybe_final"
   ]
  },
  {
   "cell_type": "code",
   "execution_count": 112,
   "metadata": {},
   "outputs": [
    {
     "output_type": "execute_result",
     "data": {
      "text/plain": "             candidate  year          state  candidatevotes  \\\n204      Carter, Jimmy  1976        Alabama          659170   \n562       Ford, Gerald  1976         Alaska           71555   \n563       Ford, Gerald  1976        Arizona          418642   \n207      Carter, Jimmy  1976       Arkansas          498604   \n565       Ford, Gerald  1976     California         3882244   \n...                ...   ...            ...             ...   \n454   Clinton, Hillary  2016       Virginia         1981473   \n455   Clinton, Hillary  2016     Washington         1742718   \n1672  Trump, Donald J.  2016  West Virginia          489371   \n1673  Trump, Donald J.  2016      Wisconsin         1405284   \n1674  Trump, Donald J.  2016        Wyoming          174419   \n\n                       new  \n204      Carter, Jimmy1976  \n562       Ford, Gerald1976  \n563       Ford, Gerald1976  \n207      Carter, Jimmy1976  \n565       Ford, Gerald1976  \n...                    ...  \n454   Clinton, Hillary2016  \n455   Clinton, Hillary2016  \n1672  Trump, Donald J.2016  \n1673  Trump, Donald J.2016  \n1674  Trump, Donald J.2016  \n\n[561 rows x 5 columns]",
      "text/html": "<div>\n<style scoped>\n    .dataframe tbody tr th:only-of-type {\n        vertical-align: middle;\n    }\n\n    .dataframe tbody tr th {\n        vertical-align: top;\n    }\n\n    .dataframe thead th {\n        text-align: right;\n    }\n</style>\n<table border=\"1\" class=\"dataframe\">\n  <thead>\n    <tr style=\"text-align: right;\">\n      <th></th>\n      <th>candidate</th>\n      <th>year</th>\n      <th>state</th>\n      <th>candidatevotes</th>\n      <th>new</th>\n    </tr>\n  </thead>\n  <tbody>\n    <tr>\n      <th>204</th>\n      <td>Carter, Jimmy</td>\n      <td>1976</td>\n      <td>Alabama</td>\n      <td>659170</td>\n      <td>Carter, Jimmy1976</td>\n    </tr>\n    <tr>\n      <th>562</th>\n      <td>Ford, Gerald</td>\n      <td>1976</td>\n      <td>Alaska</td>\n      <td>71555</td>\n      <td>Ford, Gerald1976</td>\n    </tr>\n    <tr>\n      <th>563</th>\n      <td>Ford, Gerald</td>\n      <td>1976</td>\n      <td>Arizona</td>\n      <td>418642</td>\n      <td>Ford, Gerald1976</td>\n    </tr>\n    <tr>\n      <th>207</th>\n      <td>Carter, Jimmy</td>\n      <td>1976</td>\n      <td>Arkansas</td>\n      <td>498604</td>\n      <td>Carter, Jimmy1976</td>\n    </tr>\n    <tr>\n      <th>565</th>\n      <td>Ford, Gerald</td>\n      <td>1976</td>\n      <td>California</td>\n      <td>3882244</td>\n      <td>Ford, Gerald1976</td>\n    </tr>\n    <tr>\n      <th>...</th>\n      <td>...</td>\n      <td>...</td>\n      <td>...</td>\n      <td>...</td>\n      <td>...</td>\n    </tr>\n    <tr>\n      <th>454</th>\n      <td>Clinton, Hillary</td>\n      <td>2016</td>\n      <td>Virginia</td>\n      <td>1981473</td>\n      <td>Clinton, Hillary2016</td>\n    </tr>\n    <tr>\n      <th>455</th>\n      <td>Clinton, Hillary</td>\n      <td>2016</td>\n      <td>Washington</td>\n      <td>1742718</td>\n      <td>Clinton, Hillary2016</td>\n    </tr>\n    <tr>\n      <th>1672</th>\n      <td>Trump, Donald J.</td>\n      <td>2016</td>\n      <td>West Virginia</td>\n      <td>489371</td>\n      <td>Trump, Donald J.2016</td>\n    </tr>\n    <tr>\n      <th>1673</th>\n      <td>Trump, Donald J.</td>\n      <td>2016</td>\n      <td>Wisconsin</td>\n      <td>1405284</td>\n      <td>Trump, Donald J.2016</td>\n    </tr>\n    <tr>\n      <th>1674</th>\n      <td>Trump, Donald J.</td>\n      <td>2016</td>\n      <td>Wyoming</td>\n      <td>174419</td>\n      <td>Trump, Donald J.2016</td>\n    </tr>\n  </tbody>\n</table>\n<p>561 rows × 5 columns</p>\n</div>"
     },
     "metadata": {},
     "execution_count": 112
    }
   ],
   "source": [
    "find_top_candidates_state_df = maybe_final[[\"year\",\"state\",\"candidate\", \"candidatevotes\", \"new\"]]\n",
    "find_top_candidates_state_df = find_top_candidates_state_df.groupby([\"candidate\", \"year\", \"state\"]).sum().reset_index()\n",
    "\n",
    "find_top_candidates_state_df= find_top_candidates_state_df.sort_values(by=[ \"year\",\"candidatevotes\", \"state\"], ascending=False)\n",
    "find_top_candidates_state_df = find_top_candidates_state_df.sort_values([\"year\", \"state\"]).groupby([\"state\",\"year\"]).head(1)\n",
    "\n",
    "find_top_candidates_state_df[\"new\"] = find_top_candidates_state_df[\"candidate\"] + find_top_candidates_state_df[\"year\"].astype(str)\n",
    "#find_top_candidates_state_df.sort_values([\"state\", \"year\"])\n",
    "find_top_candidates_state_df\n",
    "\n",
    "#find_top_candidates_state_df.loc[find_top_candidates_state_df[\"state\"] == \"Alabama\"]"
   ]
  },
  {
   "cell_type": "code",
   "execution_count": 113,
   "metadata": {},
   "outputs": [
    {
     "output_type": "execute_result",
     "data": {
      "text/plain": "      year    state      candidate                       party  \\\n0     1976  Alabama  Carter, Jimmy                    democrat   \n1     1976  Alabama   Ford, Gerald                  republican   \n2     1976  Alabama          Other  american independent party   \n3     1976  Alabama          Other                 prohibition   \n4     1976  Alabama          Other         communist party use   \n...    ...      ...            ...                         ...   \n3735  2016  Wyoming          Other                     Unknown   \n3736  2016  Wyoming          Other                 independent   \n3737  2016  Wyoming          Other                     Unknown   \n3738  2016  Wyoming          Other          constitution party   \n3739  2016  Wyoming          Other                     Unknown   \n\n      candidatevotes  totalvotes Eligible_voting_pop  electoralvotes  \\\n0             659170     1182850               1e-50             9.0   \n1             504070     1182850               1e-50             9.0   \n2               9198     1182850               1e-50             9.0   \n3               6669     1182850               1e-50             9.0   \n4               1954     1182850               1e-50             9.0   \n...              ...         ...                 ...             ...   \n3735            6904      258788             429,682             3.0   \n3736            3224      258788             429,682             3.0   \n3737            2661      258788             429,682             3.0   \n3738            2042      258788             429,682             3.0   \n3739             278      258788             429,682             3.0   \n\n      perc_won state_won_flag  \n0     0.557273              1  \n1     0.426149              0  \n2     0.007776              0  \n3     0.005638              0  \n4     0.001652              0  \n...        ...            ...  \n3735  0.026678              0  \n3736  0.012458              0  \n3737  0.010283              0  \n3738  0.007891              0  \n3739  0.001074              0  \n\n[3740 rows x 10 columns]",
      "text/html": "<div>\n<style scoped>\n    .dataframe tbody tr th:only-of-type {\n        vertical-align: middle;\n    }\n\n    .dataframe tbody tr th {\n        vertical-align: top;\n    }\n\n    .dataframe thead th {\n        text-align: right;\n    }\n</style>\n<table border=\"1\" class=\"dataframe\">\n  <thead>\n    <tr style=\"text-align: right;\">\n      <th></th>\n      <th>year</th>\n      <th>state</th>\n      <th>candidate</th>\n      <th>party</th>\n      <th>candidatevotes</th>\n      <th>totalvotes</th>\n      <th>Eligible_voting_pop</th>\n      <th>electoralvotes</th>\n      <th>perc_won</th>\n      <th>state_won_flag</th>\n    </tr>\n  </thead>\n  <tbody>\n    <tr>\n      <th>0</th>\n      <td>1976</td>\n      <td>Alabama</td>\n      <td>Carter, Jimmy</td>\n      <td>democrat</td>\n      <td>659170</td>\n      <td>1182850</td>\n      <td>1e-50</td>\n      <td>9.0</td>\n      <td>0.557273</td>\n      <td>1</td>\n    </tr>\n    <tr>\n      <th>1</th>\n      <td>1976</td>\n      <td>Alabama</td>\n      <td>Ford, Gerald</td>\n      <td>republican</td>\n      <td>504070</td>\n      <td>1182850</td>\n      <td>1e-50</td>\n      <td>9.0</td>\n      <td>0.426149</td>\n      <td>0</td>\n    </tr>\n    <tr>\n      <th>2</th>\n      <td>1976</td>\n      <td>Alabama</td>\n      <td>Other</td>\n      <td>american independent party</td>\n      <td>9198</td>\n      <td>1182850</td>\n      <td>1e-50</td>\n      <td>9.0</td>\n      <td>0.007776</td>\n      <td>0</td>\n    </tr>\n    <tr>\n      <th>3</th>\n      <td>1976</td>\n      <td>Alabama</td>\n      <td>Other</td>\n      <td>prohibition</td>\n      <td>6669</td>\n      <td>1182850</td>\n      <td>1e-50</td>\n      <td>9.0</td>\n      <td>0.005638</td>\n      <td>0</td>\n    </tr>\n    <tr>\n      <th>4</th>\n      <td>1976</td>\n      <td>Alabama</td>\n      <td>Other</td>\n      <td>communist party use</td>\n      <td>1954</td>\n      <td>1182850</td>\n      <td>1e-50</td>\n      <td>9.0</td>\n      <td>0.001652</td>\n      <td>0</td>\n    </tr>\n    <tr>\n      <th>...</th>\n      <td>...</td>\n      <td>...</td>\n      <td>...</td>\n      <td>...</td>\n      <td>...</td>\n      <td>...</td>\n      <td>...</td>\n      <td>...</td>\n      <td>...</td>\n      <td>...</td>\n    </tr>\n    <tr>\n      <th>3735</th>\n      <td>2016</td>\n      <td>Wyoming</td>\n      <td>Other</td>\n      <td>Unknown</td>\n      <td>6904</td>\n      <td>258788</td>\n      <td>429,682</td>\n      <td>3.0</td>\n      <td>0.026678</td>\n      <td>0</td>\n    </tr>\n    <tr>\n      <th>3736</th>\n      <td>2016</td>\n      <td>Wyoming</td>\n      <td>Other</td>\n      <td>independent</td>\n      <td>3224</td>\n      <td>258788</td>\n      <td>429,682</td>\n      <td>3.0</td>\n      <td>0.012458</td>\n      <td>0</td>\n    </tr>\n    <tr>\n      <th>3737</th>\n      <td>2016</td>\n      <td>Wyoming</td>\n      <td>Other</td>\n      <td>Unknown</td>\n      <td>2661</td>\n      <td>258788</td>\n      <td>429,682</td>\n      <td>3.0</td>\n      <td>0.010283</td>\n      <td>0</td>\n    </tr>\n    <tr>\n      <th>3738</th>\n      <td>2016</td>\n      <td>Wyoming</td>\n      <td>Other</td>\n      <td>constitution party</td>\n      <td>2042</td>\n      <td>258788</td>\n      <td>429,682</td>\n      <td>3.0</td>\n      <td>0.007891</td>\n      <td>0</td>\n    </tr>\n    <tr>\n      <th>3739</th>\n      <td>2016</td>\n      <td>Wyoming</td>\n      <td>Other</td>\n      <td>Unknown</td>\n      <td>278</td>\n      <td>258788</td>\n      <td>429,682</td>\n      <td>3.0</td>\n      <td>0.001074</td>\n      <td>0</td>\n    </tr>\n  </tbody>\n</table>\n<p>3740 rows × 10 columns</p>\n</div>"
     },
     "metadata": {},
     "execution_count": 113
    }
   ],
   "source": [
    "\n",
    "state_winner_added = maybe_final.merge(find_top_candidates_state_df, how=\"left\", on= [\"new\", \"state\"], suffixes=('', 'drop'))\n",
    "state_winner_added[\"candidatedrop\"] = state_winner_added[\"candidatedrop\"].fillna(0)\n",
    "state_winner_added.loc[state_winner_added[\"candidatedrop\"] != 0, [\"candidatedrop\"]] = '1'\n",
    "state_winner_added.loc[state_winner_added[\"candidatedrop\"] == 0, [\"candidatedrop\"]] = '0'\n",
    "\n",
    "state_winner_added = state_winner_added.drop([\"yeardrop\",  \"candidatevotesdrop\", \"new\"], axis=1).rename(columns={\"candidatedrop\": \"state_won_flag\"})\n",
    "\n",
    "state_winner_added[\"party\"] = state_winner_added[\"party\"].fillna(\"Unknown\")\n",
    "\n",
    "final_df = state_winner_added\n",
    "\n",
    "final_df"
   ]
  },
  {
   "cell_type": "code",
   "execution_count": 114,
   "metadata": {},
   "outputs": [
    {
     "output_type": "execute_result",
     "data": {
      "text/plain": "    year          candidate  electoralvotes                    new\n21  2016   Trump, Donald J.           305.0   Trump, Donald J.2016\n20  2016   Clinton, Hillary           298.0   Clinton, Hillary2016\n18  2012   Obama, Barack H.           358.0   Obama, Barack H.2012\n19  2012       Romney, Mitt           206.0       Romney, Mitt2012\n17  2008   Obama, Barack H.           392.0   Obama, Barack H.2008\n16  2008       McCain, John           174.0       McCain, John2008\n14  2004    Bush, George W.           286.0    Bush, George W.2004\n15  2004        Kerry, John           280.0        Kerry, John2004\n13  2000           Gore, Al           330.0           Gore, Al2000\n12  2000    Bush, George W.           271.0    Bush, George W.2000\n10  1996      Clinton, Bill           409.0      Clinton, Bill1996\n11  1996       Dole, Robert           159.0       Dole, Robert1996\n9   1992      Clinton, Bill           400.0      Clinton, Bill1992\n8   1992  Bush, George H.W.           168.0  Bush, George H.W.1992\n6   1988  Bush, George H.W.           426.0  Bush, George H.W.1988\n7   1988   Dukakis, Michael           145.0   Dukakis, Michael1988\n5   1984     Reagan, Ronald           561.0     Reagan, Ronald1984\n4   1984    Mondale, Walter            10.0    Mondale, Walter1984\n3   1980     Reagan, Ronald           530.0     Reagan, Ronald1980\n2   1980      Carter, Jimmy            46.0      Carter, Jimmy1980\n0   1976      Carter, Jimmy           335.0      Carter, Jimmy1976\n1   1976       Ford, Gerald           241.0       Ford, Gerald1976",
      "text/html": "<div>\n<style scoped>\n    .dataframe tbody tr th:only-of-type {\n        vertical-align: middle;\n    }\n\n    .dataframe tbody tr th {\n        vertical-align: top;\n    }\n\n    .dataframe thead th {\n        text-align: right;\n    }\n</style>\n<table border=\"1\" class=\"dataframe\">\n  <thead>\n    <tr style=\"text-align: right;\">\n      <th></th>\n      <th>year</th>\n      <th>candidate</th>\n      <th>electoralvotes</th>\n      <th>new</th>\n    </tr>\n  </thead>\n  <tbody>\n    <tr>\n      <th>21</th>\n      <td>2016</td>\n      <td>Trump, Donald J.</td>\n      <td>305.0</td>\n      <td>Trump, Donald J.2016</td>\n    </tr>\n    <tr>\n      <th>20</th>\n      <td>2016</td>\n      <td>Clinton, Hillary</td>\n      <td>298.0</td>\n      <td>Clinton, Hillary2016</td>\n    </tr>\n    <tr>\n      <th>18</th>\n      <td>2012</td>\n      <td>Obama, Barack H.</td>\n      <td>358.0</td>\n      <td>Obama, Barack H.2012</td>\n    </tr>\n    <tr>\n      <th>19</th>\n      <td>2012</td>\n      <td>Romney, Mitt</td>\n      <td>206.0</td>\n      <td>Romney, Mitt2012</td>\n    </tr>\n    <tr>\n      <th>17</th>\n      <td>2008</td>\n      <td>Obama, Barack H.</td>\n      <td>392.0</td>\n      <td>Obama, Barack H.2008</td>\n    </tr>\n    <tr>\n      <th>16</th>\n      <td>2008</td>\n      <td>McCain, John</td>\n      <td>174.0</td>\n      <td>McCain, John2008</td>\n    </tr>\n    <tr>\n      <th>14</th>\n      <td>2004</td>\n      <td>Bush, George W.</td>\n      <td>286.0</td>\n      <td>Bush, George W.2004</td>\n    </tr>\n    <tr>\n      <th>15</th>\n      <td>2004</td>\n      <td>Kerry, John</td>\n      <td>280.0</td>\n      <td>Kerry, John2004</td>\n    </tr>\n    <tr>\n      <th>13</th>\n      <td>2000</td>\n      <td>Gore, Al</td>\n      <td>330.0</td>\n      <td>Gore, Al2000</td>\n    </tr>\n    <tr>\n      <th>12</th>\n      <td>2000</td>\n      <td>Bush, George W.</td>\n      <td>271.0</td>\n      <td>Bush, George W.2000</td>\n    </tr>\n    <tr>\n      <th>10</th>\n      <td>1996</td>\n      <td>Clinton, Bill</td>\n      <td>409.0</td>\n      <td>Clinton, Bill1996</td>\n    </tr>\n    <tr>\n      <th>11</th>\n      <td>1996</td>\n      <td>Dole, Robert</td>\n      <td>159.0</td>\n      <td>Dole, Robert1996</td>\n    </tr>\n    <tr>\n      <th>9</th>\n      <td>1992</td>\n      <td>Clinton, Bill</td>\n      <td>400.0</td>\n      <td>Clinton, Bill1992</td>\n    </tr>\n    <tr>\n      <th>8</th>\n      <td>1992</td>\n      <td>Bush, George H.W.</td>\n      <td>168.0</td>\n      <td>Bush, George H.W.1992</td>\n    </tr>\n    <tr>\n      <th>6</th>\n      <td>1988</td>\n      <td>Bush, George H.W.</td>\n      <td>426.0</td>\n      <td>Bush, George H.W.1988</td>\n    </tr>\n    <tr>\n      <th>7</th>\n      <td>1988</td>\n      <td>Dukakis, Michael</td>\n      <td>145.0</td>\n      <td>Dukakis, Michael1988</td>\n    </tr>\n    <tr>\n      <th>5</th>\n      <td>1984</td>\n      <td>Reagan, Ronald</td>\n      <td>561.0</td>\n      <td>Reagan, Ronald1984</td>\n    </tr>\n    <tr>\n      <th>4</th>\n      <td>1984</td>\n      <td>Mondale, Walter</td>\n      <td>10.0</td>\n      <td>Mondale, Walter1984</td>\n    </tr>\n    <tr>\n      <th>3</th>\n      <td>1980</td>\n      <td>Reagan, Ronald</td>\n      <td>530.0</td>\n      <td>Reagan, Ronald1980</td>\n    </tr>\n    <tr>\n      <th>2</th>\n      <td>1980</td>\n      <td>Carter, Jimmy</td>\n      <td>46.0</td>\n      <td>Carter, Jimmy1980</td>\n    </tr>\n    <tr>\n      <th>0</th>\n      <td>1976</td>\n      <td>Carter, Jimmy</td>\n      <td>335.0</td>\n      <td>Carter, Jimmy1976</td>\n    </tr>\n    <tr>\n      <th>1</th>\n      <td>1976</td>\n      <td>Ford, Gerald</td>\n      <td>241.0</td>\n      <td>Ford, Gerald1976</td>\n    </tr>\n  </tbody>\n</table>\n</div>"
     },
     "metadata": {},
     "execution_count": 114
    }
   ],
   "source": [
    "#electoral college df\n",
    "electoral_college = state_winner_added[[\"year\", \"state\", \"candidate\",\"electoralvotes\", \"state_won_flag\"]]\n",
    "electoral_college = electoral_college.loc[electoral_college[\"state_won_flag\"] == '1']\n",
    "\n",
    "electoral_college = electoral_college.drop([\"state\",\"state_won_flag\" ], axis=1)\n",
    "electoral_college = electoral_college.groupby([\"year\", \"candidate\"]).sum().reset_index()\n",
    "\n",
    "electoral_college[\"new\"] = electoral_college[\"candidate\"] + electoral_college[\"year\"].astype(str)\n",
    "electoral_college = electoral_college.sort_values([\"year\", \"electoralvotes\"], ascending=False)\n",
    "\n",
    "\n",
    "electoral_college "
   ]
  },
  {
   "cell_type": "code",
   "execution_count": 115,
   "metadata": {},
   "outputs": [],
   "source": [
    "#start of year level dataset\n",
    "\n",
    "year_df = final_df.groupby([\"year\", \"candidate\"]).sum().reset_index().sort_values(by= [\"year\", \"candidatevotes\"], ascending=False).groupby(\"year\").head(1)\n",
    "popular_vote = year_df[[\"year\", \"candidate\", \"candidatevotes\"]]\n",
    "popular_vote[\"new\"] = popular_vote[\"candidate\"] + popular_vote[\"year\"].astype(str)\n",
    "\n",
    "\n",
    "\n",
    "year_df = final_df.groupby([\"year\", \"candidate\"]).sum().reset_index().sort_values(by= [\"year\", \"candidatevotes\"], ascending=False).groupby(\"year\").head(3)\n",
    "\n",
    "vote = year_df[[\"year\", \"candidate\", \"candidatevotes\"]]\n",
    "vote[\"new\"] = vote[\"candidate\"] + vote[\"year\"].astype(str)\n",
    "\n",
    "vote = vote.merge(popular_vote, how=\"left\", left_on=\"new\", right_on=\"new\", suffixes=('', 'drop'))\n",
    "vote = vote.merge(electoral_college, how=\"left\", left_on=\"new\", right_on=\"new\", suffixes=('', 'drop1'))"
   ]
  },
  {
   "cell_type": "code",
   "execution_count": 116,
   "metadata": {},
   "outputs": [
    {
     "output_type": "execute_result",
     "data": {
      "text/plain": "    year          candidate  candidatevotes won_pop_vote_flag  electoralvotes\n0   2016   Clinton, Hillary        65853581                 1           298.0\n1   2016   Trump, Donald J.        62985062                 0           305.0\n2   2016              Other         7948544                 0             0.0\n3   2012   Obama, Barack H.        65899660                 1           358.0\n4   2012       Romney, Mitt        59641482                 0           206.0\n5   2012              Other         3598855                 0             0.0\n6   2008   Obama, Barack H.        69498459                 1           392.0\n7   2008       McCain, John        59948283                 0           174.0\n8   2008              Other         1972511                 0             0.0\n9   2004    Bush, George W.        62028285                 1           286.0\n10  2004        Kerry, John        59028079                 0           280.0\n11  2004              Other         1293086                 0             0.0\n12  2000           Gore, Al        50996062                 1           330.0\n13  2000    Bush, George W.        50456169                 0           271.0\n14  2000              Other         4141751                 0             0.0\n15  1996      Clinton, Bill        47401898                 1           409.0\n16  1996       Dole, Robert        39198482                 0           159.0\n17  1996              Other         9789438                 0             0.0\n18  1992      Clinton, Bill        44954303                 1           400.0\n19  1992  Bush, George H.W.        39103872                 0           168.0\n20  1992              Other        20541605                 0             0.0\n21  1988  Bush, George H.W.        48886097                 1           426.0\n22  1988   Dukakis, Michael        41809074                 0           145.0\n23  1988              Other          891654                 0             0.0\n24  1984     Reagan, Ronald        54455073                 1           561.0\n25  1984    Mondale, Walter        37568137                 0            10.0\n26  1984              Other          631651                 0             0.0\n27  1980     Reagan, Ronald        43898770                 1           530.0\n28  1980      Carter, Jimmy        35480948                 0            46.0\n29  1980              Other         7117133                 0             0.0\n30  1976      Carter, Jimmy        40825839                 1           335.0\n31  1976       Ford, Gerald        39145771                 0           241.0\n32  1976              Other         1629734                 0             0.0",
      "text/html": "<div>\n<style scoped>\n    .dataframe tbody tr th:only-of-type {\n        vertical-align: middle;\n    }\n\n    .dataframe tbody tr th {\n        vertical-align: top;\n    }\n\n    .dataframe thead th {\n        text-align: right;\n    }\n</style>\n<table border=\"1\" class=\"dataframe\">\n  <thead>\n    <tr style=\"text-align: right;\">\n      <th></th>\n      <th>year</th>\n      <th>candidate</th>\n      <th>candidatevotes</th>\n      <th>won_pop_vote_flag</th>\n      <th>electoralvotes</th>\n    </tr>\n  </thead>\n  <tbody>\n    <tr>\n      <th>0</th>\n      <td>2016</td>\n      <td>Clinton, Hillary</td>\n      <td>65853581</td>\n      <td>1</td>\n      <td>298.0</td>\n    </tr>\n    <tr>\n      <th>1</th>\n      <td>2016</td>\n      <td>Trump, Donald J.</td>\n      <td>62985062</td>\n      <td>0</td>\n      <td>305.0</td>\n    </tr>\n    <tr>\n      <th>2</th>\n      <td>2016</td>\n      <td>Other</td>\n      <td>7948544</td>\n      <td>0</td>\n      <td>0.0</td>\n    </tr>\n    <tr>\n      <th>3</th>\n      <td>2012</td>\n      <td>Obama, Barack H.</td>\n      <td>65899660</td>\n      <td>1</td>\n      <td>358.0</td>\n    </tr>\n    <tr>\n      <th>4</th>\n      <td>2012</td>\n      <td>Romney, Mitt</td>\n      <td>59641482</td>\n      <td>0</td>\n      <td>206.0</td>\n    </tr>\n    <tr>\n      <th>5</th>\n      <td>2012</td>\n      <td>Other</td>\n      <td>3598855</td>\n      <td>0</td>\n      <td>0.0</td>\n    </tr>\n    <tr>\n      <th>6</th>\n      <td>2008</td>\n      <td>Obama, Barack H.</td>\n      <td>69498459</td>\n      <td>1</td>\n      <td>392.0</td>\n    </tr>\n    <tr>\n      <th>7</th>\n      <td>2008</td>\n      <td>McCain, John</td>\n      <td>59948283</td>\n      <td>0</td>\n      <td>174.0</td>\n    </tr>\n    <tr>\n      <th>8</th>\n      <td>2008</td>\n      <td>Other</td>\n      <td>1972511</td>\n      <td>0</td>\n      <td>0.0</td>\n    </tr>\n    <tr>\n      <th>9</th>\n      <td>2004</td>\n      <td>Bush, George W.</td>\n      <td>62028285</td>\n      <td>1</td>\n      <td>286.0</td>\n    </tr>\n    <tr>\n      <th>10</th>\n      <td>2004</td>\n      <td>Kerry, John</td>\n      <td>59028079</td>\n      <td>0</td>\n      <td>280.0</td>\n    </tr>\n    <tr>\n      <th>11</th>\n      <td>2004</td>\n      <td>Other</td>\n      <td>1293086</td>\n      <td>0</td>\n      <td>0.0</td>\n    </tr>\n    <tr>\n      <th>12</th>\n      <td>2000</td>\n      <td>Gore, Al</td>\n      <td>50996062</td>\n      <td>1</td>\n      <td>330.0</td>\n    </tr>\n    <tr>\n      <th>13</th>\n      <td>2000</td>\n      <td>Bush, George W.</td>\n      <td>50456169</td>\n      <td>0</td>\n      <td>271.0</td>\n    </tr>\n    <tr>\n      <th>14</th>\n      <td>2000</td>\n      <td>Other</td>\n      <td>4141751</td>\n      <td>0</td>\n      <td>0.0</td>\n    </tr>\n    <tr>\n      <th>15</th>\n      <td>1996</td>\n      <td>Clinton, Bill</td>\n      <td>47401898</td>\n      <td>1</td>\n      <td>409.0</td>\n    </tr>\n    <tr>\n      <th>16</th>\n      <td>1996</td>\n      <td>Dole, Robert</td>\n      <td>39198482</td>\n      <td>0</td>\n      <td>159.0</td>\n    </tr>\n    <tr>\n      <th>17</th>\n      <td>1996</td>\n      <td>Other</td>\n      <td>9789438</td>\n      <td>0</td>\n      <td>0.0</td>\n    </tr>\n    <tr>\n      <th>18</th>\n      <td>1992</td>\n      <td>Clinton, Bill</td>\n      <td>44954303</td>\n      <td>1</td>\n      <td>400.0</td>\n    </tr>\n    <tr>\n      <th>19</th>\n      <td>1992</td>\n      <td>Bush, George H.W.</td>\n      <td>39103872</td>\n      <td>0</td>\n      <td>168.0</td>\n    </tr>\n    <tr>\n      <th>20</th>\n      <td>1992</td>\n      <td>Other</td>\n      <td>20541605</td>\n      <td>0</td>\n      <td>0.0</td>\n    </tr>\n    <tr>\n      <th>21</th>\n      <td>1988</td>\n      <td>Bush, George H.W.</td>\n      <td>48886097</td>\n      <td>1</td>\n      <td>426.0</td>\n    </tr>\n    <tr>\n      <th>22</th>\n      <td>1988</td>\n      <td>Dukakis, Michael</td>\n      <td>41809074</td>\n      <td>0</td>\n      <td>145.0</td>\n    </tr>\n    <tr>\n      <th>23</th>\n      <td>1988</td>\n      <td>Other</td>\n      <td>891654</td>\n      <td>0</td>\n      <td>0.0</td>\n    </tr>\n    <tr>\n      <th>24</th>\n      <td>1984</td>\n      <td>Reagan, Ronald</td>\n      <td>54455073</td>\n      <td>1</td>\n      <td>561.0</td>\n    </tr>\n    <tr>\n      <th>25</th>\n      <td>1984</td>\n      <td>Mondale, Walter</td>\n      <td>37568137</td>\n      <td>0</td>\n      <td>10.0</td>\n    </tr>\n    <tr>\n      <th>26</th>\n      <td>1984</td>\n      <td>Other</td>\n      <td>631651</td>\n      <td>0</td>\n      <td>0.0</td>\n    </tr>\n    <tr>\n      <th>27</th>\n      <td>1980</td>\n      <td>Reagan, Ronald</td>\n      <td>43898770</td>\n      <td>1</td>\n      <td>530.0</td>\n    </tr>\n    <tr>\n      <th>28</th>\n      <td>1980</td>\n      <td>Carter, Jimmy</td>\n      <td>35480948</td>\n      <td>0</td>\n      <td>46.0</td>\n    </tr>\n    <tr>\n      <th>29</th>\n      <td>1980</td>\n      <td>Other</td>\n      <td>7117133</td>\n      <td>0</td>\n      <td>0.0</td>\n    </tr>\n    <tr>\n      <th>30</th>\n      <td>1976</td>\n      <td>Carter, Jimmy</td>\n      <td>40825839</td>\n      <td>1</td>\n      <td>335.0</td>\n    </tr>\n    <tr>\n      <th>31</th>\n      <td>1976</td>\n      <td>Ford, Gerald</td>\n      <td>39145771</td>\n      <td>0</td>\n      <td>241.0</td>\n    </tr>\n    <tr>\n      <th>32</th>\n      <td>1976</td>\n      <td>Other</td>\n      <td>1629734</td>\n      <td>0</td>\n      <td>0.0</td>\n    </tr>\n  </tbody>\n</table>\n</div>"
     },
     "metadata": {},
     "execution_count": 116
    }
   ],
   "source": [
    "vote = vote.drop([\"new\", \"yeardrop\", \"yeardrop1\", \"candidatevotesdrop\", \"candidatedrop1\"], axis=1)\n",
    "vote[\"electoralvotes\"] = vote[\"electoralvotes\"].fillna(0)\n",
    "vote[\"candidatedrop\"] = vote[\"candidatedrop\"].fillna(0)\n",
    "\n",
    "vote.loc[vote[\"candidatedrop\"] != 0, [\"candidatedrop\"]] = '1'\n",
    "vote.loc[vote[\"candidatedrop\"] == 0, [\"candidatedrop\"]] = '0'\n",
    "\n",
    "vote.rename(columns={\"candidatedrop\": \"won_pop_vote_flag\"}, inplace=True)\n",
    "\n",
    "vote"
   ]
  },
  {
   "cell_type": "code",
   "execution_count": null,
   "metadata": {},
   "outputs": [],
   "source": []
  },
  {
   "cell_type": "code",
   "execution_count": null,
   "metadata": {},
   "outputs": [],
   "source": []
  }
 ],
 "metadata": {
  "language_info": {
   "codemirror_mode": {
    "name": "ipython",
    "version": 3
   },
   "file_extension": ".py",
   "mimetype": "text/x-python",
   "name": "python",
   "nbconvert_exporter": "python",
   "pygments_lexer": "ipython3",
   "version": "3.7.6-final"
  },
  "orig_nbformat": 2,
  "kernelspec": {
   "name": "python361064bitpythondataconda702a049063da4b8fb25107aa449393fc",
   "display_name": "Python 3.6.10 64-bit ('PythonData': conda)"
  }
 },
 "nbformat": 4,
 "nbformat_minor": 2
}