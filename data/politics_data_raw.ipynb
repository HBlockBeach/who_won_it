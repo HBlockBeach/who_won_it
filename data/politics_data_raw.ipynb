{
 "cells": [
  {
   "cell_type": "code",
   "execution_count": 192,
   "metadata": {},
   "outputs": [],
   "source": [
    "#import dependencies\n",
    "\n",
    "import pandas as pd     \n",
    "import matplotlib.pyplot as plt"
   ]
  },
  {
   "cell_type": "code",
   "execution_count": 193,
   "metadata": {},
   "outputs": [],
   "source": [
    "#read in csvs\n",
    "\n",
    "electiondata = pd.read_csv(\"1976-2016-president.csv\")\n",
    "rate1 = pd.read_csv(\"1980-2014 November General Election - Turnout Rates.csv\")\n",
    "rate2 = pd.read_csv(\"2016 November General Election - Turnout Rates.csv\")\n",
    "electoralvotes = pd.read_csv(\"Available Electoral votes .csv\")\n",
    "parties = pd.read_csv(\"parties.csv\")"
   ]
  },
  {
   "cell_type": "code",
   "execution_count": 194,
   "metadata": {},
   "outputs": [
    {
     "output_type": "execute_result",
     "data": {
      "text/plain": "      year    state state_po  state_fips  state_cen  state_ic        office  \\\n0     1976  Alabama       AL           1         63        41  US President   \n1     1976  Alabama       AL           1         63        41  US President   \n2     1976  Alabama       AL           1         63        41  US President   \n3     1976  Alabama       AL           1         63        41  US President   \n4     1976  Alabama       AL           1         63        41  US President   \n...    ...      ...      ...         ...        ...       ...           ...   \n3735  2016  Wyoming       WY          56         83        68  US President   \n3736  2016  Wyoming       WY          56         83        68  US President   \n3737  2016  Wyoming       WY          56         83        68  US President   \n3738  2016  Wyoming       WY          56         83        68  US President   \n3739  2016  Wyoming       WY          56         83        68  US President   \n\n                    candidate                       party  writein  \\\n0               Carter, Jimmy                    democrat    False   \n1                Ford, Gerald                  republican    False   \n2              Maddox, Lester  american independent party    False   \n3     Bubar, Benjamin \"\"Ben\"\"                 prohibition    False   \n4                   Hall, Gus         communist party use    False   \n...                       ...                         ...      ...   \n3735                      NaN                         NaN     True   \n3736                      NaN                 independent    False   \n3737               Blank Vote                         NaN    False   \n3738       Castle, Darrell L.          constitution party    False   \n3739                Over Vote                         NaN    False   \n\n      candidatevotes  totalvotes   version  notes  \n0             659170     1182850  20171015    NaN  \n1             504070     1182850  20171015    NaN  \n2               9198     1182850  20171015    NaN  \n3               6669     1182850  20171015    NaN  \n4               1954     1182850  20171015    NaN  \n...              ...         ...       ...    ...  \n3735            6904      258788  20171015    NaN  \n3736            3224      258788  20171015    NaN  \n3737            2661      258788  20171015    NaN  \n3738            2042      258788  20171015    NaN  \n3739             278      258788  20171015    NaN  \n\n[3740 rows x 14 columns]",
      "text/html": "<div>\n<style scoped>\n    .dataframe tbody tr th:only-of-type {\n        vertical-align: middle;\n    }\n\n    .dataframe tbody tr th {\n        vertical-align: top;\n    }\n\n    .dataframe thead th {\n        text-align: right;\n    }\n</style>\n<table border=\"1\" class=\"dataframe\">\n  <thead>\n    <tr style=\"text-align: right;\">\n      <th></th>\n      <th>year</th>\n      <th>state</th>\n      <th>state_po</th>\n      <th>state_fips</th>\n      <th>state_cen</th>\n      <th>state_ic</th>\n      <th>office</th>\n      <th>candidate</th>\n      <th>party</th>\n      <th>writein</th>\n      <th>candidatevotes</th>\n      <th>totalvotes</th>\n      <th>version</th>\n      <th>notes</th>\n    </tr>\n  </thead>\n  <tbody>\n    <tr>\n      <th>0</th>\n      <td>1976</td>\n      <td>Alabama</td>\n      <td>AL</td>\n      <td>1</td>\n      <td>63</td>\n      <td>41</td>\n      <td>US President</td>\n      <td>Carter, Jimmy</td>\n      <td>democrat</td>\n      <td>False</td>\n      <td>659170</td>\n      <td>1182850</td>\n      <td>20171015</td>\n      <td>NaN</td>\n    </tr>\n    <tr>\n      <th>1</th>\n      <td>1976</td>\n      <td>Alabama</td>\n      <td>AL</td>\n      <td>1</td>\n      <td>63</td>\n      <td>41</td>\n      <td>US President</td>\n      <td>Ford, Gerald</td>\n      <td>republican</td>\n      <td>False</td>\n      <td>504070</td>\n      <td>1182850</td>\n      <td>20171015</td>\n      <td>NaN</td>\n    </tr>\n    <tr>\n      <th>2</th>\n      <td>1976</td>\n      <td>Alabama</td>\n      <td>AL</td>\n      <td>1</td>\n      <td>63</td>\n      <td>41</td>\n      <td>US President</td>\n      <td>Maddox, Lester</td>\n      <td>american independent party</td>\n      <td>False</td>\n      <td>9198</td>\n      <td>1182850</td>\n      <td>20171015</td>\n      <td>NaN</td>\n    </tr>\n    <tr>\n      <th>3</th>\n      <td>1976</td>\n      <td>Alabama</td>\n      <td>AL</td>\n      <td>1</td>\n      <td>63</td>\n      <td>41</td>\n      <td>US President</td>\n      <td>Bubar, Benjamin \"\"Ben\"\"</td>\n      <td>prohibition</td>\n      <td>False</td>\n      <td>6669</td>\n      <td>1182850</td>\n      <td>20171015</td>\n      <td>NaN</td>\n    </tr>\n    <tr>\n      <th>4</th>\n      <td>1976</td>\n      <td>Alabama</td>\n      <td>AL</td>\n      <td>1</td>\n      <td>63</td>\n      <td>41</td>\n      <td>US President</td>\n      <td>Hall, Gus</td>\n      <td>communist party use</td>\n      <td>False</td>\n      <td>1954</td>\n      <td>1182850</td>\n      <td>20171015</td>\n      <td>NaN</td>\n    </tr>\n    <tr>\n      <th>...</th>\n      <td>...</td>\n      <td>...</td>\n      <td>...</td>\n      <td>...</td>\n      <td>...</td>\n      <td>...</td>\n      <td>...</td>\n      <td>...</td>\n      <td>...</td>\n      <td>...</td>\n      <td>...</td>\n      <td>...</td>\n      <td>...</td>\n      <td>...</td>\n    </tr>\n    <tr>\n      <th>3735</th>\n      <td>2016</td>\n      <td>Wyoming</td>\n      <td>WY</td>\n      <td>56</td>\n      <td>83</td>\n      <td>68</td>\n      <td>US President</td>\n      <td>NaN</td>\n      <td>NaN</td>\n      <td>True</td>\n      <td>6904</td>\n      <td>258788</td>\n      <td>20171015</td>\n      <td>NaN</td>\n    </tr>\n    <tr>\n      <th>3736</th>\n      <td>2016</td>\n      <td>Wyoming</td>\n      <td>WY</td>\n      <td>56</td>\n      <td>83</td>\n      <td>68</td>\n      <td>US President</td>\n      <td>NaN</td>\n      <td>independent</td>\n      <td>False</td>\n      <td>3224</td>\n      <td>258788</td>\n      <td>20171015</td>\n      <td>NaN</td>\n    </tr>\n    <tr>\n      <th>3737</th>\n      <td>2016</td>\n      <td>Wyoming</td>\n      <td>WY</td>\n      <td>56</td>\n      <td>83</td>\n      <td>68</td>\n      <td>US President</td>\n      <td>Blank Vote</td>\n      <td>NaN</td>\n      <td>False</td>\n      <td>2661</td>\n      <td>258788</td>\n      <td>20171015</td>\n      <td>NaN</td>\n    </tr>\n    <tr>\n      <th>3738</th>\n      <td>2016</td>\n      <td>Wyoming</td>\n      <td>WY</td>\n      <td>56</td>\n      <td>83</td>\n      <td>68</td>\n      <td>US President</td>\n      <td>Castle, Darrell L.</td>\n      <td>constitution party</td>\n      <td>False</td>\n      <td>2042</td>\n      <td>258788</td>\n      <td>20171015</td>\n      <td>NaN</td>\n    </tr>\n    <tr>\n      <th>3739</th>\n      <td>2016</td>\n      <td>Wyoming</td>\n      <td>WY</td>\n      <td>56</td>\n      <td>83</td>\n      <td>68</td>\n      <td>US President</td>\n      <td>Over Vote</td>\n      <td>NaN</td>\n      <td>False</td>\n      <td>278</td>\n      <td>258788</td>\n      <td>20171015</td>\n      <td>NaN</td>\n    </tr>\n  </tbody>\n</table>\n<p>3740 rows × 14 columns</p>\n</div>"
     },
     "metadata": {},
     "execution_count": 194
    }
   ],
   "source": [
    "electiondata"
   ]
  },
  {
   "cell_type": "code",
   "execution_count": 195,
   "metadata": {},
   "outputs": [],
   "source": [
    "allparties = electiondata[[\"candidate\", \"party\"]]\n",
    "allparties.drop_duplicates(inplace=True)\n",
    "allparties\n",
    "allparties.to_csv(\"allparties.csv\", index=False)"
   ]
  },
  {
   "cell_type": "code",
   "execution_count": 196,
   "metadata": {},
   "outputs": [],
   "source": [
    "#clean up voting data \n",
    "\n",
    "#file one\n",
    "rate1.rename(columns={\"Unnamed: 0\": \"year\", \"Denominators\" : \"Eligible_voting_pop\"}, inplace= True)\n",
    "voting_data_1 = rate1[[\"year\", \"State\", \"Eligible_voting_pop\"]]\n",
    "voting_data_1 = voting_data_1.drop(voting_data_1.index[0])\n",
    "\n",
    "#file two\n",
    "rate2.rename(columns={\"Denominators\" : \"Eligible_voting_pop\"}, inplace= True)\n",
    "rate2[\"year\"] = '2016'\n",
    "voting_data_2 = rate2[[\"year\", \"State\", \"Eligible_voting_pop\"]]\n",
    "voting_data_2 = voting_data_2.drop(voting_data_2.index[0])"
   ]
  },
  {
   "cell_type": "code",
   "execution_count": 197,
   "metadata": {},
   "outputs": [],
   "source": [
    "#merge dataframes\n",
    "\n",
    "total_voting = voting_data_2.append(voting_data_1)"
   ]
  },
  {
   "cell_type": "code",
   "execution_count": 198,
   "metadata": {},
   "outputs": [],
   "source": [
    "#check dtypes on dataframes\n",
    "\n",
    "#total_voting.dtypes\n",
    "    #year is object\n",
    "\n",
    "#electiondata.dtypes\n",
    "    #year is int64"
   ]
  },
  {
   "cell_type": "code",
   "execution_count": 199,
   "metadata": {},
   "outputs": [],
   "source": [
    "#convert year to int for merge\n",
    "\n",
    "total_voting['year'] = total_voting.year.astype(str).astype(int)"
   ]
  },
  {
   "cell_type": "code",
   "execution_count": 200,
   "metadata": {},
   "outputs": [
    {
     "output_type": "execute_result",
     "data": {
      "text/plain": "      year    state state_po  state_fips  state_cen  state_ic        office  \\\n0     1976  Alabama       AL           1         63        41  US President   \n1     1976  Alabama       AL           1         63        41  US President   \n2     1976  Alabama       AL           1         63        41  US President   \n3     1976  Alabama       AL           1         63        41  US President   \n4     1976  Alabama       AL           1         63        41  US President   \n...    ...      ...      ...         ...        ...       ...           ...   \n3735  2016  Wyoming       WY          56         83        68  US President   \n3736  2016  Wyoming       WY          56         83        68  US President   \n3737  2016  Wyoming       WY          56         83        68  US President   \n3738  2016  Wyoming       WY          56         83        68  US President   \n3739  2016  Wyoming       WY          56         83        68  US President   \n\n                    candidate                       party  writein  \\\n0               Carter, Jimmy                    democrat    False   \n1                Ford, Gerald                  republican    False   \n2              Maddox, Lester  american independent party    False   \n3     Bubar, Benjamin \"\"Ben\"\"                 prohibition    False   \n4                   Hall, Gus         communist party use    False   \n...                       ...                         ...      ...   \n3735                      NaN                         NaN     True   \n3736                      NaN                 independent    False   \n3737               Blank Vote                         NaN    False   \n3738       Castle, Darrell L.          constitution party    False   \n3739                Over Vote                         NaN    False   \n\n      candidatevotes  totalvotes   version  notes    State Eligible_voting_pop  \n0             659170     1182850  20171015    NaN      NaN                 NaN  \n1             504070     1182850  20171015    NaN      NaN                 NaN  \n2               9198     1182850  20171015    NaN      NaN                 NaN  \n3               6669     1182850  20171015    NaN      NaN                 NaN  \n4               1954     1182850  20171015    NaN      NaN                 NaN  \n...              ...         ...       ...    ...      ...                 ...  \n3735            6904      258788  20171015    NaN  Wyoming             429,682  \n3736            3224      258788  20171015    NaN  Wyoming             429,682  \n3737            2661      258788  20171015    NaN  Wyoming             429,682  \n3738            2042      258788  20171015    NaN  Wyoming             429,682  \n3739             278      258788  20171015    NaN  Wyoming             429,682  \n\n[3740 rows x 16 columns]",
      "text/html": "<div>\n<style scoped>\n    .dataframe tbody tr th:only-of-type {\n        vertical-align: middle;\n    }\n\n    .dataframe tbody tr th {\n        vertical-align: top;\n    }\n\n    .dataframe thead th {\n        text-align: right;\n    }\n</style>\n<table border=\"1\" class=\"dataframe\">\n  <thead>\n    <tr style=\"text-align: right;\">\n      <th></th>\n      <th>year</th>\n      <th>state</th>\n      <th>state_po</th>\n      <th>state_fips</th>\n      <th>state_cen</th>\n      <th>state_ic</th>\n      <th>office</th>\n      <th>candidate</th>\n      <th>party</th>\n      <th>writein</th>\n      <th>candidatevotes</th>\n      <th>totalvotes</th>\n      <th>version</th>\n      <th>notes</th>\n      <th>State</th>\n      <th>Eligible_voting_pop</th>\n    </tr>\n  </thead>\n  <tbody>\n    <tr>\n      <th>0</th>\n      <td>1976</td>\n      <td>Alabama</td>\n      <td>AL</td>\n      <td>1</td>\n      <td>63</td>\n      <td>41</td>\n      <td>US President</td>\n      <td>Carter, Jimmy</td>\n      <td>democrat</td>\n      <td>False</td>\n      <td>659170</td>\n      <td>1182850</td>\n      <td>20171015</td>\n      <td>NaN</td>\n      <td>NaN</td>\n      <td>NaN</td>\n    </tr>\n    <tr>\n      <th>1</th>\n      <td>1976</td>\n      <td>Alabama</td>\n      <td>AL</td>\n      <td>1</td>\n      <td>63</td>\n      <td>41</td>\n      <td>US President</td>\n      <td>Ford, Gerald</td>\n      <td>republican</td>\n      <td>False</td>\n      <td>504070</td>\n      <td>1182850</td>\n      <td>20171015</td>\n      <td>NaN</td>\n      <td>NaN</td>\n      <td>NaN</td>\n    </tr>\n    <tr>\n      <th>2</th>\n      <td>1976</td>\n      <td>Alabama</td>\n      <td>AL</td>\n      <td>1</td>\n      <td>63</td>\n      <td>41</td>\n      <td>US President</td>\n      <td>Maddox, Lester</td>\n      <td>american independent party</td>\n      <td>False</td>\n      <td>9198</td>\n      <td>1182850</td>\n      <td>20171015</td>\n      <td>NaN</td>\n      <td>NaN</td>\n      <td>NaN</td>\n    </tr>\n    <tr>\n      <th>3</th>\n      <td>1976</td>\n      <td>Alabama</td>\n      <td>AL</td>\n      <td>1</td>\n      <td>63</td>\n      <td>41</td>\n      <td>US President</td>\n      <td>Bubar, Benjamin \"\"Ben\"\"</td>\n      <td>prohibition</td>\n      <td>False</td>\n      <td>6669</td>\n      <td>1182850</td>\n      <td>20171015</td>\n      <td>NaN</td>\n      <td>NaN</td>\n      <td>NaN</td>\n    </tr>\n    <tr>\n      <th>4</th>\n      <td>1976</td>\n      <td>Alabama</td>\n      <td>AL</td>\n      <td>1</td>\n      <td>63</td>\n      <td>41</td>\n      <td>US President</td>\n      <td>Hall, Gus</td>\n      <td>communist party use</td>\n      <td>False</td>\n      <td>1954</td>\n      <td>1182850</td>\n      <td>20171015</td>\n      <td>NaN</td>\n      <td>NaN</td>\n      <td>NaN</td>\n    </tr>\n    <tr>\n      <th>...</th>\n      <td>...</td>\n      <td>...</td>\n      <td>...</td>\n      <td>...</td>\n      <td>...</td>\n      <td>...</td>\n      <td>...</td>\n      <td>...</td>\n      <td>...</td>\n      <td>...</td>\n      <td>...</td>\n      <td>...</td>\n      <td>...</td>\n      <td>...</td>\n      <td>...</td>\n      <td>...</td>\n    </tr>\n    <tr>\n      <th>3735</th>\n      <td>2016</td>\n      <td>Wyoming</td>\n      <td>WY</td>\n      <td>56</td>\n      <td>83</td>\n      <td>68</td>\n      <td>US President</td>\n      <td>NaN</td>\n      <td>NaN</td>\n      <td>True</td>\n      <td>6904</td>\n      <td>258788</td>\n      <td>20171015</td>\n      <td>NaN</td>\n      <td>Wyoming</td>\n      <td>429,682</td>\n    </tr>\n    <tr>\n      <th>3736</th>\n      <td>2016</td>\n      <td>Wyoming</td>\n      <td>WY</td>\n      <td>56</td>\n      <td>83</td>\n      <td>68</td>\n      <td>US President</td>\n      <td>NaN</td>\n      <td>independent</td>\n      <td>False</td>\n      <td>3224</td>\n      <td>258788</td>\n      <td>20171015</td>\n      <td>NaN</td>\n      <td>Wyoming</td>\n      <td>429,682</td>\n    </tr>\n    <tr>\n      <th>3737</th>\n      <td>2016</td>\n      <td>Wyoming</td>\n      <td>WY</td>\n      <td>56</td>\n      <td>83</td>\n      <td>68</td>\n      <td>US President</td>\n      <td>Blank Vote</td>\n      <td>NaN</td>\n      <td>False</td>\n      <td>2661</td>\n      <td>258788</td>\n      <td>20171015</td>\n      <td>NaN</td>\n      <td>Wyoming</td>\n      <td>429,682</td>\n    </tr>\n    <tr>\n      <th>3738</th>\n      <td>2016</td>\n      <td>Wyoming</td>\n      <td>WY</td>\n      <td>56</td>\n      <td>83</td>\n      <td>68</td>\n      <td>US President</td>\n      <td>Castle, Darrell L.</td>\n      <td>constitution party</td>\n      <td>False</td>\n      <td>2042</td>\n      <td>258788</td>\n      <td>20171015</td>\n      <td>NaN</td>\n      <td>Wyoming</td>\n      <td>429,682</td>\n    </tr>\n    <tr>\n      <th>3739</th>\n      <td>2016</td>\n      <td>Wyoming</td>\n      <td>WY</td>\n      <td>56</td>\n      <td>83</td>\n      <td>68</td>\n      <td>US President</td>\n      <td>Over Vote</td>\n      <td>NaN</td>\n      <td>False</td>\n      <td>278</td>\n      <td>258788</td>\n      <td>20171015</td>\n      <td>NaN</td>\n      <td>Wyoming</td>\n      <td>429,682</td>\n    </tr>\n  </tbody>\n</table>\n<p>3740 rows × 16 columns</p>\n</div>"
     },
     "metadata": {},
     "execution_count": 200
    }
   ],
   "source": [
    "#merge dataframes \n",
    "\n",
    "merged_df = electiondata.merge(total_voting, how='left', left_on=['state','year'], right_on=[\"State\",\"year\"])\n",
    "merged_df"
   ]
  },
  {
   "cell_type": "code",
   "execution_count": 201,
   "metadata": {
    "tags": [
     "outputPrepend",
     "outputPrepend",
     "outputPrepend",
     "outputPrepend"
    ]
   },
   "outputs": [],
   "source": [
    "#merge electoral college votes dataframe and drop columns\n",
    "\n",
    "working_df = merged_df.merge(electoralvotes, how='left', left_on=['state','year'], right_on=[\"State\",\"Year\"])\n",
    "final_working_df = working_df.drop(['state_po', 'state_fips', \"state_cen\", \"state_ic\", \"office\", \"version\", \"notes\", \"State ID\", \"State_x\",\"State_y\", \"Year\", \"writein\"], axis=1)\n",
    "\n",
    "#create key for merge\n",
    "final_working_df[\"new\"] = final_working_df[\"candidate\"] + final_working_df[\"year\"].astype(str)\n",
    "\n",
    "final_working_df.replace(\"Mitt, Romney\", \"Romney, Mitt\", inplace=True)\n",
    "final_working_df.replace(\"Hedges, Jim\", \"Hedges, James\", inplace=True)\n",
    "final_working_df.replace(\"Haylard, Helen\", \"Halyard, Helen\", inplace=True)\n",
    "final_working_df.replace(\"Stevens, Thomas Robert \"\"Tom\"\"\", \"Stevens, Thomas R.\", inplace=True)\n",
    "final_working_df.replace(\"White, Jerry\", \"White, Jerome \"\"Jerry\"\"\", inplace=True)\n",
    "\n",
    "\n",
    "final_working_df[\"candidate\"] = final_working_df['candidate'].fillna(\"unknown\")\n",
    "final_working_df[\"party\"] = final_working_df['party'].fillna(\"unknown\")\n",
    "final_working_df[\"Eligible_voting_pop\"] = final_working_df[\"Eligible_voting_pop\"].fillna(.00000000000000000000000000000000000000000000000001)\n"
   ]
  },
  {
   "cell_type": "code",
   "execution_count": 202,
   "metadata": {},
   "outputs": [
    {
     "output_type": "execute_result",
     "data": {
      "text/plain": "      year    state                candidate                     party_x  \\\n0     1976  Alabama            Carter, Jimmy                    democrat   \n1     1976  Alabama             Ford, Gerald                  republican   \n2     1976  Alabama           Maddox, Lester  american independent party   \n3     1976  Alabama  Bubar, Benjamin \"\"Ben\"\"                 prohibition   \n4     1976  Alabama                Hall, Gus         communist party use   \n...    ...      ...                      ...                         ...   \n3735  2016  Wyoming                  unknown                     unknown   \n3736  2016  Wyoming                  unknown                 independent   \n3737  2016  Wyoming               Blank Vote                     unknown   \n3738  2016  Wyoming       Castle, Darrell L.          constitution party   \n3739  2016  Wyoming                Over Vote                     unknown   \n\n      candidatevotes  totalvotes Eligible_voting_pop  electoralvotes  \\\n0             659170     1182850               1e-50             9.0   \n1             504070     1182850               1e-50             9.0   \n2               9198     1182850               1e-50             9.0   \n3               6669     1182850               1e-50             9.0   \n4               1954     1182850               1e-50             9.0   \n...              ...         ...                 ...             ...   \n3735            6904      258788             429,682             3.0   \n3736            3224      258788             429,682             3.0   \n3737            2661      258788             429,682             3.0   \n3738            2042      258788             429,682             3.0   \n3739             278      258788             429,682             3.0   \n\n                              new                     name             party_y  \n0               Carter, Jimmy1976            Carter, Jimmy            democrat  \n1                Ford, Gerald1976             Ford, Gerald          republican  \n2              Maddox, Lester1976           Maddox, Lester  constitution party  \n3     Bubar, Benjamin \"\"Ben\"\"1976  Bubar, Benjamin \"\"Ben\"\"         prohibition  \n4                   Hall, Gus1976                Hall, Gus         independent  \n...                           ...                      ...                 ...  \n3735                          NaN                      NaN                 NaN  \n3736                          NaN                      NaN                 NaN  \n3737               Blank Vote2016                      NaN                 NaN  \n3738       Castle, Darrell L.2016       Castle, Darrell L.  constitution party  \n3739                Over Vote2016                      NaN                 NaN  \n\n[3740 rows x 11 columns]",
      "text/html": "<div>\n<style scoped>\n    .dataframe tbody tr th:only-of-type {\n        vertical-align: middle;\n    }\n\n    .dataframe tbody tr th {\n        vertical-align: top;\n    }\n\n    .dataframe thead th {\n        text-align: right;\n    }\n</style>\n<table border=\"1\" class=\"dataframe\">\n  <thead>\n    <tr style=\"text-align: right;\">\n      <th></th>\n      <th>year</th>\n      <th>state</th>\n      <th>candidate</th>\n      <th>party_x</th>\n      <th>candidatevotes</th>\n      <th>totalvotes</th>\n      <th>Eligible_voting_pop</th>\n      <th>electoralvotes</th>\n      <th>new</th>\n      <th>name</th>\n      <th>party_y</th>\n    </tr>\n  </thead>\n  <tbody>\n    <tr>\n      <th>0</th>\n      <td>1976</td>\n      <td>Alabama</td>\n      <td>Carter, Jimmy</td>\n      <td>democrat</td>\n      <td>659170</td>\n      <td>1182850</td>\n      <td>1e-50</td>\n      <td>9.0</td>\n      <td>Carter, Jimmy1976</td>\n      <td>Carter, Jimmy</td>\n      <td>democrat</td>\n    </tr>\n    <tr>\n      <th>1</th>\n      <td>1976</td>\n      <td>Alabama</td>\n      <td>Ford, Gerald</td>\n      <td>republican</td>\n      <td>504070</td>\n      <td>1182850</td>\n      <td>1e-50</td>\n      <td>9.0</td>\n      <td>Ford, Gerald1976</td>\n      <td>Ford, Gerald</td>\n      <td>republican</td>\n    </tr>\n    <tr>\n      <th>2</th>\n      <td>1976</td>\n      <td>Alabama</td>\n      <td>Maddox, Lester</td>\n      <td>american independent party</td>\n      <td>9198</td>\n      <td>1182850</td>\n      <td>1e-50</td>\n      <td>9.0</td>\n      <td>Maddox, Lester1976</td>\n      <td>Maddox, Lester</td>\n      <td>constitution party</td>\n    </tr>\n    <tr>\n      <th>3</th>\n      <td>1976</td>\n      <td>Alabama</td>\n      <td>Bubar, Benjamin \"\"Ben\"\"</td>\n      <td>prohibition</td>\n      <td>6669</td>\n      <td>1182850</td>\n      <td>1e-50</td>\n      <td>9.0</td>\n      <td>Bubar, Benjamin \"\"Ben\"\"1976</td>\n      <td>Bubar, Benjamin \"\"Ben\"\"</td>\n      <td>prohibition</td>\n    </tr>\n    <tr>\n      <th>4</th>\n      <td>1976</td>\n      <td>Alabama</td>\n      <td>Hall, Gus</td>\n      <td>communist party use</td>\n      <td>1954</td>\n      <td>1182850</td>\n      <td>1e-50</td>\n      <td>9.0</td>\n      <td>Hall, Gus1976</td>\n      <td>Hall, Gus</td>\n      <td>independent</td>\n    </tr>\n    <tr>\n      <th>...</th>\n      <td>...</td>\n      <td>...</td>\n      <td>...</td>\n      <td>...</td>\n      <td>...</td>\n      <td>...</td>\n      <td>...</td>\n      <td>...</td>\n      <td>...</td>\n      <td>...</td>\n      <td>...</td>\n    </tr>\n    <tr>\n      <th>3735</th>\n      <td>2016</td>\n      <td>Wyoming</td>\n      <td>unknown</td>\n      <td>unknown</td>\n      <td>6904</td>\n      <td>258788</td>\n      <td>429,682</td>\n      <td>3.0</td>\n      <td>NaN</td>\n      <td>NaN</td>\n      <td>NaN</td>\n    </tr>\n    <tr>\n      <th>3736</th>\n      <td>2016</td>\n      <td>Wyoming</td>\n      <td>unknown</td>\n      <td>independent</td>\n      <td>3224</td>\n      <td>258788</td>\n      <td>429,682</td>\n      <td>3.0</td>\n      <td>NaN</td>\n      <td>NaN</td>\n      <td>NaN</td>\n    </tr>\n    <tr>\n      <th>3737</th>\n      <td>2016</td>\n      <td>Wyoming</td>\n      <td>Blank Vote</td>\n      <td>unknown</td>\n      <td>2661</td>\n      <td>258788</td>\n      <td>429,682</td>\n      <td>3.0</td>\n      <td>Blank Vote2016</td>\n      <td>NaN</td>\n      <td>NaN</td>\n    </tr>\n    <tr>\n      <th>3738</th>\n      <td>2016</td>\n      <td>Wyoming</td>\n      <td>Castle, Darrell L.</td>\n      <td>constitution party</td>\n      <td>2042</td>\n      <td>258788</td>\n      <td>429,682</td>\n      <td>3.0</td>\n      <td>Castle, Darrell L.2016</td>\n      <td>Castle, Darrell L.</td>\n      <td>constitution party</td>\n    </tr>\n    <tr>\n      <th>3739</th>\n      <td>2016</td>\n      <td>Wyoming</td>\n      <td>Over Vote</td>\n      <td>unknown</td>\n      <td>278</td>\n      <td>258788</td>\n      <td>429,682</td>\n      <td>3.0</td>\n      <td>Over Vote2016</td>\n      <td>NaN</td>\n      <td>NaN</td>\n    </tr>\n  </tbody>\n</table>\n<p>3740 rows × 11 columns</p>\n</div>"
     },
     "metadata": {},
     "execution_count": 202
    }
   ],
   "source": [
    "final_working_df = final_working_df.merge(parties,how= \"left\", left_on= \"candidate\", right_on=\"name\")\n",
    "final_working_df"
   ]
  },
  {
   "cell_type": "code",
   "execution_count": 203,
   "metadata": {},
   "outputs": [],
   "source": [
    "final_working_df[\"party_y\"] = final_working_df['party_y'].fillna(0)\n",
    "\n",
    "for row in final_working_df[\"party_y\"]:\n",
    "    final_working_df.loc[final_working_df[\"party_y\"] != 0, [\"party_x\"]] = final_working_df[\"party_y\"]"
   ]
  },
  {
   "cell_type": "code",
   "execution_count": 204,
   "metadata": {},
   "outputs": [
    {
     "output_type": "execute_result",
     "data": {
      "text/plain": "      year    state                candidate             party_x  \\\n0     1976  Alabama            Carter, Jimmy            democrat   \n1     1976  Alabama             Ford, Gerald          republican   \n2     1976  Alabama           Maddox, Lester  constitution party   \n3     1976  Alabama  Bubar, Benjamin \"\"Ben\"\"         prohibition   \n4     1976  Alabama                Hall, Gus         independent   \n...    ...      ...                      ...                 ...   \n3735  2016  Wyoming                  unknown             unknown   \n3736  2016  Wyoming                  unknown         independent   \n3737  2016  Wyoming               Blank Vote             unknown   \n3738  2016  Wyoming       Castle, Darrell L.  constitution party   \n3739  2016  Wyoming                Over Vote             unknown   \n\n      candidatevotes  totalvotes Eligible_voting_pop  electoralvotes  \\\n0             659170     1182850               1e-50             9.0   \n1             504070     1182850               1e-50             9.0   \n2               9198     1182850               1e-50             9.0   \n3               6669     1182850               1e-50             9.0   \n4               1954     1182850               1e-50             9.0   \n...              ...         ...                 ...             ...   \n3735            6904      258788             429,682             3.0   \n3736            3224      258788             429,682             3.0   \n3737            2661      258788             429,682             3.0   \n3738            2042      258788             429,682             3.0   \n3739             278      258788             429,682             3.0   \n\n                              new                     name             party_y  \n0               Carter, Jimmy1976            Carter, Jimmy            democrat  \n1                Ford, Gerald1976             Ford, Gerald          republican  \n2              Maddox, Lester1976           Maddox, Lester  constitution party  \n3     Bubar, Benjamin \"\"Ben\"\"1976  Bubar, Benjamin \"\"Ben\"\"         prohibition  \n4                   Hall, Gus1976                Hall, Gus         independent  \n...                           ...                      ...                 ...  \n3735                          NaN                      NaN                   0  \n3736                          NaN                      NaN                   0  \n3737               Blank Vote2016                      NaN                   0  \n3738       Castle, Darrell L.2016       Castle, Darrell L.  constitution party  \n3739                Over Vote2016                      NaN                   0  \n\n[3740 rows x 11 columns]",
      "text/html": "<div>\n<style scoped>\n    .dataframe tbody tr th:only-of-type {\n        vertical-align: middle;\n    }\n\n    .dataframe tbody tr th {\n        vertical-align: top;\n    }\n\n    .dataframe thead th {\n        text-align: right;\n    }\n</style>\n<table border=\"1\" class=\"dataframe\">\n  <thead>\n    <tr style=\"text-align: right;\">\n      <th></th>\n      <th>year</th>\n      <th>state</th>\n      <th>candidate</th>\n      <th>party_x</th>\n      <th>candidatevotes</th>\n      <th>totalvotes</th>\n      <th>Eligible_voting_pop</th>\n      <th>electoralvotes</th>\n      <th>new</th>\n      <th>name</th>\n      <th>party_y</th>\n    </tr>\n  </thead>\n  <tbody>\n    <tr>\n      <th>0</th>\n      <td>1976</td>\n      <td>Alabama</td>\n      <td>Carter, Jimmy</td>\n      <td>democrat</td>\n      <td>659170</td>\n      <td>1182850</td>\n      <td>1e-50</td>\n      <td>9.0</td>\n      <td>Carter, Jimmy1976</td>\n      <td>Carter, Jimmy</td>\n      <td>democrat</td>\n    </tr>\n    <tr>\n      <th>1</th>\n      <td>1976</td>\n      <td>Alabama</td>\n      <td>Ford, Gerald</td>\n      <td>republican</td>\n      <td>504070</td>\n      <td>1182850</td>\n      <td>1e-50</td>\n      <td>9.0</td>\n      <td>Ford, Gerald1976</td>\n      <td>Ford, Gerald</td>\n      <td>republican</td>\n    </tr>\n    <tr>\n      <th>2</th>\n      <td>1976</td>\n      <td>Alabama</td>\n      <td>Maddox, Lester</td>\n      <td>constitution party</td>\n      <td>9198</td>\n      <td>1182850</td>\n      <td>1e-50</td>\n      <td>9.0</td>\n      <td>Maddox, Lester1976</td>\n      <td>Maddox, Lester</td>\n      <td>constitution party</td>\n    </tr>\n    <tr>\n      <th>3</th>\n      <td>1976</td>\n      <td>Alabama</td>\n      <td>Bubar, Benjamin \"\"Ben\"\"</td>\n      <td>prohibition</td>\n      <td>6669</td>\n      <td>1182850</td>\n      <td>1e-50</td>\n      <td>9.0</td>\n      <td>Bubar, Benjamin \"\"Ben\"\"1976</td>\n      <td>Bubar, Benjamin \"\"Ben\"\"</td>\n      <td>prohibition</td>\n    </tr>\n    <tr>\n      <th>4</th>\n      <td>1976</td>\n      <td>Alabama</td>\n      <td>Hall, Gus</td>\n      <td>independent</td>\n      <td>1954</td>\n      <td>1182850</td>\n      <td>1e-50</td>\n      <td>9.0</td>\n      <td>Hall, Gus1976</td>\n      <td>Hall, Gus</td>\n      <td>independent</td>\n    </tr>\n    <tr>\n      <th>...</th>\n      <td>...</td>\n      <td>...</td>\n      <td>...</td>\n      <td>...</td>\n      <td>...</td>\n      <td>...</td>\n      <td>...</td>\n      <td>...</td>\n      <td>...</td>\n      <td>...</td>\n      <td>...</td>\n    </tr>\n    <tr>\n      <th>3735</th>\n      <td>2016</td>\n      <td>Wyoming</td>\n      <td>unknown</td>\n      <td>unknown</td>\n      <td>6904</td>\n      <td>258788</td>\n      <td>429,682</td>\n      <td>3.0</td>\n      <td>NaN</td>\n      <td>NaN</td>\n      <td>0</td>\n    </tr>\n    <tr>\n      <th>3736</th>\n      <td>2016</td>\n      <td>Wyoming</td>\n      <td>unknown</td>\n      <td>independent</td>\n      <td>3224</td>\n      <td>258788</td>\n      <td>429,682</td>\n      <td>3.0</td>\n      <td>NaN</td>\n      <td>NaN</td>\n      <td>0</td>\n    </tr>\n    <tr>\n      <th>3737</th>\n      <td>2016</td>\n      <td>Wyoming</td>\n      <td>Blank Vote</td>\n      <td>unknown</td>\n      <td>2661</td>\n      <td>258788</td>\n      <td>429,682</td>\n      <td>3.0</td>\n      <td>Blank Vote2016</td>\n      <td>NaN</td>\n      <td>0</td>\n    </tr>\n    <tr>\n      <th>3738</th>\n      <td>2016</td>\n      <td>Wyoming</td>\n      <td>Castle, Darrell L.</td>\n      <td>constitution party</td>\n      <td>2042</td>\n      <td>258788</td>\n      <td>429,682</td>\n      <td>3.0</td>\n      <td>Castle, Darrell L.2016</td>\n      <td>Castle, Darrell L.</td>\n      <td>constitution party</td>\n    </tr>\n    <tr>\n      <th>3739</th>\n      <td>2016</td>\n      <td>Wyoming</td>\n      <td>Over Vote</td>\n      <td>unknown</td>\n      <td>278</td>\n      <td>258788</td>\n      <td>429,682</td>\n      <td>3.0</td>\n      <td>Over Vote2016</td>\n      <td>NaN</td>\n      <td>0</td>\n    </tr>\n  </tbody>\n</table>\n<p>3740 rows × 11 columns</p>\n</div>"
     },
     "metadata": {},
     "execution_count": 204
    }
   ],
   "source": [
    "final_working_df"
   ]
  },
  {
   "cell_type": "code",
   "execution_count": 205,
   "metadata": {},
   "outputs": [
    {
     "output_type": "execute_result",
     "data": {
      "text/plain": "      year    state                candidate  totalvotes Eligible_voting_pop  \\\n0     1976  Alabama            Carter, Jimmy     1182850               1e-50   \n1     1976  Alabama             Ford, Gerald     1182850               1e-50   \n2     1976  Alabama           Maddox, Lester     1182850               1e-50   \n3     1976  Alabama  Bubar, Benjamin \"\"Ben\"\"     1182850               1e-50   \n4     1976  Alabama                Hall, Gus     1182850               1e-50   \n...    ...      ...                      ...         ...                 ...   \n3735  2016  Wyoming                  unknown      258788             429,682   \n3736  2016  Wyoming                  unknown      258788             429,682   \n3737  2016  Wyoming               Blank Vote      258788             429,682   \n3738  2016  Wyoming       Castle, Darrell L.      258788             429,682   \n3739  2016  Wyoming                Over Vote      258788             429,682   \n\n                              new  electoralvotes  candidatevotes  \n0               Carter, Jimmy1976             9.0          659170  \n1                Ford, Gerald1976             9.0          504070  \n2              Maddox, Lester1976             9.0            9198  \n3     Bubar, Benjamin \"\"Ben\"\"1976             9.0            6669  \n4                   Hall, Gus1976             9.0            1954  \n...                           ...             ...             ...  \n3735                          NaN             3.0            6904  \n3736                          NaN             3.0            3224  \n3737               Blank Vote2016             3.0            2661  \n3738       Castle, Darrell L.2016             3.0            2042  \n3739                Over Vote2016             3.0             278  \n\n[3740 rows x 8 columns]",
      "text/html": "<div>\n<style scoped>\n    .dataframe tbody tr th:only-of-type {\n        vertical-align: middle;\n    }\n\n    .dataframe tbody tr th {\n        vertical-align: top;\n    }\n\n    .dataframe thead th {\n        text-align: right;\n    }\n</style>\n<table border=\"1\" class=\"dataframe\">\n  <thead>\n    <tr style=\"text-align: right;\">\n      <th></th>\n      <th>year</th>\n      <th>state</th>\n      <th>candidate</th>\n      <th>totalvotes</th>\n      <th>Eligible_voting_pop</th>\n      <th>new</th>\n      <th>electoralvotes</th>\n      <th>candidatevotes</th>\n    </tr>\n  </thead>\n  <tbody>\n    <tr>\n      <th>0</th>\n      <td>1976</td>\n      <td>Alabama</td>\n      <td>Carter, Jimmy</td>\n      <td>1182850</td>\n      <td>1e-50</td>\n      <td>Carter, Jimmy1976</td>\n      <td>9.0</td>\n      <td>659170</td>\n    </tr>\n    <tr>\n      <th>1</th>\n      <td>1976</td>\n      <td>Alabama</td>\n      <td>Ford, Gerald</td>\n      <td>1182850</td>\n      <td>1e-50</td>\n      <td>Ford, Gerald1976</td>\n      <td>9.0</td>\n      <td>504070</td>\n    </tr>\n    <tr>\n      <th>2</th>\n      <td>1976</td>\n      <td>Alabama</td>\n      <td>Maddox, Lester</td>\n      <td>1182850</td>\n      <td>1e-50</td>\n      <td>Maddox, Lester1976</td>\n      <td>9.0</td>\n      <td>9198</td>\n    </tr>\n    <tr>\n      <th>3</th>\n      <td>1976</td>\n      <td>Alabama</td>\n      <td>Bubar, Benjamin \"\"Ben\"\"</td>\n      <td>1182850</td>\n      <td>1e-50</td>\n      <td>Bubar, Benjamin \"\"Ben\"\"1976</td>\n      <td>9.0</td>\n      <td>6669</td>\n    </tr>\n    <tr>\n      <th>4</th>\n      <td>1976</td>\n      <td>Alabama</td>\n      <td>Hall, Gus</td>\n      <td>1182850</td>\n      <td>1e-50</td>\n      <td>Hall, Gus1976</td>\n      <td>9.0</td>\n      <td>1954</td>\n    </tr>\n    <tr>\n      <th>...</th>\n      <td>...</td>\n      <td>...</td>\n      <td>...</td>\n      <td>...</td>\n      <td>...</td>\n      <td>...</td>\n      <td>...</td>\n      <td>...</td>\n    </tr>\n    <tr>\n      <th>3735</th>\n      <td>2016</td>\n      <td>Wyoming</td>\n      <td>unknown</td>\n      <td>258788</td>\n      <td>429,682</td>\n      <td>NaN</td>\n      <td>3.0</td>\n      <td>6904</td>\n    </tr>\n    <tr>\n      <th>3736</th>\n      <td>2016</td>\n      <td>Wyoming</td>\n      <td>unknown</td>\n      <td>258788</td>\n      <td>429,682</td>\n      <td>NaN</td>\n      <td>3.0</td>\n      <td>3224</td>\n    </tr>\n    <tr>\n      <th>3737</th>\n      <td>2016</td>\n      <td>Wyoming</td>\n      <td>Blank Vote</td>\n      <td>258788</td>\n      <td>429,682</td>\n      <td>Blank Vote2016</td>\n      <td>3.0</td>\n      <td>2661</td>\n    </tr>\n    <tr>\n      <th>3738</th>\n      <td>2016</td>\n      <td>Wyoming</td>\n      <td>Castle, Darrell L.</td>\n      <td>258788</td>\n      <td>429,682</td>\n      <td>Castle, Darrell L.2016</td>\n      <td>3.0</td>\n      <td>2042</td>\n    </tr>\n    <tr>\n      <th>3739</th>\n      <td>2016</td>\n      <td>Wyoming</td>\n      <td>Over Vote</td>\n      <td>258788</td>\n      <td>429,682</td>\n      <td>Over Vote2016</td>\n      <td>3.0</td>\n      <td>278</td>\n    </tr>\n  </tbody>\n</table>\n<p>3740 rows × 8 columns</p>\n</div>"
     },
     "metadata": {},
     "execution_count": 205
    }
   ],
   "source": [
    "#you need to make a seperate dataframe with candidate and party, do the group by without party, and then merge em back\n",
    "\n",
    "party_df = final_working_df[[\"candidate\", \"party_x\"]]\n",
    "\n",
    "final_working_df = final_working_df[[\"year\", \"state\", \"candidate\", \"totalvotes\", \"Eligible_voting_pop\", \"new\", \"electoralvotes\", \"candidatevotes\"]]\n",
    "\n",
    "#final_working_df = final_working_df.loc[final_working_df[\"candidate\"] == 'Bubar, Benjamin \"\"Ben\"\"']\n",
    "final_working_df"
   ]
  },
  {
   "cell_type": "code",
   "execution_count": 206,
   "metadata": {},
   "outputs": [
    {
     "output_type": "execute_result",
     "data": {
      "text/plain": "      year    state                candidate  totalvotes Eligible_voting_pop  \\\n0     1976  Alabama  Bubar, Benjamin \"\"Ben\"\"     1182850               1e-50   \n1     1976  Alabama            Carter, Jimmy     1182850               1e-50   \n2     1976  Alabama             Ford, Gerald     1182850               1e-50   \n3     1976  Alabama                Hall, Gus     1182850               1e-50   \n4     1976  Alabama          Macbride, Roger     1182850               1e-50   \n...    ...      ...                      ...         ...                 ...   \n3355  2016  Wyoming       Castle, Darrell L.      258788             429,682   \n3356  2016  Wyoming         Clinton, Hillary      258788             429,682   \n3357  2016  Wyoming            Johnson, Gary      258788             429,682   \n3358  2016  Wyoming                Over Vote      258788             429,682   \n3359  2016  Wyoming         Trump, Donald J.      258788             429,682   \n\n                              new  electoralvotes  candidatevotes  \n0     Bubar, Benjamin \"\"Ben\"\"1976             9.0            6669  \n1               Carter, Jimmy1976             9.0          659170  \n2                Ford, Gerald1976             9.0          504070  \n3                   Hall, Gus1976             9.0            1954  \n4             Macbride, Roger1976             9.0            1481  \n...                           ...             ...             ...  \n3355       Castle, Darrell L.2016             3.0            2042  \n3356         Clinton, Hillary2016             3.0           55973  \n3357            Johnson, Gary2016             3.0           13287  \n3358                Over Vote2016             3.0             278  \n3359         Trump, Donald J.2016             3.0          174419  \n\n[3360 rows x 8 columns]",
      "text/html": "<div>\n<style scoped>\n    .dataframe tbody tr th:only-of-type {\n        vertical-align: middle;\n    }\n\n    .dataframe tbody tr th {\n        vertical-align: top;\n    }\n\n    .dataframe thead th {\n        text-align: right;\n    }\n</style>\n<table border=\"1\" class=\"dataframe\">\n  <thead>\n    <tr style=\"text-align: right;\">\n      <th></th>\n      <th>year</th>\n      <th>state</th>\n      <th>candidate</th>\n      <th>totalvotes</th>\n      <th>Eligible_voting_pop</th>\n      <th>new</th>\n      <th>electoralvotes</th>\n      <th>candidatevotes</th>\n    </tr>\n  </thead>\n  <tbody>\n    <tr>\n      <th>0</th>\n      <td>1976</td>\n      <td>Alabama</td>\n      <td>Bubar, Benjamin \"\"Ben\"\"</td>\n      <td>1182850</td>\n      <td>1e-50</td>\n      <td>Bubar, Benjamin \"\"Ben\"\"1976</td>\n      <td>9.0</td>\n      <td>6669</td>\n    </tr>\n    <tr>\n      <th>1</th>\n      <td>1976</td>\n      <td>Alabama</td>\n      <td>Carter, Jimmy</td>\n      <td>1182850</td>\n      <td>1e-50</td>\n      <td>Carter, Jimmy1976</td>\n      <td>9.0</td>\n      <td>659170</td>\n    </tr>\n    <tr>\n      <th>2</th>\n      <td>1976</td>\n      <td>Alabama</td>\n      <td>Ford, Gerald</td>\n      <td>1182850</td>\n      <td>1e-50</td>\n      <td>Ford, Gerald1976</td>\n      <td>9.0</td>\n      <td>504070</td>\n    </tr>\n    <tr>\n      <th>3</th>\n      <td>1976</td>\n      <td>Alabama</td>\n      <td>Hall, Gus</td>\n      <td>1182850</td>\n      <td>1e-50</td>\n      <td>Hall, Gus1976</td>\n      <td>9.0</td>\n      <td>1954</td>\n    </tr>\n    <tr>\n      <th>4</th>\n      <td>1976</td>\n      <td>Alabama</td>\n      <td>Macbride, Roger</td>\n      <td>1182850</td>\n      <td>1e-50</td>\n      <td>Macbride, Roger1976</td>\n      <td>9.0</td>\n      <td>1481</td>\n    </tr>\n    <tr>\n      <th>...</th>\n      <td>...</td>\n      <td>...</td>\n      <td>...</td>\n      <td>...</td>\n      <td>...</td>\n      <td>...</td>\n      <td>...</td>\n      <td>...</td>\n    </tr>\n    <tr>\n      <th>3355</th>\n      <td>2016</td>\n      <td>Wyoming</td>\n      <td>Castle, Darrell L.</td>\n      <td>258788</td>\n      <td>429,682</td>\n      <td>Castle, Darrell L.2016</td>\n      <td>3.0</td>\n      <td>2042</td>\n    </tr>\n    <tr>\n      <th>3356</th>\n      <td>2016</td>\n      <td>Wyoming</td>\n      <td>Clinton, Hillary</td>\n      <td>258788</td>\n      <td>429,682</td>\n      <td>Clinton, Hillary2016</td>\n      <td>3.0</td>\n      <td>55973</td>\n    </tr>\n    <tr>\n      <th>3357</th>\n      <td>2016</td>\n      <td>Wyoming</td>\n      <td>Johnson, Gary</td>\n      <td>258788</td>\n      <td>429,682</td>\n      <td>Johnson, Gary2016</td>\n      <td>3.0</td>\n      <td>13287</td>\n    </tr>\n    <tr>\n      <th>3358</th>\n      <td>2016</td>\n      <td>Wyoming</td>\n      <td>Over Vote</td>\n      <td>258788</td>\n      <td>429,682</td>\n      <td>Over Vote2016</td>\n      <td>3.0</td>\n      <td>278</td>\n    </tr>\n    <tr>\n      <th>3359</th>\n      <td>2016</td>\n      <td>Wyoming</td>\n      <td>Trump, Donald J.</td>\n      <td>258788</td>\n      <td>429,682</td>\n      <td>Trump, Donald J.2016</td>\n      <td>3.0</td>\n      <td>174419</td>\n    </tr>\n  </tbody>\n</table>\n<p>3360 rows × 8 columns</p>\n</div>"
     },
     "metadata": {},
     "execution_count": 206
    }
   ],
   "source": [
    "final_working_df = final_working_df.groupby([\"year\", \"state\", \"candidate\", \"totalvotes\", \"Eligible_voting_pop\", \"new\", \"electoralvotes\"]).sum().reset_index()\n",
    "final_working_df\n"
   ]
  },
  {
   "cell_type": "code",
   "execution_count": 207,
   "metadata": {},
   "outputs": [
    {
     "output_type": "execute_result",
     "data": {
      "text/plain": "        year    state                candidate  totalvotes  \\\n0       1976  Alabama  Bubar, Benjamin \"\"Ben\"\"     1182850   \n1       1976  Alabama  Bubar, Benjamin \"\"Ben\"\"     1182850   \n2       1976  Alabama  Bubar, Benjamin \"\"Ben\"\"     1182850   \n3       1976  Alabama  Bubar, Benjamin \"\"Ben\"\"     1182850   \n4       1976  Alabama  Bubar, Benjamin \"\"Ben\"\"     1182850   \n...      ...      ...                      ...         ...   \n211562  2016  Wyoming         Trump, Donald J.      258788   \n211563  2016  Wyoming         Trump, Donald J.      258788   \n211564  2016  Wyoming         Trump, Donald J.      258788   \n211565  2016  Wyoming         Trump, Donald J.      258788   \n211566  2016  Wyoming         Trump, Donald J.      258788   \n\n       Eligible_voting_pop                          new  electoralvotes  \\\n0                    1e-50  Bubar, Benjamin \"\"Ben\"\"1976             9.0   \n1                    1e-50  Bubar, Benjamin \"\"Ben\"\"1976             9.0   \n2                    1e-50  Bubar, Benjamin \"\"Ben\"\"1976             9.0   \n3                    1e-50  Bubar, Benjamin \"\"Ben\"\"1976             9.0   \n4                    1e-50  Bubar, Benjamin \"\"Ben\"\"1976             9.0   \n...                    ...                          ...             ...   \n211562             429,682         Trump, Donald J.2016             3.0   \n211563             429,682         Trump, Donald J.2016             3.0   \n211564             429,682         Trump, Donald J.2016             3.0   \n211565             429,682         Trump, Donald J.2016             3.0   \n211566             429,682         Trump, Donald J.2016             3.0   \n\n        candidatevotes      party_x  \n0                 6669  prohibition  \n1                 6669  prohibition  \n2                 6669  prohibition  \n3                 6669  prohibition  \n4                 6669  prohibition  \n...                ...          ...  \n211562          174419   republican  \n211563          174419   republican  \n211564          174419   republican  \n211565          174419   republican  \n211566          174419   republican  \n\n[211567 rows x 9 columns]",
      "text/html": "<div>\n<style scoped>\n    .dataframe tbody tr th:only-of-type {\n        vertical-align: middle;\n    }\n\n    .dataframe tbody tr th {\n        vertical-align: top;\n    }\n\n    .dataframe thead th {\n        text-align: right;\n    }\n</style>\n<table border=\"1\" class=\"dataframe\">\n  <thead>\n    <tr style=\"text-align: right;\">\n      <th></th>\n      <th>year</th>\n      <th>state</th>\n      <th>candidate</th>\n      <th>totalvotes</th>\n      <th>Eligible_voting_pop</th>\n      <th>new</th>\n      <th>electoralvotes</th>\n      <th>candidatevotes</th>\n      <th>party_x</th>\n    </tr>\n  </thead>\n  <tbody>\n    <tr>\n      <th>0</th>\n      <td>1976</td>\n      <td>Alabama</td>\n      <td>Bubar, Benjamin \"\"Ben\"\"</td>\n      <td>1182850</td>\n      <td>1e-50</td>\n      <td>Bubar, Benjamin \"\"Ben\"\"1976</td>\n      <td>9.0</td>\n      <td>6669</td>\n      <td>prohibition</td>\n    </tr>\n    <tr>\n      <th>1</th>\n      <td>1976</td>\n      <td>Alabama</td>\n      <td>Bubar, Benjamin \"\"Ben\"\"</td>\n      <td>1182850</td>\n      <td>1e-50</td>\n      <td>Bubar, Benjamin \"\"Ben\"\"1976</td>\n      <td>9.0</td>\n      <td>6669</td>\n      <td>prohibition</td>\n    </tr>\n    <tr>\n      <th>2</th>\n      <td>1976</td>\n      <td>Alabama</td>\n      <td>Bubar, Benjamin \"\"Ben\"\"</td>\n      <td>1182850</td>\n      <td>1e-50</td>\n      <td>Bubar, Benjamin \"\"Ben\"\"1976</td>\n      <td>9.0</td>\n      <td>6669</td>\n      <td>prohibition</td>\n    </tr>\n    <tr>\n      <th>3</th>\n      <td>1976</td>\n      <td>Alabama</td>\n      <td>Bubar, Benjamin \"\"Ben\"\"</td>\n      <td>1182850</td>\n      <td>1e-50</td>\n      <td>Bubar, Benjamin \"\"Ben\"\"1976</td>\n      <td>9.0</td>\n      <td>6669</td>\n      <td>prohibition</td>\n    </tr>\n    <tr>\n      <th>4</th>\n      <td>1976</td>\n      <td>Alabama</td>\n      <td>Bubar, Benjamin \"\"Ben\"\"</td>\n      <td>1182850</td>\n      <td>1e-50</td>\n      <td>Bubar, Benjamin \"\"Ben\"\"1976</td>\n      <td>9.0</td>\n      <td>6669</td>\n      <td>prohibition</td>\n    </tr>\n    <tr>\n      <th>...</th>\n      <td>...</td>\n      <td>...</td>\n      <td>...</td>\n      <td>...</td>\n      <td>...</td>\n      <td>...</td>\n      <td>...</td>\n      <td>...</td>\n      <td>...</td>\n    </tr>\n    <tr>\n      <th>211562</th>\n      <td>2016</td>\n      <td>Wyoming</td>\n      <td>Trump, Donald J.</td>\n      <td>258788</td>\n      <td>429,682</td>\n      <td>Trump, Donald J.2016</td>\n      <td>3.0</td>\n      <td>174419</td>\n      <td>republican</td>\n    </tr>\n    <tr>\n      <th>211563</th>\n      <td>2016</td>\n      <td>Wyoming</td>\n      <td>Trump, Donald J.</td>\n      <td>258788</td>\n      <td>429,682</td>\n      <td>Trump, Donald J.2016</td>\n      <td>3.0</td>\n      <td>174419</td>\n      <td>republican</td>\n    </tr>\n    <tr>\n      <th>211564</th>\n      <td>2016</td>\n      <td>Wyoming</td>\n      <td>Trump, Donald J.</td>\n      <td>258788</td>\n      <td>429,682</td>\n      <td>Trump, Donald J.2016</td>\n      <td>3.0</td>\n      <td>174419</td>\n      <td>republican</td>\n    </tr>\n    <tr>\n      <th>211565</th>\n      <td>2016</td>\n      <td>Wyoming</td>\n      <td>Trump, Donald J.</td>\n      <td>258788</td>\n      <td>429,682</td>\n      <td>Trump, Donald J.2016</td>\n      <td>3.0</td>\n      <td>174419</td>\n      <td>republican</td>\n    </tr>\n    <tr>\n      <th>211566</th>\n      <td>2016</td>\n      <td>Wyoming</td>\n      <td>Trump, Donald J.</td>\n      <td>258788</td>\n      <td>429,682</td>\n      <td>Trump, Donald J.2016</td>\n      <td>3.0</td>\n      <td>174419</td>\n      <td>republican</td>\n    </tr>\n  </tbody>\n</table>\n<p>211567 rows × 9 columns</p>\n</div>"
     },
     "metadata": {},
     "execution_count": 207
    }
   ],
   "source": [
    "final_working_df = final_working_df.merge(party_df, how=\"left\" , left_on = 'candidate', right_on= \"candidate\")\n",
    "final_working_df"
   ]
  },
  {
   "cell_type": "code",
   "execution_count": 208,
   "metadata": {},
   "outputs": [
    {
     "output_type": "execute_result",
     "data": {
      "text/plain": "        year    state                candidate  totalvotes  \\\n0       1976  Alabama  Bubar, Benjamin \"\"Ben\"\"     1182850   \n19      1976  Alabama            Carter, Jimmy     1182850   \n122     1976  Alabama             Ford, Gerald     1182850   \n174     1976  Alabama                Hall, Gus     1182850   \n241     1976  Alabama          Macbride, Roger     1182850   \n...      ...      ...                      ...         ...   \n211332  2016  Wyoming       Castle, Darrell L.      258788   \n211356  2016  Wyoming         Clinton, Hillary      258788   \n211410  2016  Wyoming            Johnson, Gary      258788   \n211506  2016  Wyoming                Over Vote      258788   \n211514  2016  Wyoming         Trump, Donald J.      258788   \n\n        Eligible_voting_pop                          new  electoralvotes  \\\n0              1.000000e-50  Bubar, Benjamin \"\"Ben\"\"1976             9.0   \n19             1.000000e-50            Carter, Jimmy1976             9.0   \n122            1.000000e-50             Ford, Gerald1976             9.0   \n174            1.000000e-50                Hall, Gus1976             9.0   \n241            1.000000e-50          Macbride, Roger1976             9.0   \n...                     ...                          ...             ...   \n211332         4.296820e+05       Castle, Darrell L.2016             3.0   \n211356         4.296820e+05         Clinton, Hillary2016             3.0   \n211410         4.296820e+05            Johnson, Gary2016             3.0   \n211506         4.296820e+05                Over Vote2016             3.0   \n211514         4.296820e+05         Trump, Donald J.2016             3.0   \n\n        candidatevotes               party  \n0                 6669         prohibition  \n19              659170            democrat  \n122             504070          republican  \n174               1954         independent  \n241               1481         libertarian  \n...                ...                 ...  \n211332            2042  constitution party  \n211356           55973            democrat  \n211410           13287         libertarian  \n211506             278             unknown  \n211514          174419          republican  \n\n[4396 rows x 9 columns]",
      "text/html": "<div>\n<style scoped>\n    .dataframe tbody tr th:only-of-type {\n        vertical-align: middle;\n    }\n\n    .dataframe tbody tr th {\n        vertical-align: top;\n    }\n\n    .dataframe thead th {\n        text-align: right;\n    }\n</style>\n<table border=\"1\" class=\"dataframe\">\n  <thead>\n    <tr style=\"text-align: right;\">\n      <th></th>\n      <th>year</th>\n      <th>state</th>\n      <th>candidate</th>\n      <th>totalvotes</th>\n      <th>Eligible_voting_pop</th>\n      <th>new</th>\n      <th>electoralvotes</th>\n      <th>candidatevotes</th>\n      <th>party</th>\n    </tr>\n  </thead>\n  <tbody>\n    <tr>\n      <th>0</th>\n      <td>1976</td>\n      <td>Alabama</td>\n      <td>Bubar, Benjamin \"\"Ben\"\"</td>\n      <td>1182850</td>\n      <td>1.000000e-50</td>\n      <td>Bubar, Benjamin \"\"Ben\"\"1976</td>\n      <td>9.0</td>\n      <td>6669</td>\n      <td>prohibition</td>\n    </tr>\n    <tr>\n      <th>19</th>\n      <td>1976</td>\n      <td>Alabama</td>\n      <td>Carter, Jimmy</td>\n      <td>1182850</td>\n      <td>1.000000e-50</td>\n      <td>Carter, Jimmy1976</td>\n      <td>9.0</td>\n      <td>659170</td>\n      <td>democrat</td>\n    </tr>\n    <tr>\n      <th>122</th>\n      <td>1976</td>\n      <td>Alabama</td>\n      <td>Ford, Gerald</td>\n      <td>1182850</td>\n      <td>1.000000e-50</td>\n      <td>Ford, Gerald1976</td>\n      <td>9.0</td>\n      <td>504070</td>\n      <td>republican</td>\n    </tr>\n    <tr>\n      <th>174</th>\n      <td>1976</td>\n      <td>Alabama</td>\n      <td>Hall, Gus</td>\n      <td>1182850</td>\n      <td>1.000000e-50</td>\n      <td>Hall, Gus1976</td>\n      <td>9.0</td>\n      <td>1954</td>\n      <td>independent</td>\n    </tr>\n    <tr>\n      <th>241</th>\n      <td>1976</td>\n      <td>Alabama</td>\n      <td>Macbride, Roger</td>\n      <td>1182850</td>\n      <td>1.000000e-50</td>\n      <td>Macbride, Roger1976</td>\n      <td>9.0</td>\n      <td>1481</td>\n      <td>libertarian</td>\n    </tr>\n    <tr>\n      <th>...</th>\n      <td>...</td>\n      <td>...</td>\n      <td>...</td>\n      <td>...</td>\n      <td>...</td>\n      <td>...</td>\n      <td>...</td>\n      <td>...</td>\n      <td>...</td>\n    </tr>\n    <tr>\n      <th>211332</th>\n      <td>2016</td>\n      <td>Wyoming</td>\n      <td>Castle, Darrell L.</td>\n      <td>258788</td>\n      <td>4.296820e+05</td>\n      <td>Castle, Darrell L.2016</td>\n      <td>3.0</td>\n      <td>2042</td>\n      <td>constitution party</td>\n    </tr>\n    <tr>\n      <th>211356</th>\n      <td>2016</td>\n      <td>Wyoming</td>\n      <td>Clinton, Hillary</td>\n      <td>258788</td>\n      <td>4.296820e+05</td>\n      <td>Clinton, Hillary2016</td>\n      <td>3.0</td>\n      <td>55973</td>\n      <td>democrat</td>\n    </tr>\n    <tr>\n      <th>211410</th>\n      <td>2016</td>\n      <td>Wyoming</td>\n      <td>Johnson, Gary</td>\n      <td>258788</td>\n      <td>4.296820e+05</td>\n      <td>Johnson, Gary2016</td>\n      <td>3.0</td>\n      <td>13287</td>\n      <td>libertarian</td>\n    </tr>\n    <tr>\n      <th>211506</th>\n      <td>2016</td>\n      <td>Wyoming</td>\n      <td>Over Vote</td>\n      <td>258788</td>\n      <td>4.296820e+05</td>\n      <td>Over Vote2016</td>\n      <td>3.0</td>\n      <td>278</td>\n      <td>unknown</td>\n    </tr>\n    <tr>\n      <th>211514</th>\n      <td>2016</td>\n      <td>Wyoming</td>\n      <td>Trump, Donald J.</td>\n      <td>258788</td>\n      <td>4.296820e+05</td>\n      <td>Trump, Donald J.2016</td>\n      <td>3.0</td>\n      <td>174419</td>\n      <td>republican</td>\n    </tr>\n  </tbody>\n</table>\n<p>4396 rows × 9 columns</p>\n</div>"
     },
     "metadata": {},
     "execution_count": 208
    }
   ],
   "source": [
    "\n",
    "final_working_df.rename(columns={\"party_x\" : \"party\"}, inplace=True)\n",
    "final_working_df = final_working_df.drop_duplicates()\n",
    "\n",
    "\n",
    "final_working_df[\"Eligible_voting_pop\"] = final_working_df[\"Eligible_voting_pop\"].replace({'\\$': '', ',': ''}, regex=True)\n",
    "final_working_df[\"Eligible_voting_pop\"] = final_working_df[\"Eligible_voting_pop\"].astype(str).astype(float)\n",
    "final_working_df"
   ]
  },
  {
   "cell_type": "code",
   "execution_count": 209,
   "metadata": {},
   "outputs": [
    {
     "output_type": "execute_result",
     "data": {
      "text/plain": "             candidate  year  candidatevotes                    new\n55    Clinton, Hillary  2016        65570751   Clinton, Hillary2016\n232   Trump, Donald J.  2016        62972339   Trump, Donald J.2016\n178   Obama, Barack H.  2012        65632590   Obama, Barack H.2012\n210       Romney, Mitt  2012        60910771       Romney, Mitt2012\n177   Obama, Barack H.  2008        69252659   Obama, Barack H.2008\n149       McCain, John  2008        59930916       McCain, John2008\n43     Bush, George W.  2004        62007029    Bush, George W.2004\n123        Kerry, John  2004        58825109        Kerry, John2004\n86            Gore, Al  2000        50824139           Gore, Al2000\n42     Bush, George W.  2000        50438096    Bush, George W.2000\n54       Clinton, Bill  1996        47243678      Clinton, Bill1996\n73        Dole, Robert  1996        39181143       Dole, Robert1996\n53       Clinton, Bill  1992        44761684      Clinton, Bill1992\n41   Bush, George H.W.  1992        39083174  Bush, George H.W.1992\n40   Bush, George H.W.  1988        48858507  Bush, George H.W.1988\n74    Dukakis, Michael  1988        41649667   Dukakis, Michael1988\n207     Reagan, Ronald  1984        54426064     Reagan, Ronald1984\n160    Mondale, Walter  1984        37387729    Mondale, Walter1984\n206     Reagan, Ronald  1980        43875457     Reagan, Ronald1980\n49       Carter, Jimmy  1980        35350717      Carter, Jimmy1980\n48       Carter, Jimmy  1976        40688021      Carter, Jimmy1976\n81        Ford, Gerald  1976        39117898       Ford, Gerald1976",
      "text/html": "<div>\n<style scoped>\n    .dataframe tbody tr th:only-of-type {\n        vertical-align: middle;\n    }\n\n    .dataframe tbody tr th {\n        vertical-align: top;\n    }\n\n    .dataframe thead th {\n        text-align: right;\n    }\n</style>\n<table border=\"1\" class=\"dataframe\">\n  <thead>\n    <tr style=\"text-align: right;\">\n      <th></th>\n      <th>candidate</th>\n      <th>year</th>\n      <th>candidatevotes</th>\n      <th>new</th>\n    </tr>\n  </thead>\n  <tbody>\n    <tr>\n      <th>55</th>\n      <td>Clinton, Hillary</td>\n      <td>2016</td>\n      <td>65570751</td>\n      <td>Clinton, Hillary2016</td>\n    </tr>\n    <tr>\n      <th>232</th>\n      <td>Trump, Donald J.</td>\n      <td>2016</td>\n      <td>62972339</td>\n      <td>Trump, Donald J.2016</td>\n    </tr>\n    <tr>\n      <th>178</th>\n      <td>Obama, Barack H.</td>\n      <td>2012</td>\n      <td>65632590</td>\n      <td>Obama, Barack H.2012</td>\n    </tr>\n    <tr>\n      <th>210</th>\n      <td>Romney, Mitt</td>\n      <td>2012</td>\n      <td>60910771</td>\n      <td>Romney, Mitt2012</td>\n    </tr>\n    <tr>\n      <th>177</th>\n      <td>Obama, Barack H.</td>\n      <td>2008</td>\n      <td>69252659</td>\n      <td>Obama, Barack H.2008</td>\n    </tr>\n    <tr>\n      <th>149</th>\n      <td>McCain, John</td>\n      <td>2008</td>\n      <td>59930916</td>\n      <td>McCain, John2008</td>\n    </tr>\n    <tr>\n      <th>43</th>\n      <td>Bush, George W.</td>\n      <td>2004</td>\n      <td>62007029</td>\n      <td>Bush, George W.2004</td>\n    </tr>\n    <tr>\n      <th>123</th>\n      <td>Kerry, John</td>\n      <td>2004</td>\n      <td>58825109</td>\n      <td>Kerry, John2004</td>\n    </tr>\n    <tr>\n      <th>86</th>\n      <td>Gore, Al</td>\n      <td>2000</td>\n      <td>50824139</td>\n      <td>Gore, Al2000</td>\n    </tr>\n    <tr>\n      <th>42</th>\n      <td>Bush, George W.</td>\n      <td>2000</td>\n      <td>50438096</td>\n      <td>Bush, George W.2000</td>\n    </tr>\n    <tr>\n      <th>54</th>\n      <td>Clinton, Bill</td>\n      <td>1996</td>\n      <td>47243678</td>\n      <td>Clinton, Bill1996</td>\n    </tr>\n    <tr>\n      <th>73</th>\n      <td>Dole, Robert</td>\n      <td>1996</td>\n      <td>39181143</td>\n      <td>Dole, Robert1996</td>\n    </tr>\n    <tr>\n      <th>53</th>\n      <td>Clinton, Bill</td>\n      <td>1992</td>\n      <td>44761684</td>\n      <td>Clinton, Bill1992</td>\n    </tr>\n    <tr>\n      <th>41</th>\n      <td>Bush, George H.W.</td>\n      <td>1992</td>\n      <td>39083174</td>\n      <td>Bush, George H.W.1992</td>\n    </tr>\n    <tr>\n      <th>40</th>\n      <td>Bush, George H.W.</td>\n      <td>1988</td>\n      <td>48858507</td>\n      <td>Bush, George H.W.1988</td>\n    </tr>\n    <tr>\n      <th>74</th>\n      <td>Dukakis, Michael</td>\n      <td>1988</td>\n      <td>41649667</td>\n      <td>Dukakis, Michael1988</td>\n    </tr>\n    <tr>\n      <th>207</th>\n      <td>Reagan, Ronald</td>\n      <td>1984</td>\n      <td>54426064</td>\n      <td>Reagan, Ronald1984</td>\n    </tr>\n    <tr>\n      <th>160</th>\n      <td>Mondale, Walter</td>\n      <td>1984</td>\n      <td>37387729</td>\n      <td>Mondale, Walter1984</td>\n    </tr>\n    <tr>\n      <th>206</th>\n      <td>Reagan, Ronald</td>\n      <td>1980</td>\n      <td>43875457</td>\n      <td>Reagan, Ronald1980</td>\n    </tr>\n    <tr>\n      <th>49</th>\n      <td>Carter, Jimmy</td>\n      <td>1980</td>\n      <td>35350717</td>\n      <td>Carter, Jimmy1980</td>\n    </tr>\n    <tr>\n      <th>48</th>\n      <td>Carter, Jimmy</td>\n      <td>1976</td>\n      <td>40688021</td>\n      <td>Carter, Jimmy1976</td>\n    </tr>\n    <tr>\n      <th>81</th>\n      <td>Ford, Gerald</td>\n      <td>1976</td>\n      <td>39117898</td>\n      <td>Ford, Gerald1976</td>\n    </tr>\n  </tbody>\n</table>\n</div>"
     },
     "metadata": {},
     "execution_count": 209
    }
   ],
   "source": [
    "#find top candidates by popular vote\n",
    "\n",
    "find_top_candidates_df = final_working_df[[\"year\",\"candidate\", \"candidatevotes\"]]\n",
    "\n",
    "find_top_candidates_df = find_top_candidates_df.groupby([\"candidate\", \"year\"]).sum().reset_index()\n",
    "\n",
    "find_top_candidates_df= find_top_candidates_df.sort_values(by=[\"year\", \"candidatevotes\"], ascending=False).groupby(\"year\").head(2)\n",
    "\n",
    "top_candidates_df = pd.DataFrame(find_top_candidates_df)\n",
    "\n",
    "#create key for merge\n",
    "top_candidates_df[\"new\"] = top_candidates_df[\"candidate\"] + top_candidates_df[\"year\"].astype(str)\n",
    "\n",
    "#create dataframe with only key for merge\n",
    "#loop through to deduplicate \n",
    "only_winners = top_candidates_df[[\"new\"]]\n",
    "\n",
    "toppy = []\n",
    "for row in only_winners[\"new\"]:\n",
    "    if row not in toppy:\n",
    "        toppy.append(row)\n",
    "\n",
    "toppy=pd.DataFrame(toppy)\n",
    "\n",
    "\n",
    "find_top_candidates_df "
   ]
  },
  {
   "cell_type": "code",
   "execution_count": 210,
   "metadata": {},
   "outputs": [
    {
     "output_type": "execute_result",
     "data": {
      "text/plain": "      year    state                candidate  totalvotes  Eligible_voting_pop  \\\n0     1976  Alabama  Bubar, Benjamin \"\"Ben\"\"     1182850         1.000000e-50   \n1     1976  Alabama            Carter, Jimmy     1182850         1.000000e-50   \n2     1976  Alabama             Ford, Gerald     1182850         1.000000e-50   \n3     1976  Alabama                Hall, Gus     1182850         1.000000e-50   \n4     1976  Alabama          Macbride, Roger     1182850         1.000000e-50   \n...    ...      ...                      ...         ...                  ...   \n4391  2016  Wyoming       Castle, Darrell L.      258788         4.296820e+05   \n4392  2016  Wyoming         Clinton, Hillary      258788         4.296820e+05   \n4393  2016  Wyoming            Johnson, Gary      258788         4.296820e+05   \n4394  2016  Wyoming                Over Vote      258788         4.296820e+05   \n4395  2016  Wyoming         Trump, Donald J.      258788         4.296820e+05   \n\n                              new  electoralvotes  candidatevotes  \\\n0     Bubar, Benjamin \"\"Ben\"\"1976             9.0            6669   \n1               Carter, Jimmy1976             9.0          659170   \n2                Ford, Gerald1976             9.0          504070   \n3                   Hall, Gus1976             9.0            1954   \n4             Macbride, Roger1976             9.0            1481   \n...                           ...             ...             ...   \n4391       Castle, Darrell L.2016             3.0            2042   \n4392         Clinton, Hillary2016             3.0           55973   \n4393            Johnson, Gary2016             3.0           13287   \n4394                Over Vote2016             3.0             278   \n4395         Trump, Donald J.2016             3.0          174419   \n\n                   party                     0  \n0            prohibition                     0  \n1               democrat     Carter, Jimmy1976  \n2             republican      Ford, Gerald1976  \n3            independent                     0  \n4            libertarian                     0  \n...                  ...                   ...  \n4391  constitution party                     0  \n4392            democrat  Clinton, Hillary2016  \n4393         libertarian                     0  \n4394             unknown                     0  \n4395          republican  Trump, Donald J.2016  \n\n[4396 rows x 10 columns]",
      "text/html": "<div>\n<style scoped>\n    .dataframe tbody tr th:only-of-type {\n        vertical-align: middle;\n    }\n\n    .dataframe tbody tr th {\n        vertical-align: top;\n    }\n\n    .dataframe thead th {\n        text-align: right;\n    }\n</style>\n<table border=\"1\" class=\"dataframe\">\n  <thead>\n    <tr style=\"text-align: right;\">\n      <th></th>\n      <th>year</th>\n      <th>state</th>\n      <th>candidate</th>\n      <th>totalvotes</th>\n      <th>Eligible_voting_pop</th>\n      <th>new</th>\n      <th>electoralvotes</th>\n      <th>candidatevotes</th>\n      <th>party</th>\n      <th>0</th>\n    </tr>\n  </thead>\n  <tbody>\n    <tr>\n      <th>0</th>\n      <td>1976</td>\n      <td>Alabama</td>\n      <td>Bubar, Benjamin \"\"Ben\"\"</td>\n      <td>1182850</td>\n      <td>1.000000e-50</td>\n      <td>Bubar, Benjamin \"\"Ben\"\"1976</td>\n      <td>9.0</td>\n      <td>6669</td>\n      <td>prohibition</td>\n      <td>0</td>\n    </tr>\n    <tr>\n      <th>1</th>\n      <td>1976</td>\n      <td>Alabama</td>\n      <td>Carter, Jimmy</td>\n      <td>1182850</td>\n      <td>1.000000e-50</td>\n      <td>Carter, Jimmy1976</td>\n      <td>9.0</td>\n      <td>659170</td>\n      <td>democrat</td>\n      <td>Carter, Jimmy1976</td>\n    </tr>\n    <tr>\n      <th>2</th>\n      <td>1976</td>\n      <td>Alabama</td>\n      <td>Ford, Gerald</td>\n      <td>1182850</td>\n      <td>1.000000e-50</td>\n      <td>Ford, Gerald1976</td>\n      <td>9.0</td>\n      <td>504070</td>\n      <td>republican</td>\n      <td>Ford, Gerald1976</td>\n    </tr>\n    <tr>\n      <th>3</th>\n      <td>1976</td>\n      <td>Alabama</td>\n      <td>Hall, Gus</td>\n      <td>1182850</td>\n      <td>1.000000e-50</td>\n      <td>Hall, Gus1976</td>\n      <td>9.0</td>\n      <td>1954</td>\n      <td>independent</td>\n      <td>0</td>\n    </tr>\n    <tr>\n      <th>4</th>\n      <td>1976</td>\n      <td>Alabama</td>\n      <td>Macbride, Roger</td>\n      <td>1182850</td>\n      <td>1.000000e-50</td>\n      <td>Macbride, Roger1976</td>\n      <td>9.0</td>\n      <td>1481</td>\n      <td>libertarian</td>\n      <td>0</td>\n    </tr>\n    <tr>\n      <th>...</th>\n      <td>...</td>\n      <td>...</td>\n      <td>...</td>\n      <td>...</td>\n      <td>...</td>\n      <td>...</td>\n      <td>...</td>\n      <td>...</td>\n      <td>...</td>\n      <td>...</td>\n    </tr>\n    <tr>\n      <th>4391</th>\n      <td>2016</td>\n      <td>Wyoming</td>\n      <td>Castle, Darrell L.</td>\n      <td>258788</td>\n      <td>4.296820e+05</td>\n      <td>Castle, Darrell L.2016</td>\n      <td>3.0</td>\n      <td>2042</td>\n      <td>constitution party</td>\n      <td>0</td>\n    </tr>\n    <tr>\n      <th>4392</th>\n      <td>2016</td>\n      <td>Wyoming</td>\n      <td>Clinton, Hillary</td>\n      <td>258788</td>\n      <td>4.296820e+05</td>\n      <td>Clinton, Hillary2016</td>\n      <td>3.0</td>\n      <td>55973</td>\n      <td>democrat</td>\n      <td>Clinton, Hillary2016</td>\n    </tr>\n    <tr>\n      <th>4393</th>\n      <td>2016</td>\n      <td>Wyoming</td>\n      <td>Johnson, Gary</td>\n      <td>258788</td>\n      <td>4.296820e+05</td>\n      <td>Johnson, Gary2016</td>\n      <td>3.0</td>\n      <td>13287</td>\n      <td>libertarian</td>\n      <td>0</td>\n    </tr>\n    <tr>\n      <th>4394</th>\n      <td>2016</td>\n      <td>Wyoming</td>\n      <td>Over Vote</td>\n      <td>258788</td>\n      <td>4.296820e+05</td>\n      <td>Over Vote2016</td>\n      <td>3.0</td>\n      <td>278</td>\n      <td>unknown</td>\n      <td>0</td>\n    </tr>\n    <tr>\n      <th>4395</th>\n      <td>2016</td>\n      <td>Wyoming</td>\n      <td>Trump, Donald J.</td>\n      <td>258788</td>\n      <td>4.296820e+05</td>\n      <td>Trump, Donald J.2016</td>\n      <td>3.0</td>\n      <td>174419</td>\n      <td>republican</td>\n      <td>Trump, Donald J.2016</td>\n    </tr>\n  </tbody>\n</table>\n<p>4396 rows × 10 columns</p>\n</div>"
     },
     "metadata": {},
     "execution_count": 210
    }
   ],
   "source": [
    "#merge to create column for flag\n",
    "\n",
    "final_final_but_not_quite = final_working_df.merge(toppy, how=\"left\", left_on= \"new\", right_on= 0)\n",
    "\n",
    "#fill na in new columnt with 0\n",
    "final_final_but_not_quite[0] = final_final_but_not_quite[0].fillna(0)\n",
    "\n",
    "#fill na in eligible voting pop for math\n",
    "\n",
    "\n",
    "final_final_but_not_quite"
   ]
  },
  {
   "cell_type": "code",
   "execution_count": 211,
   "metadata": {
    "tags": [
     "outputPrepend",
     "outputPrepend",
     "outputPrepend",
     "outputPrepend",
     "outputPrepend",
     "outputPrepend"
    ]
   },
   "outputs": [
    {
     "output_type": "execute_result",
     "data": {
      "text/plain": "year                     int64\nstate                   object\ncandidate               object\ntotalvotes               int64\nEligible_voting_pop    float64\nnew                     object\nelectoralvotes         float64\ncandidatevotes           int64\nparty                   object\nperc_won               float64\ndtype: object"
     },
     "metadata": {},
     "execution_count": 211
    }
   ],
   "source": [
    "#using flag, change candidate name to other if not in top 2\n",
    "\n",
    "final_final_but_not_quite.loc[final_final_but_not_quite[0] == 0, [\"candidate\"]] = 'Other'\n",
    "\n",
    "#drop flag column\n",
    "maybe_final = final_final_but_not_quite.drop([0], axis=1)\n",
    "\n",
    "#do math for % won\n",
    "for row in maybe_final:\n",
    "    maybe_final[\"perc_won\"] = maybe_final[\"candidatevotes\"] / maybe_final[\"totalvotes\"] \n",
    "\n",
    "#maybe_final[\"Eligible_voting_pop\"] = maybe_final[\"Eligible_voting_pop\"].replace({'\\$': '', ',': ''}, regex=True)\n",
    "#maybe_final[\"Eligible_voting_pop\"] = maybe_final[\"Eligible_voting_pop\"].astype(str).astype(float)\n",
    "#maybe_final.dtypes\n",
    "\n",
    "\n",
    "#for row in maybe_final:\n",
    " #   maybe_final[\"perc_participated\"] = maybe_final[\"candidatevotes\"] / maybe_final[\"Eligible_voting_pop\"] * 100\n",
    "\n",
    "\n",
    "#maybe_final = maybe_final.loc[maybe_final[\"state\"] == \"New York\"]\n",
    "#maybe_final = maybe_final.loc[maybe_final[\"year\"] == 2000]\n",
    "maybe_final.dtypes"
   ]
  },
  {
   "cell_type": "code",
   "execution_count": 212,
   "metadata": {},
   "outputs": [
    {
     "output_type": "execute_result",
     "data": {
      "text/plain": "      year    state         candidate  candidatevotes  \\\n0     1976  Alabama             Other            6669   \n1     1976  Alabama     Carter, Jimmy          659170   \n2     1976  Alabama      Ford, Gerald          504070   \n3     1976  Alabama             Other            1954   \n4     1976  Alabama             Other            1481   \n...    ...      ...               ...             ...   \n4391  2016  Wyoming             Other            2042   \n4392  2016  Wyoming  Clinton, Hillary           55973   \n4393  2016  Wyoming             Other           13287   \n4394  2016  Wyoming             Other             278   \n4395  2016  Wyoming  Trump, Donald J.          174419   \n\n                              new  \n0     Bubar, Benjamin \"\"Ben\"\"1976  \n1               Carter, Jimmy1976  \n2                Ford, Gerald1976  \n3                   Hall, Gus1976  \n4             Macbride, Roger1976  \n...                           ...  \n4391       Castle, Darrell L.2016  \n4392         Clinton, Hillary2016  \n4393            Johnson, Gary2016  \n4394                Over Vote2016  \n4395         Trump, Donald J.2016  \n\n[4396 rows x 5 columns]",
      "text/html": "<div>\n<style scoped>\n    .dataframe tbody tr th:only-of-type {\n        vertical-align: middle;\n    }\n\n    .dataframe tbody tr th {\n        vertical-align: top;\n    }\n\n    .dataframe thead th {\n        text-align: right;\n    }\n</style>\n<table border=\"1\" class=\"dataframe\">\n  <thead>\n    <tr style=\"text-align: right;\">\n      <th></th>\n      <th>year</th>\n      <th>state</th>\n      <th>candidate</th>\n      <th>candidatevotes</th>\n      <th>new</th>\n    </tr>\n  </thead>\n  <tbody>\n    <tr>\n      <th>0</th>\n      <td>1976</td>\n      <td>Alabama</td>\n      <td>Other</td>\n      <td>6669</td>\n      <td>Bubar, Benjamin \"\"Ben\"\"1976</td>\n    </tr>\n    <tr>\n      <th>1</th>\n      <td>1976</td>\n      <td>Alabama</td>\n      <td>Carter, Jimmy</td>\n      <td>659170</td>\n      <td>Carter, Jimmy1976</td>\n    </tr>\n    <tr>\n      <th>2</th>\n      <td>1976</td>\n      <td>Alabama</td>\n      <td>Ford, Gerald</td>\n      <td>504070</td>\n      <td>Ford, Gerald1976</td>\n    </tr>\n    <tr>\n      <th>3</th>\n      <td>1976</td>\n      <td>Alabama</td>\n      <td>Other</td>\n      <td>1954</td>\n      <td>Hall, Gus1976</td>\n    </tr>\n    <tr>\n      <th>4</th>\n      <td>1976</td>\n      <td>Alabama</td>\n      <td>Other</td>\n      <td>1481</td>\n      <td>Macbride, Roger1976</td>\n    </tr>\n    <tr>\n      <th>...</th>\n      <td>...</td>\n      <td>...</td>\n      <td>...</td>\n      <td>...</td>\n      <td>...</td>\n    </tr>\n    <tr>\n      <th>4391</th>\n      <td>2016</td>\n      <td>Wyoming</td>\n      <td>Other</td>\n      <td>2042</td>\n      <td>Castle, Darrell L.2016</td>\n    </tr>\n    <tr>\n      <th>4392</th>\n      <td>2016</td>\n      <td>Wyoming</td>\n      <td>Clinton, Hillary</td>\n      <td>55973</td>\n      <td>Clinton, Hillary2016</td>\n    </tr>\n    <tr>\n      <th>4393</th>\n      <td>2016</td>\n      <td>Wyoming</td>\n      <td>Other</td>\n      <td>13287</td>\n      <td>Johnson, Gary2016</td>\n    </tr>\n    <tr>\n      <th>4394</th>\n      <td>2016</td>\n      <td>Wyoming</td>\n      <td>Other</td>\n      <td>278</td>\n      <td>Over Vote2016</td>\n    </tr>\n    <tr>\n      <th>4395</th>\n      <td>2016</td>\n      <td>Wyoming</td>\n      <td>Trump, Donald J.</td>\n      <td>174419</td>\n      <td>Trump, Donald J.2016</td>\n    </tr>\n  </tbody>\n</table>\n<p>4396 rows × 5 columns</p>\n</div>"
     },
     "metadata": {},
     "execution_count": 212
    }
   ],
   "source": [
    "find_top_candidates_state_df = maybe_final[[\"year\",\"state\",\"candidate\", \"candidatevotes\", \"new\"]]\n",
    "\n",
    "#find_top_candidates_state_df.drop_duplicates(keep=\"first\", inplace=True)\n",
    "\n",
    "#find_top_candidates_state_df = find_top_candidates_state_df.loc[find_top_candidates_state_df[\"state\"] == \"New York\"]\n",
    "#ind_top_candidates_state_df = find_top_candidates_state_df.loc[find_top_candidates_state_df[\"year\"] == 2000]\n",
    "find_top_candidates_state_df"
   ]
  },
  {
   "cell_type": "code",
   "execution_count": 213,
   "metadata": {},
   "outputs": [
    {
     "output_type": "execute_result",
     "data": {
      "text/plain": "             candidate  year          state  candidatevotes  \\\n200      Carter, Jimmy  1976        Alabama          659170   \n551       Ford, Gerald  1976         Alaska           71555   \n552       Ford, Gerald  1976        Arizona          418642   \n203      Carter, Jimmy  1976       Arkansas          498604   \n554       Ford, Gerald  1976     California         3882244   \n...                ...   ...            ...             ...   \n445   Clinton, Hillary  2016       Virginia         1981473   \n446   Clinton, Hillary  2016     Washington         1742718   \n1627  Trump, Donald J.  2016  West Virginia          489371   \n1628  Trump, Donald J.  2016      Wisconsin         1405284   \n1629  Trump, Donald J.  2016        Wyoming          174419   \n\n                       new  \n200      Carter, Jimmy1976  \n551       Ford, Gerald1976  \n552       Ford, Gerald1976  \n203      Carter, Jimmy1976  \n554       Ford, Gerald1976  \n...                    ...  \n445   Clinton, Hillary2016  \n446   Clinton, Hillary2016  \n1627  Trump, Donald J.2016  \n1628  Trump, Donald J.2016  \n1629  Trump, Donald J.2016  \n\n[550 rows x 5 columns]",
      "text/html": "<div>\n<style scoped>\n    .dataframe tbody tr th:only-of-type {\n        vertical-align: middle;\n    }\n\n    .dataframe tbody tr th {\n        vertical-align: top;\n    }\n\n    .dataframe thead th {\n        text-align: right;\n    }\n</style>\n<table border=\"1\" class=\"dataframe\">\n  <thead>\n    <tr style=\"text-align: right;\">\n      <th></th>\n      <th>candidate</th>\n      <th>year</th>\n      <th>state</th>\n      <th>candidatevotes</th>\n      <th>new</th>\n    </tr>\n  </thead>\n  <tbody>\n    <tr>\n      <th>200</th>\n      <td>Carter, Jimmy</td>\n      <td>1976</td>\n      <td>Alabama</td>\n      <td>659170</td>\n      <td>Carter, Jimmy1976</td>\n    </tr>\n    <tr>\n      <th>551</th>\n      <td>Ford, Gerald</td>\n      <td>1976</td>\n      <td>Alaska</td>\n      <td>71555</td>\n      <td>Ford, Gerald1976</td>\n    </tr>\n    <tr>\n      <th>552</th>\n      <td>Ford, Gerald</td>\n      <td>1976</td>\n      <td>Arizona</td>\n      <td>418642</td>\n      <td>Ford, Gerald1976</td>\n    </tr>\n    <tr>\n      <th>203</th>\n      <td>Carter, Jimmy</td>\n      <td>1976</td>\n      <td>Arkansas</td>\n      <td>498604</td>\n      <td>Carter, Jimmy1976</td>\n    </tr>\n    <tr>\n      <th>554</th>\n      <td>Ford, Gerald</td>\n      <td>1976</td>\n      <td>California</td>\n      <td>3882244</td>\n      <td>Ford, Gerald1976</td>\n    </tr>\n    <tr>\n      <th>...</th>\n      <td>...</td>\n      <td>...</td>\n      <td>...</td>\n      <td>...</td>\n      <td>...</td>\n    </tr>\n    <tr>\n      <th>445</th>\n      <td>Clinton, Hillary</td>\n      <td>2016</td>\n      <td>Virginia</td>\n      <td>1981473</td>\n      <td>Clinton, Hillary2016</td>\n    </tr>\n    <tr>\n      <th>446</th>\n      <td>Clinton, Hillary</td>\n      <td>2016</td>\n      <td>Washington</td>\n      <td>1742718</td>\n      <td>Clinton, Hillary2016</td>\n    </tr>\n    <tr>\n      <th>1627</th>\n      <td>Trump, Donald J.</td>\n      <td>2016</td>\n      <td>West Virginia</td>\n      <td>489371</td>\n      <td>Trump, Donald J.2016</td>\n    </tr>\n    <tr>\n      <th>1628</th>\n      <td>Trump, Donald J.</td>\n      <td>2016</td>\n      <td>Wisconsin</td>\n      <td>1405284</td>\n      <td>Trump, Donald J.2016</td>\n    </tr>\n    <tr>\n      <th>1629</th>\n      <td>Trump, Donald J.</td>\n      <td>2016</td>\n      <td>Wyoming</td>\n      <td>174419</td>\n      <td>Trump, Donald J.2016</td>\n    </tr>\n  </tbody>\n</table>\n<p>550 rows × 5 columns</p>\n</div>"
     },
     "metadata": {},
     "execution_count": 213
    }
   ],
   "source": [
    "#sum candidate votes\n",
    "\n",
    "find_top_candidates_state_df = find_top_candidates_state_df.groupby([\"candidate\", \"year\", \"state\"]).sum().reset_index()\n",
    "\n",
    "#sort to get top candidate\n",
    "find_top_candidates_state_df= find_top_candidates_state_df.sort_values(by=[ \"year\",\"candidatevotes\", \"state\"], ascending=False)\n",
    "find_top_candidates_state_df = find_top_candidates_state_df.sort_values([\"year\", \"state\"]).groupby([\"state\",\"year\"]).head(1)\n",
    "\n",
    "#create key for merge\n",
    "find_top_candidates_state_df[\"new\"] = find_top_candidates_state_df[\"candidate\"] + find_top_candidates_state_df[\"year\"].astype(str)\n",
    "\n",
    "find_top_candidates_state_df\n",
    "\n",
    "#find_top_candidates_state_df.loc[find_top_candidates_state_df[\"state\"] == \"New York\"]"
   ]
  },
  {
   "cell_type": "code",
   "execution_count": 214,
   "metadata": {},
   "outputs": [
    {
     "output_type": "execute_result",
     "data": {
      "text/plain": "      year    state         candidate  totalvotes  Eligible_voting_pop  \\\n0     1976  Alabama             Other     1182850         1.000000e-50   \n1     1976  Alabama     Carter, Jimmy     1182850         1.000000e-50   \n2     1976  Alabama      Ford, Gerald     1182850         1.000000e-50   \n3     1976  Alabama             Other     1182850         1.000000e-50   \n4     1976  Alabama             Other     1182850         1.000000e-50   \n...    ...      ...               ...         ...                  ...   \n4391  2016  Wyoming             Other      258788         4.296820e+05   \n4392  2016  Wyoming  Clinton, Hillary      258788         4.296820e+05   \n4393  2016  Wyoming             Other      258788         4.296820e+05   \n4394  2016  Wyoming             Other      258788         4.296820e+05   \n4395  2016  Wyoming  Trump, Donald J.      258788         4.296820e+05   \n\n      electoralvotes  candidatevotes               party  perc_won  \\\n0                9.0            6669         prohibition  0.005638   \n1                9.0          659170            democrat  0.557273   \n2                9.0          504070          republican  0.426149   \n3                9.0            1954         independent  0.001652   \n4                9.0            1481         libertarian  0.001252   \n...              ...             ...                 ...       ...   \n4391             3.0            2042  constitution party  0.007891   \n4392             3.0           55973            democrat  0.216289   \n4393             3.0           13287         libertarian  0.051343   \n4394             3.0             278             unknown  0.001074   \n4395             3.0          174419          republican  0.673984   \n\n     state_won_flag  \n0                 0  \n1                 1  \n2                 0  \n3                 0  \n4                 0  \n...             ...  \n4391              0  \n4392              0  \n4393              0  \n4394              0  \n4395              1  \n\n[4396 rows x 10 columns]",
      "text/html": "<div>\n<style scoped>\n    .dataframe tbody tr th:only-of-type {\n        vertical-align: middle;\n    }\n\n    .dataframe tbody tr th {\n        vertical-align: top;\n    }\n\n    .dataframe thead th {\n        text-align: right;\n    }\n</style>\n<table border=\"1\" class=\"dataframe\">\n  <thead>\n    <tr style=\"text-align: right;\">\n      <th></th>\n      <th>year</th>\n      <th>state</th>\n      <th>candidate</th>\n      <th>totalvotes</th>\n      <th>Eligible_voting_pop</th>\n      <th>electoralvotes</th>\n      <th>candidatevotes</th>\n      <th>party</th>\n      <th>perc_won</th>\n      <th>state_won_flag</th>\n    </tr>\n  </thead>\n  <tbody>\n    <tr>\n      <th>0</th>\n      <td>1976</td>\n      <td>Alabama</td>\n      <td>Other</td>\n      <td>1182850</td>\n      <td>1.000000e-50</td>\n      <td>9.0</td>\n      <td>6669</td>\n      <td>prohibition</td>\n      <td>0.005638</td>\n      <td>0</td>\n    </tr>\n    <tr>\n      <th>1</th>\n      <td>1976</td>\n      <td>Alabama</td>\n      <td>Carter, Jimmy</td>\n      <td>1182850</td>\n      <td>1.000000e-50</td>\n      <td>9.0</td>\n      <td>659170</td>\n      <td>democrat</td>\n      <td>0.557273</td>\n      <td>1</td>\n    </tr>\n    <tr>\n      <th>2</th>\n      <td>1976</td>\n      <td>Alabama</td>\n      <td>Ford, Gerald</td>\n      <td>1182850</td>\n      <td>1.000000e-50</td>\n      <td>9.0</td>\n      <td>504070</td>\n      <td>republican</td>\n      <td>0.426149</td>\n      <td>0</td>\n    </tr>\n    <tr>\n      <th>3</th>\n      <td>1976</td>\n      <td>Alabama</td>\n      <td>Other</td>\n      <td>1182850</td>\n      <td>1.000000e-50</td>\n      <td>9.0</td>\n      <td>1954</td>\n      <td>independent</td>\n      <td>0.001652</td>\n      <td>0</td>\n    </tr>\n    <tr>\n      <th>4</th>\n      <td>1976</td>\n      <td>Alabama</td>\n      <td>Other</td>\n      <td>1182850</td>\n      <td>1.000000e-50</td>\n      <td>9.0</td>\n      <td>1481</td>\n      <td>libertarian</td>\n      <td>0.001252</td>\n      <td>0</td>\n    </tr>\n    <tr>\n      <th>...</th>\n      <td>...</td>\n      <td>...</td>\n      <td>...</td>\n      <td>...</td>\n      <td>...</td>\n      <td>...</td>\n      <td>...</td>\n      <td>...</td>\n      <td>...</td>\n      <td>...</td>\n    </tr>\n    <tr>\n      <th>4391</th>\n      <td>2016</td>\n      <td>Wyoming</td>\n      <td>Other</td>\n      <td>258788</td>\n      <td>4.296820e+05</td>\n      <td>3.0</td>\n      <td>2042</td>\n      <td>constitution party</td>\n      <td>0.007891</td>\n      <td>0</td>\n    </tr>\n    <tr>\n      <th>4392</th>\n      <td>2016</td>\n      <td>Wyoming</td>\n      <td>Clinton, Hillary</td>\n      <td>258788</td>\n      <td>4.296820e+05</td>\n      <td>3.0</td>\n      <td>55973</td>\n      <td>democrat</td>\n      <td>0.216289</td>\n      <td>0</td>\n    </tr>\n    <tr>\n      <th>4393</th>\n      <td>2016</td>\n      <td>Wyoming</td>\n      <td>Other</td>\n      <td>258788</td>\n      <td>4.296820e+05</td>\n      <td>3.0</td>\n      <td>13287</td>\n      <td>libertarian</td>\n      <td>0.051343</td>\n      <td>0</td>\n    </tr>\n    <tr>\n      <th>4394</th>\n      <td>2016</td>\n      <td>Wyoming</td>\n      <td>Other</td>\n      <td>258788</td>\n      <td>4.296820e+05</td>\n      <td>3.0</td>\n      <td>278</td>\n      <td>unknown</td>\n      <td>0.001074</td>\n      <td>0</td>\n    </tr>\n    <tr>\n      <th>4395</th>\n      <td>2016</td>\n      <td>Wyoming</td>\n      <td>Trump, Donald J.</td>\n      <td>258788</td>\n      <td>4.296820e+05</td>\n      <td>3.0</td>\n      <td>174419</td>\n      <td>republican</td>\n      <td>0.673984</td>\n      <td>1</td>\n    </tr>\n  </tbody>\n</table>\n<p>4396 rows × 10 columns</p>\n</div>"
     },
     "metadata": {},
     "execution_count": 214
    }
   ],
   "source": [
    "#merge dataframed for the state won flag\n",
    "\n",
    "state_winner_added = maybe_final.merge(find_top_candidates_state_df, how=\"left\", on= [\"new\", \"state\"], suffixes=('', 'drop'))\n",
    "\n",
    "#fill na in flag column for loc and change\n",
    "state_winner_added[\"candidatedrop\"] = state_winner_added[\"candidatedrop\"].fillna(0)\n",
    "\n",
    "#loc and change values\n",
    "state_winner_added.loc[state_winner_added[\"candidatedrop\"] != 0, [\"candidatedrop\"]] = '1'\n",
    "state_winner_added.loc[state_winner_added[\"candidatedrop\"] == 0, [\"candidatedrop\"]] = '0'\n",
    "\n",
    "#drop and rename columns\n",
    "state_winner_added = state_winner_added.drop([\"yeardrop\",  \"candidatevotesdrop\", \"new\"], axis=1).rename(columns={\"candidatedrop\": \"state_won_flag\"})\n",
    "\n",
    "#fill in na parties with unknown\n",
    "state_winner_added[\"party\"] = state_winner_added[\"party\"].fillna(\"Unknown\")\n",
    "\n",
    "final_df = state_winner_added\n",
    "\n",
    "final_df"
   ]
  },
  {
   "cell_type": "code",
   "execution_count": 215,
   "metadata": {},
   "outputs": [
    {
     "output_type": "execute_result",
     "data": {
      "text/plain": "    year          candidate  electoralvotes                    new\n0   1976      Carter, Jimmy           294.0      Carter, Jimmy1976\n1   1976       Ford, Gerald           241.0       Ford, Gerald1976\n2   1980      Carter, Jimmy            46.0      Carter, Jimmy1980\n3   1980     Reagan, Ronald           489.0     Reagan, Ronald1980\n4   1984    Mondale, Walter            10.0    Mondale, Walter1984\n5   1984     Reagan, Ronald           525.0     Reagan, Ronald1984\n6   1988  Bush, George H.W.           426.0  Bush, George H.W.1988\n7   1988   Dukakis, Michael           109.0   Dukakis, Michael1988\n8   1992  Bush, George H.W.           168.0  Bush, George H.W.1992\n9   1992      Clinton, Bill           367.0      Clinton, Bill1992\n10  1996      Clinton, Bill           376.0      Clinton, Bill1996\n11  1996       Dole, Robert           159.0       Dole, Robert1996\n12  2000    Bush, George W.           271.0    Bush, George W.2000\n13  2000           Gore, Al           264.0           Gore, Al2000\n14  2004    Bush, George W.           286.0    Bush, George W.2004\n15  2004        Kerry, John           249.0        Kerry, John2004\n16  2008       McCain, John           174.0       McCain, John2008\n17  2008   Obama, Barack H.           361.0   Obama, Barack H.2008\n18  2012   Obama, Barack H.           329.0   Obama, Barack H.2012\n19  2012       Romney, Mitt           206.0       Romney, Mitt2012\n20  2016   Clinton, Hillary           223.0   Clinton, Hillary2016\n21  2016              Other            84.0              Other2016",
      "text/html": "<div>\n<style scoped>\n    .dataframe tbody tr th:only-of-type {\n        vertical-align: middle;\n    }\n\n    .dataframe tbody tr th {\n        vertical-align: top;\n    }\n\n    .dataframe thead th {\n        text-align: right;\n    }\n</style>\n<table border=\"1\" class=\"dataframe\">\n  <thead>\n    <tr style=\"text-align: right;\">\n      <th></th>\n      <th>year</th>\n      <th>candidate</th>\n      <th>electoralvotes</th>\n      <th>new</th>\n    </tr>\n  </thead>\n  <tbody>\n    <tr>\n      <th>0</th>\n      <td>1976</td>\n      <td>Carter, Jimmy</td>\n      <td>294.0</td>\n      <td>Carter, Jimmy1976</td>\n    </tr>\n    <tr>\n      <th>1</th>\n      <td>1976</td>\n      <td>Ford, Gerald</td>\n      <td>241.0</td>\n      <td>Ford, Gerald1976</td>\n    </tr>\n    <tr>\n      <th>2</th>\n      <td>1980</td>\n      <td>Carter, Jimmy</td>\n      <td>46.0</td>\n      <td>Carter, Jimmy1980</td>\n    </tr>\n    <tr>\n      <th>3</th>\n      <td>1980</td>\n      <td>Reagan, Ronald</td>\n      <td>489.0</td>\n      <td>Reagan, Ronald1980</td>\n    </tr>\n    <tr>\n      <th>4</th>\n      <td>1984</td>\n      <td>Mondale, Walter</td>\n      <td>10.0</td>\n      <td>Mondale, Walter1984</td>\n    </tr>\n    <tr>\n      <th>5</th>\n      <td>1984</td>\n      <td>Reagan, Ronald</td>\n      <td>525.0</td>\n      <td>Reagan, Ronald1984</td>\n    </tr>\n    <tr>\n      <th>6</th>\n      <td>1988</td>\n      <td>Bush, George H.W.</td>\n      <td>426.0</td>\n      <td>Bush, George H.W.1988</td>\n    </tr>\n    <tr>\n      <th>7</th>\n      <td>1988</td>\n      <td>Dukakis, Michael</td>\n      <td>109.0</td>\n      <td>Dukakis, Michael1988</td>\n    </tr>\n    <tr>\n      <th>8</th>\n      <td>1992</td>\n      <td>Bush, George H.W.</td>\n      <td>168.0</td>\n      <td>Bush, George H.W.1992</td>\n    </tr>\n    <tr>\n      <th>9</th>\n      <td>1992</td>\n      <td>Clinton, Bill</td>\n      <td>367.0</td>\n      <td>Clinton, Bill1992</td>\n    </tr>\n    <tr>\n      <th>10</th>\n      <td>1996</td>\n      <td>Clinton, Bill</td>\n      <td>376.0</td>\n      <td>Clinton, Bill1996</td>\n    </tr>\n    <tr>\n      <th>11</th>\n      <td>1996</td>\n      <td>Dole, Robert</td>\n      <td>159.0</td>\n      <td>Dole, Robert1996</td>\n    </tr>\n    <tr>\n      <th>12</th>\n      <td>2000</td>\n      <td>Bush, George W.</td>\n      <td>271.0</td>\n      <td>Bush, George W.2000</td>\n    </tr>\n    <tr>\n      <th>13</th>\n      <td>2000</td>\n      <td>Gore, Al</td>\n      <td>264.0</td>\n      <td>Gore, Al2000</td>\n    </tr>\n    <tr>\n      <th>14</th>\n      <td>2004</td>\n      <td>Bush, George W.</td>\n      <td>286.0</td>\n      <td>Bush, George W.2004</td>\n    </tr>\n    <tr>\n      <th>15</th>\n      <td>2004</td>\n      <td>Kerry, John</td>\n      <td>249.0</td>\n      <td>Kerry, John2004</td>\n    </tr>\n    <tr>\n      <th>16</th>\n      <td>2008</td>\n      <td>McCain, John</td>\n      <td>174.0</td>\n      <td>McCain, John2008</td>\n    </tr>\n    <tr>\n      <th>17</th>\n      <td>2008</td>\n      <td>Obama, Barack H.</td>\n      <td>361.0</td>\n      <td>Obama, Barack H.2008</td>\n    </tr>\n    <tr>\n      <th>18</th>\n      <td>2012</td>\n      <td>Obama, Barack H.</td>\n      <td>329.0</td>\n      <td>Obama, Barack H.2012</td>\n    </tr>\n    <tr>\n      <th>19</th>\n      <td>2012</td>\n      <td>Romney, Mitt</td>\n      <td>206.0</td>\n      <td>Romney, Mitt2012</td>\n    </tr>\n    <tr>\n      <th>20</th>\n      <td>2016</td>\n      <td>Clinton, Hillary</td>\n      <td>223.0</td>\n      <td>Clinton, Hillary2016</td>\n    </tr>\n    <tr>\n      <th>21</th>\n      <td>2016</td>\n      <td>Other</td>\n      <td>84.0</td>\n      <td>Other2016</td>\n    </tr>\n  </tbody>\n</table>\n</div>"
     },
     "metadata": {},
     "execution_count": 215
    }
   ],
   "source": [
    "#electoral college df\n",
    "electoral_college = final_df[[\"year\", \"state\", \"candidate\",\"electoralvotes\", \"state_won_flag\"]]\n",
    "electoral_college = electoral_college.loc[electoral_college[\"state_won_flag\"] == '1']\n",
    "\n",
    "electoral_college = electoral_college.drop([\"state\",\"state_won_flag\" ], axis=1)\n",
    "electoral_college = electoral_college.groupby([\"year\", \"candidate\"]).sum().reset_index()\n",
    "\n",
    "electoral_college[\"new\"] = electoral_college[\"candidate\"] + electoral_college[\"year\"].astype(str)\n",
    "#electoral_college = electoral_college.sort_values([\"year\", \"electoralvotes\"], ascending=False)\n",
    "\n",
    "\n",
    "\n",
    "electoral_college_win = electoral_college.groupby(\"year\").head(2)\n",
    "electoral_college_win\n",
    "\n"
   ]
  },
  {
   "cell_type": "code",
   "execution_count": 216,
   "metadata": {},
   "outputs": [],
   "source": [
    "#start of year level dataset\n",
    "\n",
    "year_df = final_df.groupby([\"year\", \"candidate\"]).sum().reset_index().sort_values(by= [\"year\", \"candidatevotes\"], ascending=False).groupby(\"year\").head(1)\n",
    "popular_vote = year_df[[\"year\", \"candidate\", \"candidatevotes\"]]\n",
    "popular_vote[\"new\"] = popular_vote[\"candidate\"] + popular_vote[\"year\"].astype(str)\n",
    "\n",
    "\n",
    "\n",
    "year_df = final_df.groupby([\"year\", \"candidate\"]).sum().reset_index().sort_values(by= [\"year\", \"candidatevotes\"], ascending=False).groupby(\"year\").head(3)\n",
    "\n",
    "vote = year_df[[\"year\", \"candidate\", \"candidatevotes\"]]\n",
    "vote[\"new\"] = vote[\"candidate\"] + vote[\"year\"].astype(str)\n",
    "\n",
    "vote = vote.merge(popular_vote, how=\"left\", left_on=\"new\", right_on=\"new\", suffixes=('', 'drop'))\n",
    "vote = vote.merge(electoral_college, how=\"left\", left_on=\"new\", right_on=\"new\", suffixes=('', 'drop1'))"
   ]
  },
  {
   "cell_type": "code",
   "execution_count": 217,
   "metadata": {},
   "outputs": [
    {
     "output_type": "execute_result",
     "data": {
      "text/plain": "    year          candidate  candidatevotes won_pop_vote_flag  electoralvotes\n0   2016   Clinton, Hillary        65570751                 1           223.0\n1   2016   Trump, Donald J.        62972339                 0           305.0\n2   2016              Other         8802017                 0            84.0\n3   2012   Obama, Barack H.        65632590                 1           329.0\n4   2012       Romney, Mitt        59620101                 0           206.0\n5   2012              Other         3617228                 0             0.0\n6   2008   Obama, Barack H.        69252659                 1           361.0\n7   2008       McCain, John        59930916                 0           174.0\n8   2008              Other         2129671                 0             0.0\n9   2004    Bush, George W.        62007029                 1           286.0\n10  2004        Kerry, John        58825109                 0           249.0\n11  2004              Other         3198413                 0             0.0\n12  2000           Gore, Al        50824139                 1           264.0\n13  2000    Bush, George W.        50438096                 0           271.0\n14  2000              Other         4033477                 0             0.0\n15  1996      Clinton, Bill        47243678                 1           376.0\n16  1996       Dole, Robert        39181143                 0           159.0\n17  1996              Other         9117205                 0             0.0\n18  1992      Clinton, Bill        44761684                 1           367.0\n19  1992  Bush, George H.W.        39083174                 0           168.0\n20  1992              Other        21554481                 0             0.0\n21  1988  Bush, George H.W.        48858507                 1           426.0\n22  1988   Dukakis, Michael        41649667                 0           109.0\n23  1988              Other          811803                 0             0.0\n24  1984     Reagan, Ronald        54426064                 1           525.0\n25  1984    Mondale, Walter        37387729                 0            10.0\n26  1984              Other          782900                 0             0.0\n27  1980     Reagan, Ronald        43875457                 1           489.0\n28  1980      Carter, Jimmy        35350717                 0            46.0\n29  1980              Other         7078062                 0             0.0\n30  1976      Carter, Jimmy        40688021                 1           294.0\n31  1976       Ford, Gerald        39117898                 0           241.0\n32  1976              Other         3420202                 0             0.0",
      "text/html": "<div>\n<style scoped>\n    .dataframe tbody tr th:only-of-type {\n        vertical-align: middle;\n    }\n\n    .dataframe tbody tr th {\n        vertical-align: top;\n    }\n\n    .dataframe thead th {\n        text-align: right;\n    }\n</style>\n<table border=\"1\" class=\"dataframe\">\n  <thead>\n    <tr style=\"text-align: right;\">\n      <th></th>\n      <th>year</th>\n      <th>candidate</th>\n      <th>candidatevotes</th>\n      <th>won_pop_vote_flag</th>\n      <th>electoralvotes</th>\n    </tr>\n  </thead>\n  <tbody>\n    <tr>\n      <th>0</th>\n      <td>2016</td>\n      <td>Clinton, Hillary</td>\n      <td>65570751</td>\n      <td>1</td>\n      <td>223.0</td>\n    </tr>\n    <tr>\n      <th>1</th>\n      <td>2016</td>\n      <td>Trump, Donald J.</td>\n      <td>62972339</td>\n      <td>0</td>\n      <td>305.0</td>\n    </tr>\n    <tr>\n      <th>2</th>\n      <td>2016</td>\n      <td>Other</td>\n      <td>8802017</td>\n      <td>0</td>\n      <td>84.0</td>\n    </tr>\n    <tr>\n      <th>3</th>\n      <td>2012</td>\n      <td>Obama, Barack H.</td>\n      <td>65632590</td>\n      <td>1</td>\n      <td>329.0</td>\n    </tr>\n    <tr>\n      <th>4</th>\n      <td>2012</td>\n      <td>Romney, Mitt</td>\n      <td>59620101</td>\n      <td>0</td>\n      <td>206.0</td>\n    </tr>\n    <tr>\n      <th>5</th>\n      <td>2012</td>\n      <td>Other</td>\n      <td>3617228</td>\n      <td>0</td>\n      <td>0.0</td>\n    </tr>\n    <tr>\n      <th>6</th>\n      <td>2008</td>\n      <td>Obama, Barack H.</td>\n      <td>69252659</td>\n      <td>1</td>\n      <td>361.0</td>\n    </tr>\n    <tr>\n      <th>7</th>\n      <td>2008</td>\n      <td>McCain, John</td>\n      <td>59930916</td>\n      <td>0</td>\n      <td>174.0</td>\n    </tr>\n    <tr>\n      <th>8</th>\n      <td>2008</td>\n      <td>Other</td>\n      <td>2129671</td>\n      <td>0</td>\n      <td>0.0</td>\n    </tr>\n    <tr>\n      <th>9</th>\n      <td>2004</td>\n      <td>Bush, George W.</td>\n      <td>62007029</td>\n      <td>1</td>\n      <td>286.0</td>\n    </tr>\n    <tr>\n      <th>10</th>\n      <td>2004</td>\n      <td>Kerry, John</td>\n      <td>58825109</td>\n      <td>0</td>\n      <td>249.0</td>\n    </tr>\n    <tr>\n      <th>11</th>\n      <td>2004</td>\n      <td>Other</td>\n      <td>3198413</td>\n      <td>0</td>\n      <td>0.0</td>\n    </tr>\n    <tr>\n      <th>12</th>\n      <td>2000</td>\n      <td>Gore, Al</td>\n      <td>50824139</td>\n      <td>1</td>\n      <td>264.0</td>\n    </tr>\n    <tr>\n      <th>13</th>\n      <td>2000</td>\n      <td>Bush, George W.</td>\n      <td>50438096</td>\n      <td>0</td>\n      <td>271.0</td>\n    </tr>\n    <tr>\n      <th>14</th>\n      <td>2000</td>\n      <td>Other</td>\n      <td>4033477</td>\n      <td>0</td>\n      <td>0.0</td>\n    </tr>\n    <tr>\n      <th>15</th>\n      <td>1996</td>\n      <td>Clinton, Bill</td>\n      <td>47243678</td>\n      <td>1</td>\n      <td>376.0</td>\n    </tr>\n    <tr>\n      <th>16</th>\n      <td>1996</td>\n      <td>Dole, Robert</td>\n      <td>39181143</td>\n      <td>0</td>\n      <td>159.0</td>\n    </tr>\n    <tr>\n      <th>17</th>\n      <td>1996</td>\n      <td>Other</td>\n      <td>9117205</td>\n      <td>0</td>\n      <td>0.0</td>\n    </tr>\n    <tr>\n      <th>18</th>\n      <td>1992</td>\n      <td>Clinton, Bill</td>\n      <td>44761684</td>\n      <td>1</td>\n      <td>367.0</td>\n    </tr>\n    <tr>\n      <th>19</th>\n      <td>1992</td>\n      <td>Bush, George H.W.</td>\n      <td>39083174</td>\n      <td>0</td>\n      <td>168.0</td>\n    </tr>\n    <tr>\n      <th>20</th>\n      <td>1992</td>\n      <td>Other</td>\n      <td>21554481</td>\n      <td>0</td>\n      <td>0.0</td>\n    </tr>\n    <tr>\n      <th>21</th>\n      <td>1988</td>\n      <td>Bush, George H.W.</td>\n      <td>48858507</td>\n      <td>1</td>\n      <td>426.0</td>\n    </tr>\n    <tr>\n      <th>22</th>\n      <td>1988</td>\n      <td>Dukakis, Michael</td>\n      <td>41649667</td>\n      <td>0</td>\n      <td>109.0</td>\n    </tr>\n    <tr>\n      <th>23</th>\n      <td>1988</td>\n      <td>Other</td>\n      <td>811803</td>\n      <td>0</td>\n      <td>0.0</td>\n    </tr>\n    <tr>\n      <th>24</th>\n      <td>1984</td>\n      <td>Reagan, Ronald</td>\n      <td>54426064</td>\n      <td>1</td>\n      <td>525.0</td>\n    </tr>\n    <tr>\n      <th>25</th>\n      <td>1984</td>\n      <td>Mondale, Walter</td>\n      <td>37387729</td>\n      <td>0</td>\n      <td>10.0</td>\n    </tr>\n    <tr>\n      <th>26</th>\n      <td>1984</td>\n      <td>Other</td>\n      <td>782900</td>\n      <td>0</td>\n      <td>0.0</td>\n    </tr>\n    <tr>\n      <th>27</th>\n      <td>1980</td>\n      <td>Reagan, Ronald</td>\n      <td>43875457</td>\n      <td>1</td>\n      <td>489.0</td>\n    </tr>\n    <tr>\n      <th>28</th>\n      <td>1980</td>\n      <td>Carter, Jimmy</td>\n      <td>35350717</td>\n      <td>0</td>\n      <td>46.0</td>\n    </tr>\n    <tr>\n      <th>29</th>\n      <td>1980</td>\n      <td>Other</td>\n      <td>7078062</td>\n      <td>0</td>\n      <td>0.0</td>\n    </tr>\n    <tr>\n      <th>30</th>\n      <td>1976</td>\n      <td>Carter, Jimmy</td>\n      <td>40688021</td>\n      <td>1</td>\n      <td>294.0</td>\n    </tr>\n    <tr>\n      <th>31</th>\n      <td>1976</td>\n      <td>Ford, Gerald</td>\n      <td>39117898</td>\n      <td>0</td>\n      <td>241.0</td>\n    </tr>\n    <tr>\n      <th>32</th>\n      <td>1976</td>\n      <td>Other</td>\n      <td>3420202</td>\n      <td>0</td>\n      <td>0.0</td>\n    </tr>\n  </tbody>\n</table>\n</div>"
     },
     "metadata": {},
     "execution_count": 217
    }
   ],
   "source": [
    "vote = vote.drop([\"new\", \"yeardrop\", \"yeardrop1\", \"candidatevotesdrop\", \"candidatedrop1\"], axis=1)\n",
    "vote[\"electoralvotes\"] = vote[\"electoralvotes\"].fillna(0)\n",
    "vote[\"candidatedrop\"] = vote[\"candidatedrop\"].fillna(0)\n",
    "\n",
    "vote.loc[vote[\"candidatedrop\"] != 0, [\"candidatedrop\"]] = '1'\n",
    "#vote.loc[vote[\"candidatedrop\"] == 0, [\"candidatedrop\"]] = '0'\n",
    "\n",
    "vote.rename(columns={\"candidatedrop\": \"won_pop_vote_flag\"}, inplace=True)\n",
    "\n",
    "vote"
   ]
  },
  {
   "cell_type": "code",
   "execution_count": 221,
   "metadata": {},
   "outputs": [
    {
     "output_type": "execute_result",
     "data": {
      "text/plain": "    year  totalvotes  Eligible_voting_pop          perc\n0   1976    81432514         1.000000e-50  8.143251e+57\n1   1980    86322962         1.574318e+08  5.483196e-01\n2   1984    92443573         1.649467e+08  5.604453e-01\n3   1988    91393948         1.706992e+08  5.354094e-01\n4   1992   104372208         1.769542e+08  5.898262e-01\n5   1996    96204092         1.836282e+08  5.239070e-01\n6   2000   105392088         1.912131e+08  5.511762e-01\n7   2004   122121864         1.993528e+08  6.125915e-01\n8   2008   131153400         2.081971e+08  6.299484e-01\n9   2012   128846233         2.171725e+08  5.932898e-01\n10  2016   136474612         2.258951e+08  6.041504e-01",
      "text/html": "<div>\n<style scoped>\n    .dataframe tbody tr th:only-of-type {\n        vertical-align: middle;\n    }\n\n    .dataframe tbody tr th {\n        vertical-align: top;\n    }\n\n    .dataframe thead th {\n        text-align: right;\n    }\n</style>\n<table border=\"1\" class=\"dataframe\">\n  <thead>\n    <tr style=\"text-align: right;\">\n      <th></th>\n      <th>year</th>\n      <th>totalvotes</th>\n      <th>Eligible_voting_pop</th>\n      <th>perc</th>\n    </tr>\n  </thead>\n  <tbody>\n    <tr>\n      <th>0</th>\n      <td>1976</td>\n      <td>81432514</td>\n      <td>1.000000e-50</td>\n      <td>8.143251e+57</td>\n    </tr>\n    <tr>\n      <th>1</th>\n      <td>1980</td>\n      <td>86322962</td>\n      <td>1.574318e+08</td>\n      <td>5.483196e-01</td>\n    </tr>\n    <tr>\n      <th>2</th>\n      <td>1984</td>\n      <td>92443573</td>\n      <td>1.649467e+08</td>\n      <td>5.604453e-01</td>\n    </tr>\n    <tr>\n      <th>3</th>\n      <td>1988</td>\n      <td>91393948</td>\n      <td>1.706992e+08</td>\n      <td>5.354094e-01</td>\n    </tr>\n    <tr>\n      <th>4</th>\n      <td>1992</td>\n      <td>104372208</td>\n      <td>1.769542e+08</td>\n      <td>5.898262e-01</td>\n    </tr>\n    <tr>\n      <th>5</th>\n      <td>1996</td>\n      <td>96204092</td>\n      <td>1.836282e+08</td>\n      <td>5.239070e-01</td>\n    </tr>\n    <tr>\n      <th>6</th>\n      <td>2000</td>\n      <td>105392088</td>\n      <td>1.912131e+08</td>\n      <td>5.511762e-01</td>\n    </tr>\n    <tr>\n      <th>7</th>\n      <td>2004</td>\n      <td>122121864</td>\n      <td>1.993528e+08</td>\n      <td>6.125915e-01</td>\n    </tr>\n    <tr>\n      <th>8</th>\n      <td>2008</td>\n      <td>131153400</td>\n      <td>2.081971e+08</td>\n      <td>6.299484e-01</td>\n    </tr>\n    <tr>\n      <th>9</th>\n      <td>2012</td>\n      <td>128846233</td>\n      <td>2.171725e+08</td>\n      <td>5.932898e-01</td>\n    </tr>\n    <tr>\n      <th>10</th>\n      <td>2016</td>\n      <td>136474612</td>\n      <td>2.258951e+08</td>\n      <td>6.041504e-01</td>\n    </tr>\n  </tbody>\n</table>\n</div>"
     },
     "metadata": {},
     "execution_count": 221
    }
   ],
   "source": [
    "turnout_votes = final_working_df[[\"year\", \"totalvotes\"]]\n",
    "turnout_eligible = final_working_df[[\"year\", \"Eligible_voting_pop\"]]\n",
    "\n",
    "turnout_votes.drop_duplicates(inplace=True)\n",
    "#turnout_votes\n",
    "\n",
    "turnout_eligible.drop_duplicates(inplace=True)\n",
    "#turnout_eligible\n",
    "\n",
    "turnout_votes = turnout_votes.groupby(\"year\").sum()\n",
    "#turnout_votes\n",
    "\n",
    "turnout_eligible = turnout_eligible.groupby(\"year\").sum().reset_index()\n",
    "\n",
    "turnout = turnout_votes.merge(turnout_eligible, how = \"left\", on=\"year\")\n",
    "turnout\n",
    "\n",
    "turnout[\"perc\"] = turnout[\"totalvotes\"]/ turnout[\"Eligible_voting_pop\"] \n",
    "turnout"
   ]
  },
  {
   "cell_type": "code",
   "execution_count": null,
   "metadata": {},
   "outputs": [],
   "source": []
  }
 ],
 "metadata": {
  "language_info": {
   "codemirror_mode": {
    "name": "ipython",
    "version": 3
   },
   "file_extension": ".py",
   "mimetype": "text/x-python",
   "name": "python",
   "nbconvert_exporter": "python",
   "pygments_lexer": "ipython3",
   "version": "3.7.6-final"
  },
  "orig_nbformat": 2,
  "kernelspec": {
   "name": "python361064bitpythondataconda702a049063da4b8fb25107aa449393fc",
   "display_name": "Python 3.6.10 64-bit ('PythonData': conda)"
  }
 },
 "nbformat": 4,
 "nbformat_minor": 2
}