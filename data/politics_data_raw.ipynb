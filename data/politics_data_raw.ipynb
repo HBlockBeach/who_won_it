{
 "cells": [
  {
   "cell_type": "code",
   "execution_count": 259,
   "metadata": {},
   "outputs": [],
   "source": [
    "#import dependencies\n",
    "\n",
    "import pandas as pd"
   ]
  },
  {
   "cell_type": "code",
   "execution_count": 260,
   "metadata": {},
   "outputs": [],
   "source": [
    "#read in csvs\n",
    "\n",
    "electiondata = pd.read_csv(\"1976-2016-president.csv\")\n",
    "rate1 = pd.read_csv(\"1980-2014 November General Election - Turnout Rates.csv\")\n",
    "rate2 = pd.read_csv(\"2016 November General Election - Turnout Rates.csv\")\n",
    "electoralvotes = pd.read_csv(\"Available Electoral votes .csv\")"
   ]
  },
  {
   "cell_type": "code",
   "execution_count": 261,
   "metadata": {},
   "outputs": [],
   "source": [
    "####pull party info for normalization\n",
    "\n",
    "\n",
    "#parties = electiondata[[\"year\",\"state\",\"candidate\", \"party\"]]\n",
    "#parties.drop_duplicates(inplace=True)\n",
    "\n",
    "\n",
    "#parties.to_csv(\"allparties.csv\", index=False)\n",
    "#parties"
   ]
  },
  {
   "cell_type": "code",
   "execution_count": 262,
   "metadata": {},
   "outputs": [],
   "source": [
    "#clean up voting data \n",
    "\n",
    "#file one\n",
    "rate1.rename(columns={\"Unnamed: 0\": \"year\", \"Denominators\" : \"Eligible_voting_pop\"}, inplace= True)\n",
    "voting_data_1 = rate1[[\"year\", \"State\", \"Eligible_voting_pop\"]]\n",
    "voting_data_1 = voting_data_1.drop(voting_data_1.index[0])\n",
    "\n",
    "#file two\n",
    "rate2.rename(columns={\"Denominators\" : \"Eligible_voting_pop\"}, inplace= True)\n",
    "rate2[\"year\"] = '2016'\n",
    "voting_data_2 = rate2[[\"year\", \"State\", \"Eligible_voting_pop\"]]\n",
    "voting_data_2 = voting_data_2.drop(voting_data_2.index[0])"
   ]
  },
  {
   "cell_type": "code",
   "execution_count": 263,
   "metadata": {},
   "outputs": [],
   "source": [
    "#merge dataframes\n",
    "\n",
    "total_voting = voting_data_2.append(voting_data_1)"
   ]
  },
  {
   "cell_type": "code",
   "execution_count": 264,
   "metadata": {},
   "outputs": [],
   "source": [
    "#check dtypes on dataframes\n",
    "\n",
    "#total_voting.dtypes\n",
    "    #year is object\n",
    "\n",
    "#electiondata.dtypes\n",
    "    #year is int64"
   ]
  },
  {
   "cell_type": "code",
   "execution_count": 265,
   "metadata": {},
   "outputs": [],
   "source": [
    "#convert year to int for merge\n",
    "\n",
    "total_voting['year'] = total_voting.year.astype(str).astype(int)"
   ]
  },
  {
   "cell_type": "code",
   "execution_count": 266,
   "metadata": {},
   "outputs": [],
   "source": [
    "#merge dataframes \n",
    "\n",
    "merged_df = electiondata.merge(total_voting, how='left', left_on=['state','year'], right_on=[\"State\",\"year\"])\n"
   ]
  },
  {
   "cell_type": "code",
   "execution_count": 267,
   "metadata": {},
   "outputs": [],
   "source": [
    "#merge electoral college votes dataframe and drop columns\n",
    "\n",
    "working_df = merged_df.merge(electoralvotes, how='left', left_on=['state','year'], right_on=[\"State\",\"Year\"])\n",
    "final_working_df = working_df.drop(['state_po', 'state_fips', \"state_cen\", \"state_ic\", \"office\", \"version\", \"notes\", \"State ID\", \"State_x\",\"State_y\", \"Year\", \"writein\"], axis=1)\n"
   ]
  },
  {
   "cell_type": "code",
   "execution_count": 268,
   "metadata": {
    "tags": [
     "outputPrepend",
     "outputPrepend",
     "outputPrepend",
     "outputPrepend"
    ]
   },
   "outputs": [],
   "source": [
    "#create key for merge and man\n",
    "final_working_df[\"new\"] = final_working_df[\"candidate\"] + final_working_df[\"year\"].astype(str)\n",
    "\n",
    "final_working_df.replace(\"Mitt, Romney\", \"Romney, Mitt\", inplace=True)\n",
    "final_working_df.replace(\"Hedges, Jim\", \"Hedges, James\", inplace=True)\n",
    "final_working_df.replace(\"Haylard, Helen\", \"Halyard, Helen\", inplace=True)\n",
    "final_working_df.replace(\"Stevens, Thomas Robert \"\"Tom\"\"\", \"Stevens, Thomas R.\", inplace=True)\n",
    "final_working_df.replace(\"White, Jerry\", \"White, Jerome \"\"Jerry\"\"\", inplace=True)\n",
    "\n",
    "\n",
    "final_working_df[\"candidate\"] = final_working_df['candidate'].fillna(\"unknown\")\n",
    "final_working_df[\"party\"] = final_working_df['party'].fillna(\"unknown\")\n",
    "final_working_df[\"Eligible_voting_pop\"] = final_working_df[\"Eligible_voting_pop\"].fillna(.00000000000000000000000000000000000000000000000001)\n",
    "\n",
    "final_working_df[\"Eligible_voting_pop\"] = final_working_df[\"Eligible_voting_pop\"].replace({'\\$': '', ',': ''}, regex=True)\n",
    "final_working_df[\"Eligible_voting_pop\"] = final_working_df[\"Eligible_voting_pop\"].astype(str).astype(float).round(0)"
   ]
  },
  {
   "cell_type": "code",
   "execution_count": 269,
   "metadata": {},
   "outputs": [],
   "source": [
    "#read in manipulated party csv data\n",
    "\n",
    "allparties = pd.read_csv(\"allparties.csv\")\n",
    "\n",
    "#merge all parties with final working for normalized party info \n",
    "final_working_df = final_working_df.merge(allparties,how= \"left\", left_on= [\"candidate\", \"state\", \"year\"], right_on=[\"candidate\", \"state\", \"year\"])\n"
   ]
  },
  {
   "cell_type": "code",
   "execution_count": 270,
   "metadata": {},
   "outputs": [],
   "source": [
    "###TROUBLESHOOT CELL IGNORE!!!!\n",
    "\n",
    "#final_working_df = final_working_df.loc[final_working_df[\"year\"] == 2000]\n",
    "#final_working_df = final_working_df.loc[final_working_df[\"state\"] == \"Oregon\"]\n",
    "#final_working_df = final_working_df.loc[final_working_df[\"candidate\"] == 'Other']\n",
    "\n",
    "#final_working_df"
   ]
  },
  {
   "cell_type": "code",
   "execution_count": 271,
   "metadata": {},
   "outputs": [],
   "source": [
    "# fill join column for search and replace\n",
    "\n",
    "final_working_df[\"party_y\"] = final_working_df['party_y'].fillna(0)\n",
    "\n",
    "for row in final_working_df[\"party_y\"]:\n",
    "    final_working_df.loc[final_working_df[\"party_y\"] != 0, [\"party_x\"]] = final_working_df[\"party_y\"]"
   ]
  },
  {
   "cell_type": "code",
   "execution_count": 272,
   "metadata": {},
   "outputs": [],
   "source": [
    "#rename and drop\n",
    "\n",
    "final_working_df.rename(columns={\"party_x\" : \"party\"}, inplace=True)\n",
    "final_working_df = final_working_df.drop(\"party_y\", axis= 1)\n",
    "final_working_df = final_working_df.drop_duplicates()"
   ]
  },
  {
   "cell_type": "code",
   "execution_count": 273,
   "metadata": {},
   "outputs": [],
   "source": [
    "final_working_df = final_working_df.groupby([\"year\", \"state\", \"candidate\", \"party\", \"totalvotes\", \"Eligible_voting_pop\", \"electoralvotes\", \"new\"]).sum().reset_index()"
   ]
  },
  {
   "cell_type": "code",
   "execution_count": 274,
   "metadata": {},
   "outputs": [],
   "source": [
    "###TROUBLESHOOT CELL IGNORE!!!!\n",
    "\n",
    "#final_working_df = final_working_df.loc[final_working_df[\"year\"] == 2016]\n",
    "#final_working_df = final_working_df.loc[final_working_df[\"state\"] == \"Oregon\"]\n",
    "#final_working_df"
   ]
  },
  {
   "cell_type": "code",
   "execution_count": 275,
   "metadata": {},
   "outputs": [],
   "source": [
    "#find top candidates by popular vote\n",
    "\n",
    "find_top_candidates_df = final_working_df[[\"year\",\"candidate\", \"candidatevotes\"]]\n",
    "\n",
    "find_top_candidates_df = find_top_candidates_df.groupby([\"candidate\", \"year\"]).sum().reset_index()\n",
    "\n",
    "find_top_candidates_df= find_top_candidates_df.sort_values(by=[\"year\", \"candidatevotes\"], ascending=False).groupby(\"year\").head(2)\n",
    "\n",
    "top_candidates_df = pd.DataFrame(find_top_candidates_df)\n",
    "\n",
    "#create key for merge\n",
    "top_candidates_df[\"new\"] = top_candidates_df[\"candidate\"] + top_candidates_df[\"year\"].astype(str)\n",
    "\n",
    "#create dataframe with only key for merge\n",
    "#loop through to deduplicate \n",
    "only_winners = top_candidates_df[[\"new\"]]\n",
    "\n",
    "toppy = []\n",
    "for row in only_winners[\"new\"]:\n",
    "    if row not in toppy:\n",
    "        toppy.append(row)\n",
    "\n",
    "toppy=pd.DataFrame(toppy)"
   ]
  },
  {
   "cell_type": "code",
   "execution_count": 276,
   "metadata": {},
   "outputs": [
    {
     "output_type": "execute_result",
     "data": {
      "text/plain": "      year    state                candidate                party  totalvotes  \\\n0     1976  Alabama  Bubar, Benjamin \"\"Ben\"\"          prohibition     1182850   \n1     1976  Alabama            Carter, Jimmy             democrat     1182850   \n2     1976  Alabama             Ford, Gerald           republican     1182850   \n3     1976  Alabama                Hall, Gus  communist party use     1182850   \n4     1976  Alabama          Macbride, Roger          libertarian     1182850   \n...    ...      ...                      ...                  ...         ...   \n3361  2016  Wyoming       Castle, Darrell L.   constitution party      258788   \n3362  2016  Wyoming         Clinton, Hillary             democrat      258788   \n3363  2016  Wyoming            Johnson, Gary          libertarian      258788   \n3364  2016  Wyoming                Over Vote              unknown      258788   \n3365  2016  Wyoming         Trump, Donald J.           republican      258788   \n\n      Eligible_voting_pop  electoralvotes                          new  \\\n0                     0.0             9.0  Bubar, Benjamin \"\"Ben\"\"1976   \n1                     0.0             9.0            Carter, Jimmy1976   \n2                     0.0             9.0             Ford, Gerald1976   \n3                     0.0             9.0                Hall, Gus1976   \n4                     0.0             9.0          Macbride, Roger1976   \n...                   ...             ...                          ...   \n3361             429682.0             3.0       Castle, Darrell L.2016   \n3362             429682.0             3.0         Clinton, Hillary2016   \n3363             429682.0             3.0            Johnson, Gary2016   \n3364             429682.0             3.0                Over Vote2016   \n3365             429682.0             3.0         Trump, Donald J.2016   \n\n      candidatevotes                     0  \n0               6669                     0  \n1             659170     Carter, Jimmy1976  \n2             504070      Ford, Gerald1976  \n3               1954                     0  \n4               1481                     0  \n...              ...                   ...  \n3361            2042                     0  \n3362           55973  Clinton, Hillary2016  \n3363           13287                     0  \n3364             278                     0  \n3365          174419  Trump, Donald J.2016  \n\n[3366 rows x 10 columns]",
      "text/html": "<div>\n<style scoped>\n    .dataframe tbody tr th:only-of-type {\n        vertical-align: middle;\n    }\n\n    .dataframe tbody tr th {\n        vertical-align: top;\n    }\n\n    .dataframe thead th {\n        text-align: right;\n    }\n</style>\n<table border=\"1\" class=\"dataframe\">\n  <thead>\n    <tr style=\"text-align: right;\">\n      <th></th>\n      <th>year</th>\n      <th>state</th>\n      <th>candidate</th>\n      <th>party</th>\n      <th>totalvotes</th>\n      <th>Eligible_voting_pop</th>\n      <th>electoralvotes</th>\n      <th>new</th>\n      <th>candidatevotes</th>\n      <th>0</th>\n    </tr>\n  </thead>\n  <tbody>\n    <tr>\n      <th>0</th>\n      <td>1976</td>\n      <td>Alabama</td>\n      <td>Bubar, Benjamin \"\"Ben\"\"</td>\n      <td>prohibition</td>\n      <td>1182850</td>\n      <td>0.0</td>\n      <td>9.0</td>\n      <td>Bubar, Benjamin \"\"Ben\"\"1976</td>\n      <td>6669</td>\n      <td>0</td>\n    </tr>\n    <tr>\n      <th>1</th>\n      <td>1976</td>\n      <td>Alabama</td>\n      <td>Carter, Jimmy</td>\n      <td>democrat</td>\n      <td>1182850</td>\n      <td>0.0</td>\n      <td>9.0</td>\n      <td>Carter, Jimmy1976</td>\n      <td>659170</td>\n      <td>Carter, Jimmy1976</td>\n    </tr>\n    <tr>\n      <th>2</th>\n      <td>1976</td>\n      <td>Alabama</td>\n      <td>Ford, Gerald</td>\n      <td>republican</td>\n      <td>1182850</td>\n      <td>0.0</td>\n      <td>9.0</td>\n      <td>Ford, Gerald1976</td>\n      <td>504070</td>\n      <td>Ford, Gerald1976</td>\n    </tr>\n    <tr>\n      <th>3</th>\n      <td>1976</td>\n      <td>Alabama</td>\n      <td>Hall, Gus</td>\n      <td>communist party use</td>\n      <td>1182850</td>\n      <td>0.0</td>\n      <td>9.0</td>\n      <td>Hall, Gus1976</td>\n      <td>1954</td>\n      <td>0</td>\n    </tr>\n    <tr>\n      <th>4</th>\n      <td>1976</td>\n      <td>Alabama</td>\n      <td>Macbride, Roger</td>\n      <td>libertarian</td>\n      <td>1182850</td>\n      <td>0.0</td>\n      <td>9.0</td>\n      <td>Macbride, Roger1976</td>\n      <td>1481</td>\n      <td>0</td>\n    </tr>\n    <tr>\n      <th>...</th>\n      <td>...</td>\n      <td>...</td>\n      <td>...</td>\n      <td>...</td>\n      <td>...</td>\n      <td>...</td>\n      <td>...</td>\n      <td>...</td>\n      <td>...</td>\n      <td>...</td>\n    </tr>\n    <tr>\n      <th>3361</th>\n      <td>2016</td>\n      <td>Wyoming</td>\n      <td>Castle, Darrell L.</td>\n      <td>constitution party</td>\n      <td>258788</td>\n      <td>429682.0</td>\n      <td>3.0</td>\n      <td>Castle, Darrell L.2016</td>\n      <td>2042</td>\n      <td>0</td>\n    </tr>\n    <tr>\n      <th>3362</th>\n      <td>2016</td>\n      <td>Wyoming</td>\n      <td>Clinton, Hillary</td>\n      <td>democrat</td>\n      <td>258788</td>\n      <td>429682.0</td>\n      <td>3.0</td>\n      <td>Clinton, Hillary2016</td>\n      <td>55973</td>\n      <td>Clinton, Hillary2016</td>\n    </tr>\n    <tr>\n      <th>3363</th>\n      <td>2016</td>\n      <td>Wyoming</td>\n      <td>Johnson, Gary</td>\n      <td>libertarian</td>\n      <td>258788</td>\n      <td>429682.0</td>\n      <td>3.0</td>\n      <td>Johnson, Gary2016</td>\n      <td>13287</td>\n      <td>0</td>\n    </tr>\n    <tr>\n      <th>3364</th>\n      <td>2016</td>\n      <td>Wyoming</td>\n      <td>Over Vote</td>\n      <td>unknown</td>\n      <td>258788</td>\n      <td>429682.0</td>\n      <td>3.0</td>\n      <td>Over Vote2016</td>\n      <td>278</td>\n      <td>0</td>\n    </tr>\n    <tr>\n      <th>3365</th>\n      <td>2016</td>\n      <td>Wyoming</td>\n      <td>Trump, Donald J.</td>\n      <td>republican</td>\n      <td>258788</td>\n      <td>429682.0</td>\n      <td>3.0</td>\n      <td>Trump, Donald J.2016</td>\n      <td>174419</td>\n      <td>Trump, Donald J.2016</td>\n    </tr>\n  </tbody>\n</table>\n<p>3366 rows × 10 columns</p>\n</div>"
     },
     "metadata": {},
     "execution_count": 276
    }
   ],
   "source": [
    "#merge to create column for flag\n",
    "\n",
    "final_working_df = final_working_df.merge(toppy, how=\"left\", left_on= \"new\", right_on= 0)\n",
    "\n",
    "#fill na in new columnt with 0\n",
    "final_working_df[0] = final_working_df[0].fillna(0)\n",
    "\n",
    "\n",
    "final_working_df"
   ]
  },
  {
   "cell_type": "code",
   "execution_count": 277,
   "metadata": {
    "tags": [
     "outputPrepend",
     "outputPrepend",
     "outputPrepend",
     "outputPrepend",
     "outputPrepend",
     "outputPrepend"
    ]
   },
   "outputs": [
    {
     "output_type": "execute_result",
     "data": {
      "text/plain": "      year    state         candidate                party  totalvotes  \\\n0     1976  Alabama             Other          prohibition     1182850   \n1     1976  Alabama     Carter, Jimmy             democrat     1182850   \n2     1976  Alabama      Ford, Gerald           republican     1182850   \n3     1976  Alabama             Other  communist party use     1182850   \n4     1976  Alabama             Other          libertarian     1182850   \n...    ...      ...               ...                  ...         ...   \n3361  2016  Wyoming             Other   constitution party      258788   \n3362  2016  Wyoming  Clinton, Hillary             democrat      258788   \n3363  2016  Wyoming             Other          libertarian      258788   \n3364  2016  Wyoming             Other              unknown      258788   \n3365  2016  Wyoming  Trump, Donald J.           republican      258788   \n\n      Eligible_voting_pop  electoralvotes                          new  \\\n0                     0.0             9.0  Bubar, Benjamin \"\"Ben\"\"1976   \n1                     0.0             9.0            Carter, Jimmy1976   \n2                     0.0             9.0             Ford, Gerald1976   \n3                     0.0             9.0                Hall, Gus1976   \n4                     0.0             9.0          Macbride, Roger1976   \n...                   ...             ...                          ...   \n3361             429682.0             3.0       Castle, Darrell L.2016   \n3362             429682.0             3.0         Clinton, Hillary2016   \n3363             429682.0             3.0            Johnson, Gary2016   \n3364             429682.0             3.0                Over Vote2016   \n3365             429682.0             3.0         Trump, Donald J.2016   \n\n      candidatevotes  \n0               6669  \n1             659170  \n2             504070  \n3               1954  \n4               1481  \n...              ...  \n3361            2042  \n3362           55973  \n3363           13287  \n3364             278  \n3365          174419  \n\n[3366 rows x 9 columns]",
      "text/html": "<div>\n<style scoped>\n    .dataframe tbody tr th:only-of-type {\n        vertical-align: middle;\n    }\n\n    .dataframe tbody tr th {\n        vertical-align: top;\n    }\n\n    .dataframe thead th {\n        text-align: right;\n    }\n</style>\n<table border=\"1\" class=\"dataframe\">\n  <thead>\n    <tr style=\"text-align: right;\">\n      <th></th>\n      <th>year</th>\n      <th>state</th>\n      <th>candidate</th>\n      <th>party</th>\n      <th>totalvotes</th>\n      <th>Eligible_voting_pop</th>\n      <th>electoralvotes</th>\n      <th>new</th>\n      <th>candidatevotes</th>\n    </tr>\n  </thead>\n  <tbody>\n    <tr>\n      <th>0</th>\n      <td>1976</td>\n      <td>Alabama</td>\n      <td>Other</td>\n      <td>prohibition</td>\n      <td>1182850</td>\n      <td>0.0</td>\n      <td>9.0</td>\n      <td>Bubar, Benjamin \"\"Ben\"\"1976</td>\n      <td>6669</td>\n    </tr>\n    <tr>\n      <th>1</th>\n      <td>1976</td>\n      <td>Alabama</td>\n      <td>Carter, Jimmy</td>\n      <td>democrat</td>\n      <td>1182850</td>\n      <td>0.0</td>\n      <td>9.0</td>\n      <td>Carter, Jimmy1976</td>\n      <td>659170</td>\n    </tr>\n    <tr>\n      <th>2</th>\n      <td>1976</td>\n      <td>Alabama</td>\n      <td>Ford, Gerald</td>\n      <td>republican</td>\n      <td>1182850</td>\n      <td>0.0</td>\n      <td>9.0</td>\n      <td>Ford, Gerald1976</td>\n      <td>504070</td>\n    </tr>\n    <tr>\n      <th>3</th>\n      <td>1976</td>\n      <td>Alabama</td>\n      <td>Other</td>\n      <td>communist party use</td>\n      <td>1182850</td>\n      <td>0.0</td>\n      <td>9.0</td>\n      <td>Hall, Gus1976</td>\n      <td>1954</td>\n    </tr>\n    <tr>\n      <th>4</th>\n      <td>1976</td>\n      <td>Alabama</td>\n      <td>Other</td>\n      <td>libertarian</td>\n      <td>1182850</td>\n      <td>0.0</td>\n      <td>9.0</td>\n      <td>Macbride, Roger1976</td>\n      <td>1481</td>\n    </tr>\n    <tr>\n      <th>...</th>\n      <td>...</td>\n      <td>...</td>\n      <td>...</td>\n      <td>...</td>\n      <td>...</td>\n      <td>...</td>\n      <td>...</td>\n      <td>...</td>\n      <td>...</td>\n    </tr>\n    <tr>\n      <th>3361</th>\n      <td>2016</td>\n      <td>Wyoming</td>\n      <td>Other</td>\n      <td>constitution party</td>\n      <td>258788</td>\n      <td>429682.0</td>\n      <td>3.0</td>\n      <td>Castle, Darrell L.2016</td>\n      <td>2042</td>\n    </tr>\n    <tr>\n      <th>3362</th>\n      <td>2016</td>\n      <td>Wyoming</td>\n      <td>Clinton, Hillary</td>\n      <td>democrat</td>\n      <td>258788</td>\n      <td>429682.0</td>\n      <td>3.0</td>\n      <td>Clinton, Hillary2016</td>\n      <td>55973</td>\n    </tr>\n    <tr>\n      <th>3363</th>\n      <td>2016</td>\n      <td>Wyoming</td>\n      <td>Other</td>\n      <td>libertarian</td>\n      <td>258788</td>\n      <td>429682.0</td>\n      <td>3.0</td>\n      <td>Johnson, Gary2016</td>\n      <td>13287</td>\n    </tr>\n    <tr>\n      <th>3364</th>\n      <td>2016</td>\n      <td>Wyoming</td>\n      <td>Other</td>\n      <td>unknown</td>\n      <td>258788</td>\n      <td>429682.0</td>\n      <td>3.0</td>\n      <td>Over Vote2016</td>\n      <td>278</td>\n    </tr>\n    <tr>\n      <th>3365</th>\n      <td>2016</td>\n      <td>Wyoming</td>\n      <td>Trump, Donald J.</td>\n      <td>republican</td>\n      <td>258788</td>\n      <td>429682.0</td>\n      <td>3.0</td>\n      <td>Trump, Donald J.2016</td>\n      <td>174419</td>\n    </tr>\n  </tbody>\n</table>\n<p>3366 rows × 9 columns</p>\n</div>"
     },
     "metadata": {},
     "execution_count": 277
    }
   ],
   "source": [
    "#using flag, change candidate name to other if not in top 2\n",
    "\n",
    "final_working_df.loc[final_working_df[0] == 0, [\"candidate\"]] = 'Other'\n",
    "\n",
    "#drop flag column\n",
    "final_working_df = final_working_df.drop([0], axis=1)\n",
    "\n",
    "final_working_df"
   ]
  },
  {
   "cell_type": "code",
   "execution_count": 278,
   "metadata": {},
   "outputs": [
    {
     "output_type": "execute_result",
     "data": {
      "text/plain": "      year    state         candidate  candidatevotes  \\\n0     1976  Alabama             Other            6669   \n1     1976  Alabama     Carter, Jimmy          659170   \n2     1976  Alabama      Ford, Gerald          504070   \n3     1976  Alabama             Other            1954   \n4     1976  Alabama             Other            1481   \n...    ...      ...               ...             ...   \n3361  2016  Wyoming             Other            2042   \n3362  2016  Wyoming  Clinton, Hillary           55973   \n3363  2016  Wyoming             Other           13287   \n3364  2016  Wyoming             Other             278   \n3365  2016  Wyoming  Trump, Donald J.          174419   \n\n                              new  \n0     Bubar, Benjamin \"\"Ben\"\"1976  \n1               Carter, Jimmy1976  \n2                Ford, Gerald1976  \n3                   Hall, Gus1976  \n4             Macbride, Roger1976  \n...                           ...  \n3361       Castle, Darrell L.2016  \n3362         Clinton, Hillary2016  \n3363            Johnson, Gary2016  \n3364                Over Vote2016  \n3365         Trump, Donald J.2016  \n\n[3366 rows x 5 columns]",
      "text/html": "<div>\n<style scoped>\n    .dataframe tbody tr th:only-of-type {\n        vertical-align: middle;\n    }\n\n    .dataframe tbody tr th {\n        vertical-align: top;\n    }\n\n    .dataframe thead th {\n        text-align: right;\n    }\n</style>\n<table border=\"1\" class=\"dataframe\">\n  <thead>\n    <tr style=\"text-align: right;\">\n      <th></th>\n      <th>year</th>\n      <th>state</th>\n      <th>candidate</th>\n      <th>candidatevotes</th>\n      <th>new</th>\n    </tr>\n  </thead>\n  <tbody>\n    <tr>\n      <th>0</th>\n      <td>1976</td>\n      <td>Alabama</td>\n      <td>Other</td>\n      <td>6669</td>\n      <td>Bubar, Benjamin \"\"Ben\"\"1976</td>\n    </tr>\n    <tr>\n      <th>1</th>\n      <td>1976</td>\n      <td>Alabama</td>\n      <td>Carter, Jimmy</td>\n      <td>659170</td>\n      <td>Carter, Jimmy1976</td>\n    </tr>\n    <tr>\n      <th>2</th>\n      <td>1976</td>\n      <td>Alabama</td>\n      <td>Ford, Gerald</td>\n      <td>504070</td>\n      <td>Ford, Gerald1976</td>\n    </tr>\n    <tr>\n      <th>3</th>\n      <td>1976</td>\n      <td>Alabama</td>\n      <td>Other</td>\n      <td>1954</td>\n      <td>Hall, Gus1976</td>\n    </tr>\n    <tr>\n      <th>4</th>\n      <td>1976</td>\n      <td>Alabama</td>\n      <td>Other</td>\n      <td>1481</td>\n      <td>Macbride, Roger1976</td>\n    </tr>\n    <tr>\n      <th>...</th>\n      <td>...</td>\n      <td>...</td>\n      <td>...</td>\n      <td>...</td>\n      <td>...</td>\n    </tr>\n    <tr>\n      <th>3361</th>\n      <td>2016</td>\n      <td>Wyoming</td>\n      <td>Other</td>\n      <td>2042</td>\n      <td>Castle, Darrell L.2016</td>\n    </tr>\n    <tr>\n      <th>3362</th>\n      <td>2016</td>\n      <td>Wyoming</td>\n      <td>Clinton, Hillary</td>\n      <td>55973</td>\n      <td>Clinton, Hillary2016</td>\n    </tr>\n    <tr>\n      <th>3363</th>\n      <td>2016</td>\n      <td>Wyoming</td>\n      <td>Other</td>\n      <td>13287</td>\n      <td>Johnson, Gary2016</td>\n    </tr>\n    <tr>\n      <th>3364</th>\n      <td>2016</td>\n      <td>Wyoming</td>\n      <td>Other</td>\n      <td>278</td>\n      <td>Over Vote2016</td>\n    </tr>\n    <tr>\n      <th>3365</th>\n      <td>2016</td>\n      <td>Wyoming</td>\n      <td>Trump, Donald J.</td>\n      <td>174419</td>\n      <td>Trump, Donald J.2016</td>\n    </tr>\n  </tbody>\n</table>\n<p>3366 rows × 5 columns</p>\n</div>"
     },
     "metadata": {},
     "execution_count": 278
    }
   ],
   "source": [
    "find_top_candidates_state_df = final_working_df[[\"year\",\"state\",\"candidate\", \"candidatevotes\", \"new\"]]\n",
    "\n",
    "find_top_candidates_state_df"
   ]
  },
  {
   "cell_type": "code",
   "execution_count": 279,
   "metadata": {},
   "outputs": [
    {
     "output_type": "execute_result",
     "data": {
      "text/plain": "             candidate  year          state  candidatevotes  \\\n200      Carter, Jimmy  1976        Alabama          659170   \n551       Ford, Gerald  1976         Alaska           71555   \n552       Ford, Gerald  1976        Arizona          418642   \n203      Carter, Jimmy  1976       Arkansas          498604   \n554       Ford, Gerald  1976     California         3882244   \n...                ...   ...            ...             ...   \n445   Clinton, Hillary  2016       Virginia         1981473   \n446   Clinton, Hillary  2016     Washington         1742718   \n1627  Trump, Donald J.  2016  West Virginia          489371   \n1628  Trump, Donald J.  2016      Wisconsin         1405284   \n1629  Trump, Donald J.  2016        Wyoming          174419   \n\n                       new  \n200      Carter, Jimmy1976  \n551       Ford, Gerald1976  \n552       Ford, Gerald1976  \n203      Carter, Jimmy1976  \n554       Ford, Gerald1976  \n...                    ...  \n445   Clinton, Hillary2016  \n446   Clinton, Hillary2016  \n1627  Trump, Donald J.2016  \n1628  Trump, Donald J.2016  \n1629  Trump, Donald J.2016  \n\n[550 rows x 5 columns]",
      "text/html": "<div>\n<style scoped>\n    .dataframe tbody tr th:only-of-type {\n        vertical-align: middle;\n    }\n\n    .dataframe tbody tr th {\n        vertical-align: top;\n    }\n\n    .dataframe thead th {\n        text-align: right;\n    }\n</style>\n<table border=\"1\" class=\"dataframe\">\n  <thead>\n    <tr style=\"text-align: right;\">\n      <th></th>\n      <th>candidate</th>\n      <th>year</th>\n      <th>state</th>\n      <th>candidatevotes</th>\n      <th>new</th>\n    </tr>\n  </thead>\n  <tbody>\n    <tr>\n      <th>200</th>\n      <td>Carter, Jimmy</td>\n      <td>1976</td>\n      <td>Alabama</td>\n      <td>659170</td>\n      <td>Carter, Jimmy1976</td>\n    </tr>\n    <tr>\n      <th>551</th>\n      <td>Ford, Gerald</td>\n      <td>1976</td>\n      <td>Alaska</td>\n      <td>71555</td>\n      <td>Ford, Gerald1976</td>\n    </tr>\n    <tr>\n      <th>552</th>\n      <td>Ford, Gerald</td>\n      <td>1976</td>\n      <td>Arizona</td>\n      <td>418642</td>\n      <td>Ford, Gerald1976</td>\n    </tr>\n    <tr>\n      <th>203</th>\n      <td>Carter, Jimmy</td>\n      <td>1976</td>\n      <td>Arkansas</td>\n      <td>498604</td>\n      <td>Carter, Jimmy1976</td>\n    </tr>\n    <tr>\n      <th>554</th>\n      <td>Ford, Gerald</td>\n      <td>1976</td>\n      <td>California</td>\n      <td>3882244</td>\n      <td>Ford, Gerald1976</td>\n    </tr>\n    <tr>\n      <th>...</th>\n      <td>...</td>\n      <td>...</td>\n      <td>...</td>\n      <td>...</td>\n      <td>...</td>\n    </tr>\n    <tr>\n      <th>445</th>\n      <td>Clinton, Hillary</td>\n      <td>2016</td>\n      <td>Virginia</td>\n      <td>1981473</td>\n      <td>Clinton, Hillary2016</td>\n    </tr>\n    <tr>\n      <th>446</th>\n      <td>Clinton, Hillary</td>\n      <td>2016</td>\n      <td>Washington</td>\n      <td>1742718</td>\n      <td>Clinton, Hillary2016</td>\n    </tr>\n    <tr>\n      <th>1627</th>\n      <td>Trump, Donald J.</td>\n      <td>2016</td>\n      <td>West Virginia</td>\n      <td>489371</td>\n      <td>Trump, Donald J.2016</td>\n    </tr>\n    <tr>\n      <th>1628</th>\n      <td>Trump, Donald J.</td>\n      <td>2016</td>\n      <td>Wisconsin</td>\n      <td>1405284</td>\n      <td>Trump, Donald J.2016</td>\n    </tr>\n    <tr>\n      <th>1629</th>\n      <td>Trump, Donald J.</td>\n      <td>2016</td>\n      <td>Wyoming</td>\n      <td>174419</td>\n      <td>Trump, Donald J.2016</td>\n    </tr>\n  </tbody>\n</table>\n<p>550 rows × 5 columns</p>\n</div>"
     },
     "metadata": {},
     "execution_count": 279
    }
   ],
   "source": [
    "#sum candidate votes\n",
    "\n",
    "find_top_candidates_state_df = find_top_candidates_state_df.groupby([\"candidate\", \"year\", \"state\"]).sum().reset_index()\n",
    "\n",
    "#sort to get top candidate\n",
    "find_top_candidates_state_df= find_top_candidates_state_df.sort_values(by=[ \"year\",\"candidatevotes\", \"state\"], ascending=False)\n",
    "find_top_candidates_state_df = find_top_candidates_state_df.sort_values([\"year\", \"state\"]).groupby([\"state\",\"year\"]).head(1)\n",
    "\n",
    "#create key for merge\n",
    "find_top_candidates_state_df[\"new\"] = find_top_candidates_state_df[\"candidate\"] + find_top_candidates_state_df[\"year\"].astype(str)\n",
    "\n",
    "find_top_candidates_state_df"
   ]
  },
  {
   "cell_type": "code",
   "execution_count": 280,
   "metadata": {},
   "outputs": [
    {
     "output_type": "execute_result",
     "data": {
      "text/plain": "      year    state         candidate                party  totalvotes  \\\n0     1976  Alabama             Other          prohibition     1182850   \n1     1976  Alabama     Carter, Jimmy             democrat     1182850   \n2     1976  Alabama      Ford, Gerald           republican     1182850   \n3     1976  Alabama             Other  communist party use     1182850   \n4     1976  Alabama             Other          libertarian     1182850   \n...    ...      ...               ...                  ...         ...   \n3361  2016  Wyoming             Other   constitution party      258788   \n3362  2016  Wyoming  Clinton, Hillary             democrat      258788   \n3363  2016  Wyoming             Other          libertarian      258788   \n3364  2016  Wyoming             Other              unknown      258788   \n3365  2016  Wyoming  Trump, Donald J.           republican      258788   \n\n      Eligible_voting_pop  electoralvotes  candidatevotes state_won_flag  \\\n0                     0.0             9.0            6669              0   \n1                     0.0             9.0          659170              1   \n2                     0.0             9.0          504070              0   \n3                     0.0             9.0            1954              0   \n4                     0.0             9.0            1481              0   \n...                   ...             ...             ...            ...   \n3361             429682.0             3.0            2042              0   \n3362             429682.0             3.0           55973              0   \n3363             429682.0             3.0           13287              0   \n3364             429682.0             3.0             278              0   \n3365             429682.0             3.0          174419              1   \n\n      percent_won  \n0        0.005638  \n1        0.557273  \n2        0.426149  \n3        0.001652  \n4        0.001252  \n...           ...  \n3361     0.007891  \n3362     0.216289  \n3363     0.051343  \n3364     0.001074  \n3365     0.673984  \n\n[3366 rows x 10 columns]",
      "text/html": "<div>\n<style scoped>\n    .dataframe tbody tr th:only-of-type {\n        vertical-align: middle;\n    }\n\n    .dataframe tbody tr th {\n        vertical-align: top;\n    }\n\n    .dataframe thead th {\n        text-align: right;\n    }\n</style>\n<table border=\"1\" class=\"dataframe\">\n  <thead>\n    <tr style=\"text-align: right;\">\n      <th></th>\n      <th>year</th>\n      <th>state</th>\n      <th>candidate</th>\n      <th>party</th>\n      <th>totalvotes</th>\n      <th>Eligible_voting_pop</th>\n      <th>electoralvotes</th>\n      <th>candidatevotes</th>\n      <th>state_won_flag</th>\n      <th>percent_won</th>\n    </tr>\n  </thead>\n  <tbody>\n    <tr>\n      <th>0</th>\n      <td>1976</td>\n      <td>Alabama</td>\n      <td>Other</td>\n      <td>prohibition</td>\n      <td>1182850</td>\n      <td>0.0</td>\n      <td>9.0</td>\n      <td>6669</td>\n      <td>0</td>\n      <td>0.005638</td>\n    </tr>\n    <tr>\n      <th>1</th>\n      <td>1976</td>\n      <td>Alabama</td>\n      <td>Carter, Jimmy</td>\n      <td>democrat</td>\n      <td>1182850</td>\n      <td>0.0</td>\n      <td>9.0</td>\n      <td>659170</td>\n      <td>1</td>\n      <td>0.557273</td>\n    </tr>\n    <tr>\n      <th>2</th>\n      <td>1976</td>\n      <td>Alabama</td>\n      <td>Ford, Gerald</td>\n      <td>republican</td>\n      <td>1182850</td>\n      <td>0.0</td>\n      <td>9.0</td>\n      <td>504070</td>\n      <td>0</td>\n      <td>0.426149</td>\n    </tr>\n    <tr>\n      <th>3</th>\n      <td>1976</td>\n      <td>Alabama</td>\n      <td>Other</td>\n      <td>communist party use</td>\n      <td>1182850</td>\n      <td>0.0</td>\n      <td>9.0</td>\n      <td>1954</td>\n      <td>0</td>\n      <td>0.001652</td>\n    </tr>\n    <tr>\n      <th>4</th>\n      <td>1976</td>\n      <td>Alabama</td>\n      <td>Other</td>\n      <td>libertarian</td>\n      <td>1182850</td>\n      <td>0.0</td>\n      <td>9.0</td>\n      <td>1481</td>\n      <td>0</td>\n      <td>0.001252</td>\n    </tr>\n    <tr>\n      <th>...</th>\n      <td>...</td>\n      <td>...</td>\n      <td>...</td>\n      <td>...</td>\n      <td>...</td>\n      <td>...</td>\n      <td>...</td>\n      <td>...</td>\n      <td>...</td>\n      <td>...</td>\n    </tr>\n    <tr>\n      <th>3361</th>\n      <td>2016</td>\n      <td>Wyoming</td>\n      <td>Other</td>\n      <td>constitution party</td>\n      <td>258788</td>\n      <td>429682.0</td>\n      <td>3.0</td>\n      <td>2042</td>\n      <td>0</td>\n      <td>0.007891</td>\n    </tr>\n    <tr>\n      <th>3362</th>\n      <td>2016</td>\n      <td>Wyoming</td>\n      <td>Clinton, Hillary</td>\n      <td>democrat</td>\n      <td>258788</td>\n      <td>429682.0</td>\n      <td>3.0</td>\n      <td>55973</td>\n      <td>0</td>\n      <td>0.216289</td>\n    </tr>\n    <tr>\n      <th>3363</th>\n      <td>2016</td>\n      <td>Wyoming</td>\n      <td>Other</td>\n      <td>libertarian</td>\n      <td>258788</td>\n      <td>429682.0</td>\n      <td>3.0</td>\n      <td>13287</td>\n      <td>0</td>\n      <td>0.051343</td>\n    </tr>\n    <tr>\n      <th>3364</th>\n      <td>2016</td>\n      <td>Wyoming</td>\n      <td>Other</td>\n      <td>unknown</td>\n      <td>258788</td>\n      <td>429682.0</td>\n      <td>3.0</td>\n      <td>278</td>\n      <td>0</td>\n      <td>0.001074</td>\n    </tr>\n    <tr>\n      <th>3365</th>\n      <td>2016</td>\n      <td>Wyoming</td>\n      <td>Trump, Donald J.</td>\n      <td>republican</td>\n      <td>258788</td>\n      <td>429682.0</td>\n      <td>3.0</td>\n      <td>174419</td>\n      <td>1</td>\n      <td>0.673984</td>\n    </tr>\n  </tbody>\n</table>\n<p>3366 rows × 10 columns</p>\n</div>"
     },
     "metadata": {},
     "execution_count": 280
    }
   ],
   "source": [
    "#merge dataframed for the state won flag\n",
    "\n",
    "state_winner_added = final_working_df.merge(find_top_candidates_state_df, how=\"left\", on= [\"new\", \"state\"], suffixes=('', 'drop'))\n",
    "\n",
    "#fill na in flag column for loc and change\n",
    "state_winner_added[\"candidatedrop\"] = state_winner_added[\"candidatedrop\"].fillna(0)\n",
    "\n",
    "#loc and change values\n",
    "state_winner_added.loc[state_winner_added[\"candidatedrop\"] != 0, [\"candidatedrop\"]] = '1'\n",
    "state_winner_added.loc[state_winner_added[\"candidatedrop\"] == 0, [\"candidatedrop\"]] = '0'\n",
    "\n",
    "#math for % won\n",
    "state_winner_added[\"percent_won\"] = state_winner_added[\"candidatevotes\"] / state_winner_added[\"totalvotes\"]\n",
    "\n",
    "#drop and rename columns\n",
    "state_winner_added = state_winner_added.drop([\"yeardrop\",  \"candidatevotesdrop\", \"new\"], axis=1).rename(columns={\"candidatedrop\": \"state_won_flag\"})\n",
    "\n",
    "final_df = state_winner_added\n",
    "\n",
    "#final_df = final_df.loc[final_df[\"candidate\"] == \"Clinton, Bill\"]\n",
    "#final_df = final_df.loc[final_df[\"state_won_flag\"] == '1']\n",
    "#final_df = final_df.loc[final_df[\"year\"] == 1992]\n",
    "final_df"
   ]
  },
  {
   "cell_type": "code",
   "execution_count": 281,
   "metadata": {},
   "outputs": [
    {
     "output_type": "execute_result",
     "data": {
      "text/plain": "    year          candidate  electoralvotes                    new\n0   1976      Carter, Jimmy           294.0      Carter, Jimmy1976\n1   1976       Ford, Gerald           241.0       Ford, Gerald1976\n2   1980      Carter, Jimmy            46.0      Carter, Jimmy1980\n3   1980     Reagan, Ronald           489.0     Reagan, Ronald1980\n4   1984    Mondale, Walter            10.0    Mondale, Walter1984\n5   1984     Reagan, Ronald           525.0     Reagan, Ronald1984\n6   1988  Bush, George H.W.           426.0  Bush, George H.W.1988\n7   1988   Dukakis, Michael           109.0   Dukakis, Michael1988\n8   1992  Bush, George H.W.           168.0  Bush, George H.W.1992\n9   1992      Clinton, Bill           367.0      Clinton, Bill1992\n10  1996      Clinton, Bill           376.0      Clinton, Bill1996\n11  1996       Dole, Robert           159.0       Dole, Robert1996\n12  2000    Bush, George W.           271.0    Bush, George W.2000\n13  2000           Gore, Al           264.0           Gore, Al2000\n14  2004    Bush, George W.           286.0    Bush, George W.2004\n15  2004        Kerry, John           249.0        Kerry, John2004\n16  2008       McCain, John           174.0       McCain, John2008\n17  2008   Obama, Barack H.           361.0   Obama, Barack H.2008\n18  2012   Obama, Barack H.           329.0   Obama, Barack H.2012\n19  2012       Romney, Mitt           206.0       Romney, Mitt2012\n20  2016   Clinton, Hillary           230.0   Clinton, Hillary2016\n21  2016   Trump, Donald J.           305.0   Trump, Donald J.2016",
      "text/html": "<div>\n<style scoped>\n    .dataframe tbody tr th:only-of-type {\n        vertical-align: middle;\n    }\n\n    .dataframe tbody tr th {\n        vertical-align: top;\n    }\n\n    .dataframe thead th {\n        text-align: right;\n    }\n</style>\n<table border=\"1\" class=\"dataframe\">\n  <thead>\n    <tr style=\"text-align: right;\">\n      <th></th>\n      <th>year</th>\n      <th>candidate</th>\n      <th>electoralvotes</th>\n      <th>new</th>\n    </tr>\n  </thead>\n  <tbody>\n    <tr>\n      <th>0</th>\n      <td>1976</td>\n      <td>Carter, Jimmy</td>\n      <td>294.0</td>\n      <td>Carter, Jimmy1976</td>\n    </tr>\n    <tr>\n      <th>1</th>\n      <td>1976</td>\n      <td>Ford, Gerald</td>\n      <td>241.0</td>\n      <td>Ford, Gerald1976</td>\n    </tr>\n    <tr>\n      <th>2</th>\n      <td>1980</td>\n      <td>Carter, Jimmy</td>\n      <td>46.0</td>\n      <td>Carter, Jimmy1980</td>\n    </tr>\n    <tr>\n      <th>3</th>\n      <td>1980</td>\n      <td>Reagan, Ronald</td>\n      <td>489.0</td>\n      <td>Reagan, Ronald1980</td>\n    </tr>\n    <tr>\n      <th>4</th>\n      <td>1984</td>\n      <td>Mondale, Walter</td>\n      <td>10.0</td>\n      <td>Mondale, Walter1984</td>\n    </tr>\n    <tr>\n      <th>5</th>\n      <td>1984</td>\n      <td>Reagan, Ronald</td>\n      <td>525.0</td>\n      <td>Reagan, Ronald1984</td>\n    </tr>\n    <tr>\n      <th>6</th>\n      <td>1988</td>\n      <td>Bush, George H.W.</td>\n      <td>426.0</td>\n      <td>Bush, George H.W.1988</td>\n    </tr>\n    <tr>\n      <th>7</th>\n      <td>1988</td>\n      <td>Dukakis, Michael</td>\n      <td>109.0</td>\n      <td>Dukakis, Michael1988</td>\n    </tr>\n    <tr>\n      <th>8</th>\n      <td>1992</td>\n      <td>Bush, George H.W.</td>\n      <td>168.0</td>\n      <td>Bush, George H.W.1992</td>\n    </tr>\n    <tr>\n      <th>9</th>\n      <td>1992</td>\n      <td>Clinton, Bill</td>\n      <td>367.0</td>\n      <td>Clinton, Bill1992</td>\n    </tr>\n    <tr>\n      <th>10</th>\n      <td>1996</td>\n      <td>Clinton, Bill</td>\n      <td>376.0</td>\n      <td>Clinton, Bill1996</td>\n    </tr>\n    <tr>\n      <th>11</th>\n      <td>1996</td>\n      <td>Dole, Robert</td>\n      <td>159.0</td>\n      <td>Dole, Robert1996</td>\n    </tr>\n    <tr>\n      <th>12</th>\n      <td>2000</td>\n      <td>Bush, George W.</td>\n      <td>271.0</td>\n      <td>Bush, George W.2000</td>\n    </tr>\n    <tr>\n      <th>13</th>\n      <td>2000</td>\n      <td>Gore, Al</td>\n      <td>264.0</td>\n      <td>Gore, Al2000</td>\n    </tr>\n    <tr>\n      <th>14</th>\n      <td>2004</td>\n      <td>Bush, George W.</td>\n      <td>286.0</td>\n      <td>Bush, George W.2004</td>\n    </tr>\n    <tr>\n      <th>15</th>\n      <td>2004</td>\n      <td>Kerry, John</td>\n      <td>249.0</td>\n      <td>Kerry, John2004</td>\n    </tr>\n    <tr>\n      <th>16</th>\n      <td>2008</td>\n      <td>McCain, John</td>\n      <td>174.0</td>\n      <td>McCain, John2008</td>\n    </tr>\n    <tr>\n      <th>17</th>\n      <td>2008</td>\n      <td>Obama, Barack H.</td>\n      <td>361.0</td>\n      <td>Obama, Barack H.2008</td>\n    </tr>\n    <tr>\n      <th>18</th>\n      <td>2012</td>\n      <td>Obama, Barack H.</td>\n      <td>329.0</td>\n      <td>Obama, Barack H.2012</td>\n    </tr>\n    <tr>\n      <th>19</th>\n      <td>2012</td>\n      <td>Romney, Mitt</td>\n      <td>206.0</td>\n      <td>Romney, Mitt2012</td>\n    </tr>\n    <tr>\n      <th>20</th>\n      <td>2016</td>\n      <td>Clinton, Hillary</td>\n      <td>230.0</td>\n      <td>Clinton, Hillary2016</td>\n    </tr>\n    <tr>\n      <th>21</th>\n      <td>2016</td>\n      <td>Trump, Donald J.</td>\n      <td>305.0</td>\n      <td>Trump, Donald J.2016</td>\n    </tr>\n  </tbody>\n</table>\n</div>"
     },
     "metadata": {},
     "execution_count": 281
    }
   ],
   "source": [
    "#electoral college df\n",
    "electoral_college = final_df[[\"year\", \"state\", \"candidate\",\"electoralvotes\", \"state_won_flag\"]]\n",
    "electoral_college = electoral_college.loc[electoral_college[\"state_won_flag\"] == '1']\n",
    "\n",
    "electoral_college = electoral_college.drop([\"state\",\"state_won_flag\" ], axis=1)\n",
    "electoral_college = electoral_college.groupby([\"year\", \"candidate\"]).sum().reset_index()\n",
    "\n",
    "electoral_college[\"new\"] = electoral_college[\"candidate\"] + electoral_college[\"year\"].astype(str)\n",
    "#electoral_college = electoral_college.sort_values([\"year\", \"electoralvotes\"], ascending=False)\n",
    "\n",
    "\n",
    "\n",
    "electoral_college_win = electoral_college.groupby(\"year\").head(2)\n",
    "electoral_college_win\n",
    "\n"
   ]
  },
  {
   "cell_type": "code",
   "execution_count": 282,
   "metadata": {},
   "outputs": [],
   "source": [
    "#start of year level dataset\n",
    "\n",
    "year_df = final_df.groupby([\"year\", \"candidate\"]).sum().reset_index().sort_values(by= [\"year\", \"candidatevotes\"], ascending=False).groupby(\"year\").head(1)\n",
    "popular_vote = year_df[[\"year\", \"candidate\", \"candidatevotes\"]]\n",
    "popular_vote[\"new\"] = popular_vote[\"candidate\"] + popular_vote[\"year\"].astype(str)\n",
    "\n",
    "\n",
    "\n",
    "year_df = final_df.groupby([\"year\", \"candidate\"]).sum().reset_index().sort_values(by= [\"year\", \"candidatevotes\"], ascending=False).groupby(\"year\").head(3)\n",
    "\n",
    "vote = year_df[[\"year\", \"candidate\", \"candidatevotes\"]]\n",
    "vote[\"new\"] = vote[\"candidate\"] + vote[\"year\"].astype(str)\n",
    "\n",
    "vote = vote.merge(popular_vote, how=\"left\", left_on=\"new\", right_on=\"new\", suffixes=('', 'drop'))\n",
    "vote = vote.merge(electoral_college, how=\"left\", left_on=\"new\", right_on=\"new\", suffixes=('', 'drop1'))"
   ]
  },
  {
   "cell_type": "code",
   "execution_count": 283,
   "metadata": {},
   "outputs": [
    {
     "output_type": "execute_result",
     "data": {
      "text/plain": "    year          candidate  candidatevotes won_pop_vote_flag  electoralvotes\n0   2016   Clinton, Hillary        65570751                 1           230.0\n1   2016   Trump, Donald J.        62972339                 0           305.0\n2   2016              Other         6974950                 0             0.0\n3   2012   Obama, Barack H.        65632590                 1           329.0\n4   2012       Romney, Mitt        59620101                 0           206.0\n5   2012              Other         3393086                 0             0.0\n6   2008   Obama, Barack H.        69252659                 1           361.0\n7   2008       McCain, John        59930916                 0           174.0\n8   2008              Other         1801173                 0             0.0\n9   2004    Bush, George W.        62007029                 1           286.0\n10  2004        Kerry, John        58825109                 0           249.0\n11  2004              Other         1321567                 0             0.0\n12  2000           Gore, Al        50824139                 1           264.0\n13  2000    Bush, George W.        50438096                 0           271.0\n14  2000              Other         3780845                 0             0.0\n15  1996      Clinton, Bill        47243678                 1           376.0\n16  1996       Dole, Robert        39181143                 0           159.0\n17  1996              Other         9017842                 0             0.0\n18  1992      Clinton, Bill        44761684                 1           367.0\n19  1992  Bush, George H.W.        39083174                 0           168.0\n20  1992              Other        20518016                 0             0.0\n21  1988  Bush, George H.W.        48858507                 1           426.0\n22  1988   Dukakis, Michael        41649667                 0           109.0\n23  1988              Other          806783                 0             0.0\n24  1984     Reagan, Ronald        54426064                 1           525.0\n25  1984    Mondale, Walter        37387729                 0            10.0\n26  1984              Other          629780                 0             0.0\n27  1980     Reagan, Ronald        43875457                 1           489.0\n28  1980      Carter, Jimmy        35350717                 0            46.0\n29  1980              Other         7078062                 0             0.0\n30  1976      Carter, Jimmy        40688021                 1           294.0\n31  1976       Ford, Gerald        39117898                 0           241.0\n32  1976              Other         1605338                 0             0.0",
      "text/html": "<div>\n<style scoped>\n    .dataframe tbody tr th:only-of-type {\n        vertical-align: middle;\n    }\n\n    .dataframe tbody tr th {\n        vertical-align: top;\n    }\n\n    .dataframe thead th {\n        text-align: right;\n    }\n</style>\n<table border=\"1\" class=\"dataframe\">\n  <thead>\n    <tr style=\"text-align: right;\">\n      <th></th>\n      <th>year</th>\n      <th>candidate</th>\n      <th>candidatevotes</th>\n      <th>won_pop_vote_flag</th>\n      <th>electoralvotes</th>\n    </tr>\n  </thead>\n  <tbody>\n    <tr>\n      <th>0</th>\n      <td>2016</td>\n      <td>Clinton, Hillary</td>\n      <td>65570751</td>\n      <td>1</td>\n      <td>230.0</td>\n    </tr>\n    <tr>\n      <th>1</th>\n      <td>2016</td>\n      <td>Trump, Donald J.</td>\n      <td>62972339</td>\n      <td>0</td>\n      <td>305.0</td>\n    </tr>\n    <tr>\n      <th>2</th>\n      <td>2016</td>\n      <td>Other</td>\n      <td>6974950</td>\n      <td>0</td>\n      <td>0.0</td>\n    </tr>\n    <tr>\n      <th>3</th>\n      <td>2012</td>\n      <td>Obama, Barack H.</td>\n      <td>65632590</td>\n      <td>1</td>\n      <td>329.0</td>\n    </tr>\n    <tr>\n      <th>4</th>\n      <td>2012</td>\n      <td>Romney, Mitt</td>\n      <td>59620101</td>\n      <td>0</td>\n      <td>206.0</td>\n    </tr>\n    <tr>\n      <th>5</th>\n      <td>2012</td>\n      <td>Other</td>\n      <td>3393086</td>\n      <td>0</td>\n      <td>0.0</td>\n    </tr>\n    <tr>\n      <th>6</th>\n      <td>2008</td>\n      <td>Obama, Barack H.</td>\n      <td>69252659</td>\n      <td>1</td>\n      <td>361.0</td>\n    </tr>\n    <tr>\n      <th>7</th>\n      <td>2008</td>\n      <td>McCain, John</td>\n      <td>59930916</td>\n      <td>0</td>\n      <td>174.0</td>\n    </tr>\n    <tr>\n      <th>8</th>\n      <td>2008</td>\n      <td>Other</td>\n      <td>1801173</td>\n      <td>0</td>\n      <td>0.0</td>\n    </tr>\n    <tr>\n      <th>9</th>\n      <td>2004</td>\n      <td>Bush, George W.</td>\n      <td>62007029</td>\n      <td>1</td>\n      <td>286.0</td>\n    </tr>\n    <tr>\n      <th>10</th>\n      <td>2004</td>\n      <td>Kerry, John</td>\n      <td>58825109</td>\n      <td>0</td>\n      <td>249.0</td>\n    </tr>\n    <tr>\n      <th>11</th>\n      <td>2004</td>\n      <td>Other</td>\n      <td>1321567</td>\n      <td>0</td>\n      <td>0.0</td>\n    </tr>\n    <tr>\n      <th>12</th>\n      <td>2000</td>\n      <td>Gore, Al</td>\n      <td>50824139</td>\n      <td>1</td>\n      <td>264.0</td>\n    </tr>\n    <tr>\n      <th>13</th>\n      <td>2000</td>\n      <td>Bush, George W.</td>\n      <td>50438096</td>\n      <td>0</td>\n      <td>271.0</td>\n    </tr>\n    <tr>\n      <th>14</th>\n      <td>2000</td>\n      <td>Other</td>\n      <td>3780845</td>\n      <td>0</td>\n      <td>0.0</td>\n    </tr>\n    <tr>\n      <th>15</th>\n      <td>1996</td>\n      <td>Clinton, Bill</td>\n      <td>47243678</td>\n      <td>1</td>\n      <td>376.0</td>\n    </tr>\n    <tr>\n      <th>16</th>\n      <td>1996</td>\n      <td>Dole, Robert</td>\n      <td>39181143</td>\n      <td>0</td>\n      <td>159.0</td>\n    </tr>\n    <tr>\n      <th>17</th>\n      <td>1996</td>\n      <td>Other</td>\n      <td>9017842</td>\n      <td>0</td>\n      <td>0.0</td>\n    </tr>\n    <tr>\n      <th>18</th>\n      <td>1992</td>\n      <td>Clinton, Bill</td>\n      <td>44761684</td>\n      <td>1</td>\n      <td>367.0</td>\n    </tr>\n    <tr>\n      <th>19</th>\n      <td>1992</td>\n      <td>Bush, George H.W.</td>\n      <td>39083174</td>\n      <td>0</td>\n      <td>168.0</td>\n    </tr>\n    <tr>\n      <th>20</th>\n      <td>1992</td>\n      <td>Other</td>\n      <td>20518016</td>\n      <td>0</td>\n      <td>0.0</td>\n    </tr>\n    <tr>\n      <th>21</th>\n      <td>1988</td>\n      <td>Bush, George H.W.</td>\n      <td>48858507</td>\n      <td>1</td>\n      <td>426.0</td>\n    </tr>\n    <tr>\n      <th>22</th>\n      <td>1988</td>\n      <td>Dukakis, Michael</td>\n      <td>41649667</td>\n      <td>0</td>\n      <td>109.0</td>\n    </tr>\n    <tr>\n      <th>23</th>\n      <td>1988</td>\n      <td>Other</td>\n      <td>806783</td>\n      <td>0</td>\n      <td>0.0</td>\n    </tr>\n    <tr>\n      <th>24</th>\n      <td>1984</td>\n      <td>Reagan, Ronald</td>\n      <td>54426064</td>\n      <td>1</td>\n      <td>525.0</td>\n    </tr>\n    <tr>\n      <th>25</th>\n      <td>1984</td>\n      <td>Mondale, Walter</td>\n      <td>37387729</td>\n      <td>0</td>\n      <td>10.0</td>\n    </tr>\n    <tr>\n      <th>26</th>\n      <td>1984</td>\n      <td>Other</td>\n      <td>629780</td>\n      <td>0</td>\n      <td>0.0</td>\n    </tr>\n    <tr>\n      <th>27</th>\n      <td>1980</td>\n      <td>Reagan, Ronald</td>\n      <td>43875457</td>\n      <td>1</td>\n      <td>489.0</td>\n    </tr>\n    <tr>\n      <th>28</th>\n      <td>1980</td>\n      <td>Carter, Jimmy</td>\n      <td>35350717</td>\n      <td>0</td>\n      <td>46.0</td>\n    </tr>\n    <tr>\n      <th>29</th>\n      <td>1980</td>\n      <td>Other</td>\n      <td>7078062</td>\n      <td>0</td>\n      <td>0.0</td>\n    </tr>\n    <tr>\n      <th>30</th>\n      <td>1976</td>\n      <td>Carter, Jimmy</td>\n      <td>40688021</td>\n      <td>1</td>\n      <td>294.0</td>\n    </tr>\n    <tr>\n      <th>31</th>\n      <td>1976</td>\n      <td>Ford, Gerald</td>\n      <td>39117898</td>\n      <td>0</td>\n      <td>241.0</td>\n    </tr>\n    <tr>\n      <th>32</th>\n      <td>1976</td>\n      <td>Other</td>\n      <td>1605338</td>\n      <td>0</td>\n      <td>0.0</td>\n    </tr>\n  </tbody>\n</table>\n</div>"
     },
     "metadata": {},
     "execution_count": 283
    }
   ],
   "source": [
    "vote = vote.drop([\"new\", \"yeardrop\", \"yeardrop1\", \"candidatevotesdrop\", \"candidatedrop1\"], axis=1)\n",
    "vote[\"electoralvotes\"] = vote[\"electoralvotes\"].fillna(0)\n",
    "vote[\"candidatedrop\"] = vote[\"candidatedrop\"].fillna(0)\n",
    "\n",
    "vote.loc[vote[\"candidatedrop\"] != 0, [\"candidatedrop\"]] = '1'\n",
    "#vote.loc[vote[\"candidatedrop\"] == 0, [\"candidatedrop\"]] = '0'\n",
    "\n",
    "vote.rename(columns={\"candidatedrop\": \"won_pop_vote_flag\"}, inplace=True)\n",
    "\n",
    "vote"
   ]
  },
  {
   "cell_type": "code",
   "execution_count": 284,
   "metadata": {},
   "outputs": [
    {
     "output_type": "execute_result",
     "data": {
      "text/plain": "    year  totalvotes  Eligible_voting_pop      perc\n0   1976    81432514                  0.0       inf\n1   1980    86322962          157431825.0  0.548320\n2   1984    92443573          164946657.0  0.560445\n3   1988    91393948          170699171.0  0.535409\n4   1992   104372208          176954186.0  0.589826\n5   1996    96204092          183628183.0  0.523907\n6   2000   105392088          191213067.0  0.551176\n7   2004   122121864          199352847.0  0.612592\n8   2008   131153400          208197066.0  0.629948\n9   2012   128846233          217172515.0  0.593290\n10  2016   136474612          225895098.0  0.604150",
      "text/html": "<div>\n<style scoped>\n    .dataframe tbody tr th:only-of-type {\n        vertical-align: middle;\n    }\n\n    .dataframe tbody tr th {\n        vertical-align: top;\n    }\n\n    .dataframe thead th {\n        text-align: right;\n    }\n</style>\n<table border=\"1\" class=\"dataframe\">\n  <thead>\n    <tr style=\"text-align: right;\">\n      <th></th>\n      <th>year</th>\n      <th>totalvotes</th>\n      <th>Eligible_voting_pop</th>\n      <th>perc</th>\n    </tr>\n  </thead>\n  <tbody>\n    <tr>\n      <th>0</th>\n      <td>1976</td>\n      <td>81432514</td>\n      <td>0.0</td>\n      <td>inf</td>\n    </tr>\n    <tr>\n      <th>1</th>\n      <td>1980</td>\n      <td>86322962</td>\n      <td>157431825.0</td>\n      <td>0.548320</td>\n    </tr>\n    <tr>\n      <th>2</th>\n      <td>1984</td>\n      <td>92443573</td>\n      <td>164946657.0</td>\n      <td>0.560445</td>\n    </tr>\n    <tr>\n      <th>3</th>\n      <td>1988</td>\n      <td>91393948</td>\n      <td>170699171.0</td>\n      <td>0.535409</td>\n    </tr>\n    <tr>\n      <th>4</th>\n      <td>1992</td>\n      <td>104372208</td>\n      <td>176954186.0</td>\n      <td>0.589826</td>\n    </tr>\n    <tr>\n      <th>5</th>\n      <td>1996</td>\n      <td>96204092</td>\n      <td>183628183.0</td>\n      <td>0.523907</td>\n    </tr>\n    <tr>\n      <th>6</th>\n      <td>2000</td>\n      <td>105392088</td>\n      <td>191213067.0</td>\n      <td>0.551176</td>\n    </tr>\n    <tr>\n      <th>7</th>\n      <td>2004</td>\n      <td>122121864</td>\n      <td>199352847.0</td>\n      <td>0.612592</td>\n    </tr>\n    <tr>\n      <th>8</th>\n      <td>2008</td>\n      <td>131153400</td>\n      <td>208197066.0</td>\n      <td>0.629948</td>\n    </tr>\n    <tr>\n      <th>9</th>\n      <td>2012</td>\n      <td>128846233</td>\n      <td>217172515.0</td>\n      <td>0.593290</td>\n    </tr>\n    <tr>\n      <th>10</th>\n      <td>2016</td>\n      <td>136474612</td>\n      <td>225895098.0</td>\n      <td>0.604150</td>\n    </tr>\n  </tbody>\n</table>\n</div>"
     },
     "metadata": {},
     "execution_count": 284
    }
   ],
   "source": [
    "turnout_votes = final_working_df[[\"year\", \"totalvotes\"]]\n",
    "turnout_eligible = final_working_df[[\"year\", \"Eligible_voting_pop\"]]\n",
    "\n",
    "turnout_votes.drop_duplicates(inplace=True)\n",
    "#turnout_votes\n",
    "\n",
    "turnout_eligible.drop_duplicates(inplace=True)\n",
    "#turnout_eligible\n",
    "\n",
    "turnout_votes = turnout_votes.groupby(\"year\").sum()\n",
    "#turnout_votes\n",
    "\n",
    "turnout_eligible = turnout_eligible.groupby(\"year\").sum().reset_index()\n",
    "\n",
    "turnout = turnout_votes.merge(turnout_eligible, how = \"left\", on=\"year\")\n",
    "turnout\n",
    "\n",
    "turnout[\"perc\"] = turnout[\"totalvotes\"]/ turnout[\"Eligible_voting_pop\"].round(2)\n",
    "turnout"
   ]
  },
  {
   "cell_type": "code",
   "execution_count": null,
   "metadata": {},
   "outputs": [],
   "source": []
  }
 ],
 "metadata": {
  "language_info": {
   "codemirror_mode": {
    "name": "ipython",
    "version": 3
   },
   "file_extension": ".py",
   "mimetype": "text/x-python",
   "name": "python",
   "nbconvert_exporter": "python",
   "pygments_lexer": "ipython3",
   "version": "3.7.6-final"
  },
  "orig_nbformat": 2,
  "kernelspec": {
   "name": "python361064bitpythondataconda702a049063da4b8fb25107aa449393fc",
   "display_name": "Python 3.6.10 64-bit ('PythonData': conda)"
  }
 },
 "nbformat": 4,
 "nbformat_minor": 2
}